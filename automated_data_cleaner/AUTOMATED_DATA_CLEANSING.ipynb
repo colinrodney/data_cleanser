{
 "cells": [
  {
   "cell_type": "code",
   "execution_count": 1,
   "id": "6c41cd13-dda9-43b2-8823-9e4bf095edaf",
   "metadata": {},
   "outputs": [
    {
     "name": "stdout",
     "output_type": "stream",
     "text": [
      "Requirement already satisfied: import-ipynb in c:\\users\\cessn\\miniconda3\\lib\\site-packages (0.2)\n",
      "Requirement already satisfied: IPython in c:\\users\\cessn\\miniconda3\\lib\\site-packages (from import-ipynb) (9.2.0)\n",
      "Requirement already satisfied: nbformat in c:\\users\\cessn\\miniconda3\\lib\\site-packages (from import-ipynb) (5.10.4)\n",
      "Requirement already satisfied: colorama in c:\\users\\cessn\\miniconda3\\lib\\site-packages (from IPython->import-ipynb) (0.4.6)\n",
      "Requirement already satisfied: decorator in c:\\users\\cessn\\miniconda3\\lib\\site-packages (from IPython->import-ipynb) (5.2.1)\n",
      "Requirement already satisfied: ipython-pygments-lexers in c:\\users\\cessn\\miniconda3\\lib\\site-packages (from IPython->import-ipynb) (1.1.1)\n",
      "Requirement already satisfied: jedi>=0.16 in c:\\users\\cessn\\miniconda3\\lib\\site-packages (from IPython->import-ipynb) (0.19.2)\n",
      "Requirement already satisfied: matplotlib-inline in c:\\users\\cessn\\miniconda3\\lib\\site-packages (from IPython->import-ipynb) (0.1.7)\n",
      "Requirement already satisfied: prompt_toolkit<3.1.0,>=3.0.41 in c:\\users\\cessn\\miniconda3\\lib\\site-packages (from IPython->import-ipynb) (3.0.51)\n",
      "Requirement already satisfied: pygments>=2.4.0 in c:\\users\\cessn\\miniconda3\\lib\\site-packages (from IPython->import-ipynb) (2.19.1)\n",
      "Requirement already satisfied: stack_data in c:\\users\\cessn\\miniconda3\\lib\\site-packages (from IPython->import-ipynb) (0.6.3)\n",
      "Requirement already satisfied: traitlets>=5.13.0 in c:\\users\\cessn\\miniconda3\\lib\\site-packages (from IPython->import-ipynb) (5.14.3)\n",
      "Requirement already satisfied: fastjsonschema>=2.15 in c:\\users\\cessn\\miniconda3\\lib\\site-packages (from nbformat->import-ipynb) (2.21.1)\n",
      "Requirement already satisfied: jsonschema>=2.6 in c:\\users\\cessn\\miniconda3\\lib\\site-packages (from nbformat->import-ipynb) (4.23.0)\n",
      "Requirement already satisfied: jupyter-core!=5.0.*,>=4.12 in c:\\users\\cessn\\miniconda3\\lib\\site-packages (from nbformat->import-ipynb) (5.7.2)\n",
      "Requirement already satisfied: parso<0.9.0,>=0.8.4 in c:\\users\\cessn\\miniconda3\\lib\\site-packages (from jedi>=0.16->IPython->import-ipynb) (0.8.4)\n",
      "Requirement already satisfied: attrs>=22.2.0 in c:\\users\\cessn\\miniconda3\\lib\\site-packages (from jsonschema>=2.6->nbformat->import-ipynb) (25.3.0)\n",
      "Requirement already satisfied: jsonschema-specifications>=2023.03.6 in c:\\users\\cessn\\miniconda3\\lib\\site-packages (from jsonschema>=2.6->nbformat->import-ipynb) (2025.4.1)\n",
      "Requirement already satisfied: referencing>=0.28.4 in c:\\users\\cessn\\miniconda3\\lib\\site-packages (from jsonschema>=2.6->nbformat->import-ipynb) (0.36.2)\n",
      "Requirement already satisfied: rpds-py>=0.7.1 in c:\\users\\cessn\\miniconda3\\lib\\site-packages (from jsonschema>=2.6->nbformat->import-ipynb) (0.25.0)\n",
      "Requirement already satisfied: platformdirs>=2.5 in c:\\users\\cessn\\miniconda3\\lib\\site-packages (from jupyter-core!=5.0.*,>=4.12->nbformat->import-ipynb) (4.3.7)\n",
      "Requirement already satisfied: pywin32>=300 in c:\\users\\cessn\\miniconda3\\lib\\site-packages (from jupyter-core!=5.0.*,>=4.12->nbformat->import-ipynb) (310)\n",
      "Requirement already satisfied: wcwidth in c:\\users\\cessn\\miniconda3\\lib\\site-packages (from prompt_toolkit<3.1.0,>=3.0.41->IPython->import-ipynb) (0.2.13)\n",
      "Requirement already satisfied: executing>=1.2.0 in c:\\users\\cessn\\miniconda3\\lib\\site-packages (from stack_data->IPython->import-ipynb) (2.2.0)\n",
      "Requirement already satisfied: asttokens>=2.1.0 in c:\\users\\cessn\\miniconda3\\lib\\site-packages (from stack_data->IPython->import-ipynb) (3.0.0)\n",
      "Requirement already satisfied: pure-eval in c:\\users\\cessn\\miniconda3\\lib\\site-packages (from stack_data->IPython->import-ipynb) (0.2.3)\n",
      "Note: you may need to restart the kernel to use updated packages.\n",
      "Requirement already satisfied: openpyxl in c:\\users\\cessn\\appdata\\roaming\\python\\python313\\site-packages (3.1.5)\n",
      "Requirement already satisfied: et-xmlfile in c:\\users\\cessn\\appdata\\roaming\\python\\python313\\site-packages (from openpyxl) (2.0.0)\n",
      "Note: you may need to restart the kernel to use updated packages.\n",
      "Requirement already satisfied: xlrd in c:\\users\\cessn\\miniconda3\\lib\\site-packages (2.0.2)\n",
      "Note: you may need to restart the kernel to use updated packages.\n"
     ]
    }
   ],
   "source": [
    "%pip install import-ipynb\n",
    "%pip install openpyxl\n",
    "%pip install xlrd\n",
    "\n",
    "import import_ipynb\n",
    "# import load_data\n",
    "# import clean_column_names\n",
    "# import write_file_as_output\n",
    "# import normalize_strings\n",
    "# import fill_missing_values\n",
    "# import text_to_numeric\n",
    "# import drop_columns\n",
    "import pandas as pd\n",
    "import os\n",
    "import re\n",
    "import numpy as np\n"
   ]
  },
  {
   "cell_type": "markdown",
   "id": "d13e7398-f479-45a5-8ffc-42806960a081",
   "metadata": {},
   "source": [
    "# Data Cleansing Functions (THIS IS THE ACTUAL DATA CLEANER)"
   ]
  },
  {
   "cell_type": "code",
   "execution_count": 2,
   "id": "df735a41-f52a-4cab-bc8c-230837f54c10",
   "metadata": {},
   "outputs": [],
   "source": [
    "# # LOAD DATA\n",
    "# def load_file(file_path):\n",
    "#     print('Filepath: ',file_path)\n",
    "\n",
    "#     # converts filepath extension to lowercase\n",
    "#     ext = os.path.splitext(file_path)[-1].lower()\n",
    "\n",
    "#     # Handle .csv files\n",
    "#     \"\"\"pd.read_csv expects a file path as its argument - above line of code will not work\n",
    "#     because it is being passed a DataFrame/ Series object created by load file method and saved\n",
    "#     to variable named 'file'\n",
    "#     \"\"\"\n",
    "#     if ext in ['.csv']:\n",
    "#         return pd.read_csv(file_path)\n",
    "\n",
    "#     # Handle excel spreadsheet files\n",
    "#     elif ext in ['.xls', '.xlsx']:\n",
    "#         # return pd.read_excel(file_path, engine=\"openpyxl\")|pd.read_excel(file_path, engine=\"xlrd\")\n",
    "#         return pd.read_excel(file_path, engine=\"openpyxl\")\n",
    "    \n",
    "#     # All other files\n",
    "#     else:\n",
    "#         raise ValueError(\"Unsupported file type\")\n",
    "\n",
    "\n",
    "    "
   ]
  },
  {
   "cell_type": "code",
   "execution_count": 3,
   "id": "a5aaf13f-4d53-4582-9b53-0fcea55d1db6",
   "metadata": {},
   "outputs": [],
   "source": [
    "# # CREATE DATAFRAME FROM FILE AT SPECIFIED FILEPATH: NOTE- THIS CALLS load_file() function\n",
    "# def create_dataframe(file_path):\n",
    "#     # df_2 = ORIGINAL df_2\n",
    "#     # df_2 = DataFrame to be cleansed\n",
    "    \n",
    "#     df_2 = load_file(file_path)\n",
    "\n",
    "#     #Create FILE TO BE CLEANSED via deep copy of original df_2 to new variable \n",
    "#     df_2 = df_2.copy()\n",
    "#     print(f\"FILE READY FOR CLEANSING\\n\")\n",
    "    \n",
    "#     # print(df_2.info(),\"\\n\")\n",
    "#     # print(df_2.shape, \"\\n\")\n",
    "#     # # print(df_2_2.describe, \"\\n\")\n",
    "\n",
    "#     return df_2, file_path\n",
    "\n",
    "\n",
    "# # FUNCTION CALL create_dataframe() function - NOTE: df_2_2 stores deep copied file on which actual data cleansing happens!\n",
    "# # df_2, file_path = create_dataframe(r'C:\\Users\\Cessn\\OneDrive\\Desktop\\sample_datasets\\data_scientist\\csv_files\\DataScientist2.csv')\n",
    "# df_2, file_path = create_dataframe(r'C:\\Users\\Cessn\\OneDrive\\Desktop\\sample_datasets\\example_import\\example_import_original-MAIN.csv')\n",
    "# print(f\"{file_path}\")"
   ]
  },
  {
   "cell_type": "code",
   "execution_count": null,
   "id": "ec76886f-55d8-4891-8de3-fb18a460216b",
   "metadata": {},
   "outputs": [],
   "source": []
  },
  {
   "cell_type": "code",
   "execution_count": null,
   "id": "4f210cf4-556e-4fc7-a91f-97fcf91fc162",
   "metadata": {},
   "outputs": [],
   "source": []
  },
  {
   "cell_type": "code",
   "execution_count": null,
   "id": "e92047f7-9dfe-412d-a2b7-11e786957928",
   "metadata": {},
   "outputs": [],
   "source": []
  },
  {
   "cell_type": "code",
   "execution_count": null,
   "id": "c1ff81ba-f2ee-495c-85a3-4745997b5b1a",
   "metadata": {},
   "outputs": [],
   "source": []
  },
  {
   "cell_type": "code",
   "execution_count": null,
   "id": "2b9261e5-6d57-48cc-b0db-b1df9c0c29f7",
   "metadata": {},
   "outputs": [],
   "source": []
  },
  {
   "cell_type": "code",
   "execution_count": 4,
   "id": "067dcc06-f543-4461-b804-940f0efaaf60",
   "metadata": {},
   "outputs": [],
   "source": [
    "# # SUMMARIZE DATA SET\n",
    "# ''' Ex: Column Names, '''\n",
    "\n",
    "# def summarize_data(df_2):\n",
    "#     print(\"DataFrame Information: '\\n' \",)\n",
    "#     print(df_2.info(),\"\\n\")\n",
    "#     print(f\"Data Shape: (# of Rows, # of Columns): '\\n' \", df_2.shape, \"\\n\")\n",
    "#     # print(df_2_2.describe, \"\\n\")\n",
    "\n",
    "#     # Show count of null values etc\n",
    "#     print(\"SUM OF NULL/ BLANK VALUES: '\\n' \", df_2.isnull().sum(), \"\\n\")\n",
    "\n",
    "# # CALL FUNCTION\n",
    "# summary_data = summarize_data(df_2)"
   ]
  },
  {
   "cell_type": "code",
   "execution_count": null,
   "id": "ab78cd00-78c9-4677-be0a-d420d326bc97",
   "metadata": {},
   "outputs": [],
   "source": []
  },
  {
   "cell_type": "code",
   "execution_count": 5,
   "id": "8560ba11-1fa5-473b-8dad-f88ef3567b3c",
   "metadata": {},
   "outputs": [],
   "source": [
    "# # WRITE CLEANSED FILE AS OUTPUT \n",
    "# def output_file(df_2, file_path):\n",
    "#     output_path = r'C:\\Users\\Cessn\\OneDrive\\Desktop\\sample_datasets\\example_import\\cleaned_data'\n",
    "#     # MAKE SURE TO LIST FULL PATH TO OUTPUT FILE OTHERWISE FILL WILL BE WRITTEIN IN DIRECTORY IN WHICH THIS FILE RESIDES!\n",
    "#     # df_2.to_csv(r'C:\\Users\\Cessn\\OneDrive\\Desktop\\sample_datasets\\city_of_baton_rouge\\cats\\Bus_Stop_CLEANSED.csv')\n",
    "#     df_2.to_csv(output_path)\n",
    "#     print(f\"Cleaned data saved!\")"
   ]
  },
  {
   "cell_type": "code",
   "execution_count": 6,
   "id": "88a754d0-3cc5-4c70-8d44-799a330b4b38",
   "metadata": {},
   "outputs": [],
   "source": [
    "# # NORMALIZE/ STANDARDIZE: COLUMN NAMES (ALL DATASETS)\n",
    "\n",
    "# # Clean column names\n",
    "# ''' Captures all column names in DataFrame + Does following actions:\n",
    "# 1. Strip whitespace (both left/right side of string)\n",
    "# 2. Convert column names to all lowercase\n",
    "# 3. Locates regex pattern specified (replaces any char that is NOT a letter or number with an underscore)\n",
    "# 4. str.strip('_') removes any underscore characters at start/ end of string \n",
    "# (https://www.w3schools.com/python/ref_string_strip.asp)\n",
    "# '''\n",
    "# def clean_column_names(df_2):\n",
    "#     df_2.columns = (\n",
    "#         df_2.columns.str.strip()\n",
    "#                   .str.lower()\n",
    "#                   .str.replace(r'[^a-z0-9]+', '_', regex=True)\n",
    "#                   # .str.strip('_')\n",
    "#     )\n",
    "#     return df_2\n",
    "\n",
    "# # CALL FUNCTION\n",
    "# df_2 = clean_column_names(df_2)\n",
    "# # write_output(file_path)"
   ]
  },
  {
   "cell_type": "code",
   "execution_count": null,
   "id": "95028b1d-8ad7-4f5a-895e-beccaa6f50c6",
   "metadata": {},
   "outputs": [],
   "source": []
  },
  {
   "cell_type": "code",
   "execution_count": null,
   "id": "754971e3-f4c4-42e4-9185-4c04195ab89f",
   "metadata": {},
   "outputs": [],
   "source": []
  },
  {
   "cell_type": "code",
   "execution_count": 7,
   "id": "2b22332a-c32a-45c5-8186-f450285d63ba",
   "metadata": {},
   "outputs": [],
   "source": [
    "# # NORMALIZE/ STANDARDIZE: EMAIL ADDRESSES (CRM DATASETS)\n",
    "# def cleanse_email_address(df_2):\n",
    "#     # df_2[\"email\"].str.strip()\n",
    "#     # df_2.replace(r\"[+AEA-]{1}\", \"@\", regex=True)\n",
    "#     # return df_2\n",
    "#     df_2['email'] = df_2['email'].str.replace(\"+AEA-\",\"@\")\n",
    "#     df_2['join_date'] = df_2['join_date'].str.replace(\"+AC0-\",\"/\") # STANDARDIZE DATES\n",
    "#     return df_2\n",
    "\n",
    "# # CALL FUNCTION:\n",
    "# df_2 = cleanse_email_address(df_2)"
   ]
  },
  {
   "cell_type": "code",
   "execution_count": null,
   "id": "cb8ddcd0-de3d-4aba-8703-1c32e29cd96b",
   "metadata": {},
   "outputs": [],
   "source": []
  },
  {
   "cell_type": "code",
   "execution_count": null,
   "id": "7a41a026-8137-4f3b-93c9-c22e654fe813",
   "metadata": {},
   "outputs": [],
   "source": []
  },
  {
   "cell_type": "code",
   "execution_count": 8,
   "id": "7cc06a7b-21eb-42e4-a296-9a8e613b1244",
   "metadata": {},
   "outputs": [],
   "source": [
    "# def standardize_names(df_2):\n",
    "#     df_2['name'] = df_2['name'].str.lower()\n",
    "#     df_2['name'] = df_2['name'].str.title() # Capitalize first letter of each name\n",
    "#     return df_2\n",
    "\n",
    "# # CALL FUNCTION:\n",
    "# df_2 = standardize_names(df_2)\n",
    "# df_2['name']"
   ]
  },
  {
   "cell_type": "code",
   "execution_count": null,
   "id": "d8b4be67-d5b1-41f4-b9c2-d5a5ad40b5a7",
   "metadata": {},
   "outputs": [],
   "source": []
  },
  {
   "cell_type": "code",
   "execution_count": 9,
   "id": "99793555-cd61-475b-aa4c-f2807f34ea0f",
   "metadata": {},
   "outputs": [],
   "source": [
    "#"
   ]
  },
  {
   "cell_type": "code",
   "execution_count": null,
   "id": "c3474623-5ac6-4de7-a3a8-19a917bdb942",
   "metadata": {},
   "outputs": [],
   "source": []
  },
  {
   "cell_type": "code",
   "execution_count": null,
   "id": "e542a3ec-603e-4edc-aef7-28ed2f98f01a",
   "metadata": {},
   "outputs": [],
   "source": []
  },
  {
   "cell_type": "code",
   "execution_count": null,
   "id": "a84ec5d8-39c6-46dd-aac4-b517619e9079",
   "metadata": {},
   "outputs": [],
   "source": []
  },
  {
   "cell_type": "code",
   "execution_count": null,
   "id": "7c1028cd-6500-46ea-a468-96658d975590",
   "metadata": {},
   "outputs": [],
   "source": []
  },
  {
   "cell_type": "code",
   "execution_count": null,
   "id": "08e53dea-ac80-47da-940e-98801812a421",
   "metadata": {},
   "outputs": [],
   "source": []
  },
  {
   "cell_type": "code",
   "execution_count": null,
   "id": "23d1b6ad-7b25-4b33-a864-09e705383914",
   "metadata": {},
   "outputs": [],
   "source": []
  },
  {
   "cell_type": "code",
   "execution_count": 10,
   "id": "c4b7c14b-d7e8-4a12-b829-8d3ba3e7af6e",
   "metadata": {},
   "outputs": [],
   "source": [
    "# print(df_2[['email', 'join_date']])"
   ]
  },
  {
   "cell_type": "code",
   "execution_count": 11,
   "id": "7e0b1dfa-09c6-4e14-9f5c-1f172e291ccb",
   "metadata": {},
   "outputs": [],
   "source": [
    "# df_2"
   ]
  },
  {
   "cell_type": "code",
   "execution_count": null,
   "id": "fc52fb74-2a7c-4a35-a625-2441aef5ef58",
   "metadata": {},
   "outputs": [],
   "source": []
  },
  {
   "cell_type": "code",
   "execution_count": null,
   "id": "78b72e31-8f25-4278-9902-1d0d6882520a",
   "metadata": {},
   "outputs": [],
   "source": []
  },
  {
   "cell_type": "code",
   "execution_count": null,
   "id": "c59e1ef3-4519-4bb7-b5f8-e233e6bd9c7d",
   "metadata": {},
   "outputs": [],
   "source": []
  },
  {
   "cell_type": "code",
   "execution_count": null,
   "id": "b523b09f-c558-4a7a-8a5c-eae7fbab6bb2",
   "metadata": {},
   "outputs": [],
   "source": []
  },
  {
   "cell_type": "code",
   "execution_count": null,
   "id": "17c5adce-7aab-4270-8c04-efd0da671fce",
   "metadata": {},
   "outputs": [],
   "source": [
    "\n"
   ]
  },
  {
   "cell_type": "code",
   "execution_count": null,
   "id": "999d028a-115c-4e4d-830c-4c0f8aa73cf0",
   "metadata": {},
   "outputs": [],
   "source": []
  },
  {
   "cell_type": "code",
   "execution_count": null,
   "id": "04ecc1dc-9ab2-43ec-9c65-408f74287932",
   "metadata": {},
   "outputs": [],
   "source": []
  },
  {
   "cell_type": "code",
   "execution_count": null,
   "id": "77be6634-9808-4083-aa02-dcd15500805d",
   "metadata": {},
   "outputs": [],
   "source": []
  },
  {
   "cell_type": "code",
   "execution_count": null,
   "id": "81a78759-f835-4a30-8684-4061e02c8dc3",
   "metadata": {},
   "outputs": [],
   "source": []
  },
  {
   "cell_type": "code",
   "execution_count": null,
   "id": "362fcc36-f2f3-44bf-9af9-3eeba6fda81a",
   "metadata": {},
   "outputs": [],
   "source": []
  },
  {
   "cell_type": "code",
   "execution_count": null,
   "id": "24a313a0-7ffb-4eb6-bc6e-94fb6094ff1f",
   "metadata": {},
   "outputs": [],
   "source": []
  },
  {
   "cell_type": "code",
   "execution_count": null,
   "id": "b796a389-b3c8-4ab6-8258-d67445e86cc7",
   "metadata": {},
   "outputs": [],
   "source": []
  },
  {
   "cell_type": "code",
   "execution_count": null,
   "id": "fb869f62-a97a-4dab-8aaf-17f1621ba54a",
   "metadata": {},
   "outputs": [],
   "source": []
  },
  {
   "cell_type": "code",
   "execution_count": null,
   "id": "1a095a85-1be5-4cd8-9c31-8e39294980c8",
   "metadata": {},
   "outputs": [],
   "source": []
  },
  {
   "cell_type": "code",
   "execution_count": null,
   "id": "5ae2d68d-a3f1-4a5d-bc77-1a60b385c792",
   "metadata": {},
   "outputs": [],
   "source": []
  },
  {
   "cell_type": "code",
   "execution_count": null,
   "id": "040c3a69-df26-4eda-a5f0-a31a5287d525",
   "metadata": {},
   "outputs": [],
   "source": []
  },
  {
   "cell_type": "code",
   "execution_count": null,
   "id": "c291555f-2216-4d56-8e17-d62464389c79",
   "metadata": {},
   "outputs": [],
   "source": []
  },
  {
   "cell_type": "code",
   "execution_count": null,
   "id": "fc45b1d9-bbee-4d65-99c3-74436c766113",
   "metadata": {},
   "outputs": [],
   "source": []
  },
  {
   "cell_type": "code",
   "execution_count": null,
   "id": "1dd9ab4a-2ec1-4905-9163-28efecff8f30",
   "metadata": {},
   "outputs": [],
   "source": []
  },
  {
   "cell_type": "code",
   "execution_count": null,
   "id": "1d4508fe-87b2-4a15-bd7f-e134f3c5b456",
   "metadata": {},
   "outputs": [],
   "source": []
  },
  {
   "cell_type": "code",
   "execution_count": null,
   "id": "50747ddb-3fe1-45b5-99eb-d2f99f05e92e",
   "metadata": {},
   "outputs": [],
   "source": []
  },
  {
   "cell_type": "code",
   "execution_count": null,
   "id": "fd668a6c-7e0b-480b-8cc1-b6abe5021806",
   "metadata": {},
   "outputs": [],
   "source": []
  },
  {
   "cell_type": "code",
   "execution_count": null,
   "id": "bad788ef-82f5-4842-92a3-de501558f245",
   "metadata": {},
   "outputs": [],
   "source": []
  },
  {
   "cell_type": "code",
   "execution_count": null,
   "id": "58674b46-8bcf-40aa-b0c6-b2bf6ff18221",
   "metadata": {},
   "outputs": [],
   "source": []
  },
  {
   "cell_type": "code",
   "execution_count": null,
   "id": "f70bb90a-4866-4e84-a7a2-1830c881ae21",
   "metadata": {},
   "outputs": [],
   "source": []
  },
  {
   "cell_type": "code",
   "execution_count": null,
   "id": "4f2962c5-af33-4165-8dac-e782232c56a6",
   "metadata": {},
   "outputs": [],
   "source": []
  },
  {
   "cell_type": "code",
   "execution_count": null,
   "id": "c3cfdb80-d4a7-4fb4-9593-f50059d02ed7",
   "metadata": {},
   "outputs": [],
   "source": []
  },
  {
   "cell_type": "code",
   "execution_count": null,
   "id": "f85c457e-a281-4a4d-9e55-148068ae0aaa",
   "metadata": {},
   "outputs": [],
   "source": []
  },
  {
   "cell_type": "code",
   "execution_count": null,
   "id": "133a4cb1-ddb8-4c0b-932d-b99bec78418e",
   "metadata": {},
   "outputs": [],
   "source": []
  },
  {
   "cell_type": "code",
   "execution_count": 12,
   "id": "5a2ccbf1-2970-4f56-aea6-c9fbdda032d9",
   "metadata": {},
   "outputs": [],
   "source": [
    "# output_file(df_2, file_path)"
   ]
  },
  {
   "cell_type": "code",
   "execution_count": null,
   "id": "d63dc5f5-9110-47ea-8ad2-cb11e0af4777",
   "metadata": {},
   "outputs": [],
   "source": []
  },
  {
   "cell_type": "code",
   "execution_count": null,
   "id": "ef289832-c688-4796-9f3e-527fd022cb04",
   "metadata": {},
   "outputs": [],
   "source": []
  },
  {
   "cell_type": "code",
   "execution_count": null,
   "id": "dbb76568-596e-49df-a317-4ea7ad09fbfe",
   "metadata": {},
   "outputs": [],
   "source": []
  },
  {
   "cell_type": "code",
   "execution_count": null,
   "id": "0e514da2-8c37-4ab2-aedd-dc6ef1845b83",
   "metadata": {},
   "outputs": [],
   "source": []
  },
  {
   "cell_type": "code",
   "execution_count": null,
   "id": "2b0a068d-312a-45b2-b471-4ff8ffe8479f",
   "metadata": {},
   "outputs": [],
   "source": []
  },
  {
   "cell_type": "code",
   "execution_count": 13,
   "id": "cbd7d188-c3f4-4238-b2bc-e1982e67e0dc",
   "metadata": {},
   "outputs": [],
   "source": [
    "# # FILL / REMOVE BLANKS AND/OR NULLS (N/A VALUES)\n",
    "# # NOTE: ACTION TAKEN DEPENDS ON CONTEXT OF df_2/ ROW/ COLUMN AND/OR CLIENT PREFERENCE:\n",
    "\n",
    "# '''\n",
    "# Get count of na (Not a Number values) - df_2_copy.isna().sum¶\n",
    "# Get count of null (null values) - df_2_copy.isnull().sum\n",
    "# Get count of null / na values fpr specific column - df_2[\"column name\"].isna() / df_2['column name'].isnull()\n",
    "# For multiple columns pass a list of column names in - df_2.[[\"list_of_column_names\"]].isna()\n",
    "# '''\n",
    "# def handle_blank_and_null_values(df_2):\n",
    "        \n",
    "#     # Return sum of all null values in all columns\n",
    "#     print(\"STARTING SUM OF NULL/ BLANK VALUES: '\\n' \", df_2.isnull().sum(), \"\\n\")\n",
    "#     print(df_2.isnull(), \"\\n\")\n",
    "    \n",
    "#     # Note parameter inplace=True modifies current working copy of dataframe\n",
    "#     # Otherwise will return a new datafram w/ requested information\n",
    "#     # df_2_2.dropna(inplace=True, subset=[\"Job Title\", \"Job Description\", \"Industry\"])\n",
    "#     # df_2_2.dropna(inplace=True) - CONSULT W/ CLIENT BEFORE DROPPING ANYTHING!\n",
    "\n",
    "#     for column in df_2:\n",
    "#         if df_2[column].dtype == 'object':\n",
    "#             df_2[column].fillna(\"NONE\", inplace=True)\n",
    "#         else:\n",
    "#             df_2[column].fillna(0, inplace=True)\n",
    "\n",
    "#     return df_2\n",
    "\n",
    "    \n",
    "\n",
    "# # CALL FUNCTION\n",
    "# # NOTE: Argument passed in is df_2_2 w/ intent to overwrite existing version of df_2_2 at each step of cleansing process\n",
    "# df_2 = handle_blank_and_null_values(df_2)\n",
    "# print(\"FINAL: SUM OF NULL/ BLANK VALUES: '\\n' \", df_2.isnull().sum(), \"\\n\")"
   ]
  },
  {
   "cell_type": "code",
   "execution_count": null,
   "id": "922eedb8-f59e-424c-a532-8d7d96bf0284",
   "metadata": {},
   "outputs": [],
   "source": []
  },
  {
   "cell_type": "code",
   "execution_count": null,
   "id": "a2381b06-5e39-4578-b779-07cc14392fd9",
   "metadata": {},
   "outputs": [],
   "source": []
  },
  {
   "cell_type": "code",
   "execution_count": 14,
   "id": "2e1d9c89-9593-47f0-84bf-c1c6fcba6283",
   "metadata": {},
   "outputs": [],
   "source": [
    "# # CLEAN COLUMN NAMES\n",
    "# ''' Captures all column names in DataFrame + Does following actions:\n",
    "# 1. Strip whitespace (both left/right side of string)\n",
    "# 2. Convert column names to all lowercase\n",
    "# 3. Locates regex pattern specified (replaces any char that is NOT a letter or number with an underscore)\n",
    "# 4. str.strip('_') removes any underscore characters at start/ end of string \n",
    "# (https://www.w3schools.com/python/ref_string_strip.asp)\n",
    "# '''\n",
    "# def clean_column_names(df_2):\n",
    "#     df_2.columns = (\n",
    "#         df_2.columns.str.strip()\n",
    "#                   .str.lower()\n",
    "#                   .str.replace(r'[^a-z0-9]+', '_', regex=True)\n",
    "#                   # .str.strip('_')\n",
    "#     )\n",
    "#     return df_2\n",
    "\n",
    "# # CALL FUNCTION:"
   ]
  },
  {
   "cell_type": "code",
   "execution_count": 15,
   "id": "7940f504-52f6-427e-a294-9153ca9b35e2",
   "metadata": {},
   "outputs": [],
   "source": [
    "# DEFINE INPUT / OUTPUT DIRECTORIES\n",
    "# input_folder = \"raw_data\"\n",
    "# output_folder = \"cleansed_data\""
   ]
  },
  {
   "cell_type": "code",
   "execution_count": null,
   "id": "544c9432-8da2-4bb5-9f0e-9eba178e105f",
   "metadata": {},
   "outputs": [],
   "source": []
  },
  {
   "cell_type": "code",
   "execution_count": 24,
   "id": "332249e7-adc8-40a5-9e34-1a972d9934db",
   "metadata": {},
   "outputs": [
    {
     "name": "stdout",
     "output_type": "stream",
     "text": [
      "FILENAME:'\n",
      "' .~lock.messy_crm_dataset.csv#\n",
      "FILENAME:'\n",
      "' messy_crm_dataset.csv\n",
      "FILEPATH: \n",
      " raw_data\\messy_crm_dataset.csv\n",
      "DataFrame Information: '\n",
      "' \n",
      "<class 'pandas.core.frame.DataFrame'>\n",
      "RangeIndex: 500 entries, 0 to 499\n",
      "Data columns (total 6 columns):\n",
      " #   Column             Non-Null Count  Dtype \n",
      "---  ------             --------------  ----- \n",
      " 0   customer_id        500 non-null    object\n",
      " 1   name               500 non-null    object\n",
      " 2   email              475 non-null    object\n",
      " 3   phone_number       482 non-null    object\n",
      " 4   city               500 non-null    object\n",
      " 5   registration_date  487 non-null    object\n",
      "dtypes: object(6)\n",
      "memory usage: 23.6+ KB\n",
      "None \n",
      "\n",
      "Data Shape: (# of Rows, # of Columns): '\n",
      "'  (500, 6) \n",
      "\n",
      "SUM OF NULL/ BLANK VALUES: '\n",
      "'  customer_id           0\n",
      "name                  0\n",
      "email                25\n",
      "phone_number         18\n",
      "city                  0\n",
      "registration_date    13\n",
      "dtype: int64 \n",
      "\n",
      "Index(['customer_id', 'name', 'email', 'phone_number', 'city',\n",
      "       'registration_date'],\n",
      "      dtype='object') \n",
      "\n",
      "0       caitlinbraun941@yahoo.com\n",
      "1           johnbrown577@yahoo.co\n",
      "2          barbarawalls@gmail.org\n",
      "3           lynncoleman@yahoo.org\n",
      "4         jamesstevenson@gmail.co\n",
      "                  ...            \n",
      "495      jeffreyjordan@gmail16.co\n",
      "496    josehanson898@hotmail10.us\n",
      "497         carlosdean@example.us\n",
      "498           jackwhite@gmail.net\n",
      "499       hunterrobinson@yahoo.co\n",
      "Name: email, Length: 500, dtype: object \n",
      "\n",
      "0        Caitlin Braun\n",
      "1           John Brown\n",
      "2        Barbara Walls\n",
      "3         Lynn Coleman\n",
      "4      James Stevenson\n",
      "            ...       \n",
      "495     Jeffrey Jordan\n",
      "496        Jose Hanson\n",
      "497        Carlos Dean\n",
      "498         Jack White\n",
      "499    Hunter Robinson\n",
      "Name: name, Length: 500, dtype: object \n",
      "\n",
      "0      528-661-4506\n",
      "1      485-203-6208\n",
      "2      541-570-3780\n",
      "3      801-750-9883\n",
      "4      211-858-4312\n",
      "           ...     \n",
      "495    293-158-7271\n",
      "496    867-628-1917\n",
      "497    136-343-5784\n",
      "498    989-954-9166\n",
      "499    912-560-4540\n",
      "Name: phone_number, Length: 500, dtype: object \n",
      "\n",
      "0           Robertsview\n",
      "1              Combston\n",
      "2              New Mary\n",
      "3            Donnaburgh\n",
      "4          North Morgan\n",
      "             ...       \n",
      "495     North Aprilfort\n",
      "496        West Michael\n",
      "497    East Yvonnehaven\n",
      "498        South Amanda\n",
      "499      New Amandatown\n",
      "Name: city, Length: 500, dtype: object \n",
      "\n",
      "OUTPUT_PATH: \n",
      " cleaned_data\\cleaned_messy_crm_dataset.csv\n",
      "✅ Cleaned: messy_crm_dataset.csv → cleaned_data\\cleaned_messy_crm_dataset.csv\n"
     ]
    }
   ],
   "source": [
    "# AUTOMATED DATA CLEANER\n",
    "\n",
    "# Define input and output directories\n",
    "input_folder = \"raw_data\"\n",
    "output_folder = \"cleaned_data\"\n",
    "\n",
    "# Create output folder if it doesn't exist\n",
    "os.makedirs(output_folder, exist_ok=True)\n",
    "\n",
    "\n",
    "# LOAD DATA / CREATE DATAFRAME\n",
    "# # CREATE DATAFRAME FROM FILE AT SPECIFIED FILEPATH: NOTE- THIS CALLS load_file() function\n",
    "# def create_dataframe(input_folder):\n",
    "#     # df_2 = ORIGINAL df_2\n",
    "#     # df_2 = DataFrame to be cleansed\n",
    "    \n",
    "#     df_2 = load_file(file_path)\n",
    "\n",
    "#     #Create FILE TO BE CLEANSED via deep copy of original df_2 to new variable \n",
    "#     df_2 = df_2.copy()\n",
    "#     print(f\"FILE READY FOR CLEANSING\\n\")\n",
    "    \n",
    "#     # print(df_2.info(),\"\\n\")\n",
    "#     # print(df_2.shape, \"\\n\")\n",
    "#     # # print(df_2_2.describe, \"\\n\")\n",
    "\n",
    "#     return df_2, file_path\n",
    "\n",
    "\n",
    "# FUNCTION CALL create_dataframe() function - NOTE: df_2_2 stores deep copied file on which actual data cleansing happens!\n",
    "# df_2, file_path = create_dataframe(r'C:\\Users\\Cessn\\OneDrive\\Desktop\\sample_datasets\\data_scientist\\csv_files\\DataScientist2.csv')\n",
    "# df_2, file_path = create_dataframe(r'C:\\Users\\Cessn\\OneDrive\\Desktop\\sample_datasets\\example_import\\example_import_original-MAIN.csv')\n",
    "# print(f\"{file_path}\")\n",
    "\n",
    "# DATA CLEANSING FUNCTIONS\n",
    "# # SUMMARIZE DATA SET\n",
    "def summarize_data():\n",
    "    print(\"DataFrame Information: '\\n' \",)\n",
    "    print(df_2.info(),\"\\n\")\n",
    "    print(f\"Data Shape: (# of Rows, # of Columns): '\\n' \", df_2.shape, \"\\n\")\n",
    "    # print(df_2_2.describe, \"\\n\")\n",
    "\n",
    "    # Show count of null values etc\n",
    "    print(\"SUM OF NULL/ BLANK VALUES: '\\n' \", df_2.isnull().sum(), \"\\n\")\n",
    "\n",
    "# CALL FUNCTION\n",
    "# summarize_data()\n",
    "\n",
    "# SHOW DATASET SAMPLE WHILE DIRTY (PRE-CLEANSING)\n",
    "# def show_dirty_data():\n",
    "#     print(\"DATA PRE-CLEANSE: '\\n'\")\n",
    "#     # print(df_2)\n",
    "\n",
    "# CALL FUNCTION\n",
    "# show_dirty_data\n",
    "          \n",
    "# NORMALIZE/ STANDARDIZE: COLUMN NAMES (ALL DATASETS)\n",
    "# Clean column names\n",
    "''' Captures all column names in DataFrame + Does following actions:\n",
    "1. Strip whitespace (both left/right side of string)\n",
    "2. Convert column names to all lowercase\n",
    "3. Locates regex pattern specified (replaces any char that is NOT a letter or number with an underscore)\n",
    "4. str.strip('_') removes any underscore characters at start/ end of string \n",
    "(https://www.w3schools.com/python/ref_string_strip.asp)\n",
    "'''\n",
    "def clean_column_names(df_2):\n",
    "    df_2.columns = (\n",
    "        df_2.columns.str.strip()\n",
    "                  .str.lower()\n",
    "                  .str.replace(r'[^a-z0-9]+', '_', regex=True)\n",
    "                  # .str.strip('_')\n",
    "    )\n",
    "    return df_2\n",
    "\n",
    "# CALL FUNCTION\n",
    "# df_2 = clean_column_names(df_2)\n",
    "# df_2.columns()\n",
    "\n",
    "# NORMALIZE/ STANDARDIZE: EMAIL ADDRESSES (CRM DATASETS)\n",
    "def cleanse_email_address(df_2):\n",
    "    # df_2[\"email\"].str.strip()\n",
    "    # df_2.replace(r\"[+AEA-]{1}\", \"@\", regex=True)\n",
    "    # return df_2\n",
    "    df_2['email'] = df_2['email'].str.replace(\"+AEA-\",\"@\")\n",
    "    # df_2['join_date'] = df_2['join_date'].str.replace(\"+AC0-\",\"/\") # STANDARDIZE DATES\n",
    "    df_2['email']\n",
    "    return df_2\n",
    "\n",
    "# CALL FUNCTION:\n",
    "# df_2 = cleanse_email_address(df_2)\n",
    "# df_2['email']\n",
    "\n",
    "def standardize_names(df_2):\n",
    "    df_2['name'] = df_2['name'].str.lower()\n",
    "    df_2['name'] = df_2['name'].str.title() # Capitalize first letter of each name\n",
    "    return df_2\n",
    "\n",
    "\n",
    "# FILL BLANKS/ NULLS\n",
    "def fill_missing_values(df_2):\n",
    "    df_2[\"phone_number\"] = df_2[\"phone_number\"].replace(\"nan\", np.nan)\n",
    "    df_2[\"phone_number\"] = df_2[\"phone_number\"].fillna(\"NONE\")\n",
    "    return df_2\n",
    "\n",
    "\n",
    "phone_number_pattern = re.compile(r\"[\\+\\s\\(\\)-.]\")\n",
    "def standardize_phone_numbers(df_2):\n",
    "\n",
    "    # REMOVE ALL NON-DIGIT CHARS FROM PHONE NUMBERS\n",
    "    df_2[\"phone_number\"] = df_2[\"phone_number\"].apply(lambda x: re.sub(r'[(),\\s\\.\\-]', '', x))\n",
    "\n",
    "    # REMOVE +1 FROM BEGINNING OF PHONE NUMBERS\n",
    "    plus_one = r\"^\\+\\d\"\n",
    "    plus_one_formatted = \"\"\n",
    "    df_2[\"phone_number\"] = df_2[\"phone_number\"].apply(lambda x: re.sub(plus_one, plus_one_formatted, x))\n",
    "\n",
    "    # INSERT HYPHENS INTO PHONE NUMBERS USING BACK REFERENCES IN FORMATTED / REPLACEMENT PATTERN\n",
    "    search_pattern = r\"(\\d{3})(\\d{3})(\\d{4})\"\n",
    "    formatted_pattern = r\"\\1-\\2-\\3\"\n",
    "    df_2[\"phone_number\"] = df_2[\"phone_number\"].apply(lambda x: re.sub(search_pattern, formatted_pattern, x))\n",
    "\n",
    "    return df_2\n",
    "\n",
    "def standardize_city_names(df_2):\n",
    "\n",
    "    # TITLE CASE CITY NAMES (CAPITALIZE FIRST LETTER OF EACH CITY NAME)\n",
    "    df_2[\"city\"] = df_2[\"city\"].apply(lambda x: re.sub(x, x.title(), x))\n",
    "    return df_2\n",
    "\n",
    "        \n",
    "\n",
    "# CALL FUNCTION:\n",
    "# df_2 = standardize_names(df_2)\n",
    "# df_2['name']\n",
    "\n",
    "\n",
    "# Function to clean individual DataFrame\n",
    "\n",
    "# def clean_dataframe(df):\n",
    "#     df = df.drop_duplicates()\n",
    "    \n",
    "#     # Fill missing values\n",
    "#     df['email'] = df['email'].fillna('unknown@example.com')\n",
    "#     df['phone'] = df['phone'].fillna('N/A')\n",
    "\n",
    "#     # Normalize text\n",
    "#     df['name'] = df['name'].str.strip().str.title()\n",
    "#     df['city'] = df['city'].str.strip().str.title()\n",
    "\n",
    "#     # Format dates\n",
    "#     df['registration_date'] = pd.to_datetime(df['registration_date'], errors='coerce')\n",
    "#     df['registration_date'] = df['registration_date'].dt.strftime('%Y-%m-%d')\n",
    "\n",
    "#     # Drop rows with missing customer_id\n",
    "#     df = df.dropna(subset=['customer_id'])\n",
    "\n",
    "#     return df\n",
    "\n",
    "# Process each CSV in the folder\n",
    "\n",
    "for filename in os.listdir(input_folder):\n",
    "    print(\"FILENAME:'\\n'\",filename)\n",
    "    if filename.endswith(\".csv\"):\n",
    "        file_path = os.path.join(input_folder, filename)\n",
    "        print(\"FILEPATH: \" '\\n', file_path)\n",
    "        try:\n",
    "            df = pd.read_csv(file_path)\n",
    "            df_2 = df.copy()\n",
    "            \n",
    "            summarize_data()\n",
    "\n",
    "            # # show_dirty_data()\n",
    "            # print(\"DATASET PRE-CLEANSE: '\\n' \")\n",
    "            # df_2\n",
    "\n",
    "            df_2 = clean_column_names(df_2)\n",
    "            print(df_2.columns, \"\\n\")\n",
    "            \n",
    "            df_2 = cleanse_email_address(df_2)\n",
    "            print(df_2[\"email\"], \"\\n\")\n",
    "            \n",
    "            df_2 = standardize_names(df_2)\n",
    "            print(df_2[\"name\"], \"\\n\")\n",
    "\n",
    "            df_2 = fill_missing_values(df_2)\n",
    "            # print(df_2[\"phone_number\"], \"\\n\")\n",
    "\n",
    "            df_2 = standardize_phone_numbers(df_2)\n",
    "            print(df_2[\"phone_number\"], \"\\n\")\n",
    "\n",
    "            DF_2 = standardize_city_names(df_2)\n",
    "            print(df_2[\"city\"], \"\\n\")\n",
    "            \n",
    "            output_path = os.path.join(output_folder, f\"cleaned_{filename}\")\n",
    "            print(\"OUTPUT_PATH: \" '\\n', output_path)\n",
    "            df_2.to_csv(output_path, index=False)\n",
    "\n",
    "            print(f\"✅ Cleaned: {filename} → {output_path}\")\n",
    "\n",
    "        except Exception as e:\n",
    "            print(f\"❌ Failed to process {filename}: {e}\")\n",
    "            \n",
    "# CALL FUNCTION\n",
    "# clean_data()"
   ]
  },
  {
   "cell_type": "code",
   "execution_count": null,
   "id": "f7073423-3c5a-410d-852e-64e5225c4dab",
   "metadata": {},
   "outputs": [],
   "source": []
  },
  {
   "cell_type": "code",
   "execution_count": null,
   "id": "504269fc-f7de-4594-8ad8-5e9ea0eef759",
   "metadata": {},
   "outputs": [],
   "source": []
  },
  {
   "cell_type": "code",
   "execution_count": null,
   "id": "8bc71741-c2a9-439f-a7b1-7bae123966b3",
   "metadata": {},
   "outputs": [],
   "source": []
  },
  {
   "cell_type": "code",
   "execution_count": null,
   "id": "06fd7ac5-17eb-400a-b206-c01579f8c1c3",
   "metadata": {},
   "outputs": [],
   "source": []
  },
  {
   "cell_type": "code",
   "execution_count": null,
   "id": "0ed7e32f-2673-431d-8d09-bc559b6ab3a6",
   "metadata": {},
   "outputs": [],
   "source": []
  },
  {
   "cell_type": "code",
   "execution_count": null,
   "id": "38939856-6a47-4f56-9217-40bff1e6be1f",
   "metadata": {},
   "outputs": [],
   "source": []
  },
  {
   "cell_type": "code",
   "execution_count": null,
   "id": "c7b68c01-bfdf-4773-a4a4-91277c7a7390",
   "metadata": {},
   "outputs": [],
   "source": []
  },
  {
   "cell_type": "code",
   "execution_count": null,
   "id": "f1ce078c-5ee0-4b95-9bb1-11169244d07b",
   "metadata": {},
   "outputs": [],
   "source": []
  },
  {
   "cell_type": "code",
   "execution_count": null,
   "id": "9f66d95f-a659-40df-ab65-5ab35572fde8",
   "metadata": {},
   "outputs": [],
   "source": []
  },
  {
   "cell_type": "code",
   "execution_count": null,
   "id": "02bd927e-e9b7-4591-bca5-fb7b8ae3ca6c",
   "metadata": {},
   "outputs": [],
   "source": []
  },
  {
   "cell_type": "code",
   "execution_count": null,
   "id": "21fe7e66-51b1-4cd2-aa9d-62a51976abde",
   "metadata": {},
   "outputs": [],
   "source": []
  },
  {
   "cell_type": "code",
   "execution_count": null,
   "id": "e028e298-4273-407e-9d78-44ff498d21b1",
   "metadata": {},
   "outputs": [],
   "source": []
  },
  {
   "cell_type": "code",
   "execution_count": null,
   "id": "1585ee1f-bc84-429e-a7e8-088afdcdbbd9",
   "metadata": {},
   "outputs": [],
   "source": []
  },
  {
   "cell_type": "code",
   "execution_count": null,
   "id": "a88c0d26-e2b5-4fdf-8035-81114db5dfb5",
   "metadata": {},
   "outputs": [],
   "source": []
  },
  {
   "cell_type": "code",
   "execution_count": null,
   "id": "d5e25149-c441-4fbd-8fe7-ad5e5d3d8320",
   "metadata": {},
   "outputs": [],
   "source": []
  },
  {
   "cell_type": "code",
   "execution_count": null,
   "id": "7d0ffd73-595a-4b79-b5de-8c59936c6b79",
   "metadata": {},
   "outputs": [],
   "source": []
  },
  {
   "cell_type": "code",
   "execution_count": null,
   "id": "656aaab1-4052-477c-ab1f-fc8ee22952ab",
   "metadata": {},
   "outputs": [],
   "source": []
  },
  {
   "cell_type": "code",
   "execution_count": null,
   "id": "5568a834-53f5-4dcf-a048-2a0521dc6538",
   "metadata": {},
   "outputs": [],
   "source": []
  },
  {
   "cell_type": "code",
   "execution_count": null,
   "id": "4fef3c72-3704-4358-9fdd-9cb642ccc804",
   "metadata": {},
   "outputs": [],
   "source": []
  },
  {
   "cell_type": "code",
   "execution_count": null,
   "id": "c9cf2dc0-5619-4c60-b694-83d9ddc30267",
   "metadata": {},
   "outputs": [],
   "source": []
  },
  {
   "cell_type": "code",
   "execution_count": null,
   "id": "cb5a5e96-1911-42c5-afa9-5ec34764d8ea",
   "metadata": {},
   "outputs": [],
   "source": []
  },
  {
   "cell_type": "code",
   "execution_count": null,
   "id": "7781c459-bc67-4953-ba7a-ec000d64b41c",
   "metadata": {},
   "outputs": [],
   "source": []
  },
  {
   "cell_type": "code",
   "execution_count": null,
   "id": "ee0b6c37-6db5-4775-bcc6-6eab9a5df114",
   "metadata": {},
   "outputs": [],
   "source": []
  },
  {
   "cell_type": "code",
   "execution_count": null,
   "id": "b96c3718-db7b-44a2-9f0f-a15befb9da22",
   "metadata": {},
   "outputs": [],
   "source": []
  },
  {
   "cell_type": "code",
   "execution_count": null,
   "id": "373247d5-237d-4a7a-942c-50821158ed09",
   "metadata": {},
   "outputs": [],
   "source": []
  },
  {
   "cell_type": "code",
   "execution_count": null,
   "id": "65aee55e-990b-4ac9-bf75-0c4616f615c1",
   "metadata": {},
   "outputs": [],
   "source": []
  },
  {
   "cell_type": "code",
   "execution_count": null,
   "id": "769147b7-a223-4460-bea0-ff50ce7cb8bd",
   "metadata": {},
   "outputs": [],
   "source": []
  },
  {
   "cell_type": "code",
   "execution_count": null,
   "id": "9dc03643-5737-40a9-a433-1ec834916e05",
   "metadata": {},
   "outputs": [],
   "source": []
  },
  {
   "cell_type": "code",
   "execution_count": null,
   "id": "b135ffd6-c31f-41e7-ba2f-dec713194efc",
   "metadata": {},
   "outputs": [],
   "source": []
  },
  {
   "cell_type": "code",
   "execution_count": null,
   "id": "e6d380d3-7505-4253-8c2e-58f6dc97aee4",
   "metadata": {},
   "outputs": [],
   "source": []
  },
  {
   "cell_type": "code",
   "execution_count": null,
   "id": "9cb3b201-3401-4e39-8cf5-2cf5706b79f1",
   "metadata": {},
   "outputs": [],
   "source": []
  },
  {
   "cell_type": "code",
   "execution_count": null,
   "id": "9c6a5e85-6d3e-41c3-94c0-fd21143688a9",
   "metadata": {},
   "outputs": [],
   "source": []
  },
  {
   "cell_type": "code",
   "execution_count": null,
   "id": "0490a6d8-54ba-4d04-9b2c-20daf955b9de",
   "metadata": {},
   "outputs": [],
   "source": []
  },
  {
   "cell_type": "code",
   "execution_count": null,
   "id": "289f056c-2f24-4ee0-8689-86850469e992",
   "metadata": {},
   "outputs": [],
   "source": []
  },
  {
   "cell_type": "code",
   "execution_count": null,
   "id": "22ba9cc4-00c9-4e5e-9b6d-9a339791cdbf",
   "metadata": {},
   "outputs": [],
   "source": []
  },
  {
   "cell_type": "code",
   "execution_count": null,
   "id": "d32f048a-9761-493e-9d48-bd44c415b2c3",
   "metadata": {},
   "outputs": [],
   "source": []
  },
  {
   "cell_type": "code",
   "execution_count": null,
   "id": "bbdae4a4-e9e3-4190-bbe1-1c9d79cf0c7f",
   "metadata": {},
   "outputs": [],
   "source": []
  },
  {
   "cell_type": "code",
   "execution_count": null,
   "id": "41b61963-7780-470f-a0da-2cfa8433a02a",
   "metadata": {},
   "outputs": [],
   "source": []
  },
  {
   "cell_type": "code",
   "execution_count": null,
   "id": "5127255e-7151-4d67-950b-c29fe230af4a",
   "metadata": {},
   "outputs": [],
   "source": []
  },
  {
   "cell_type": "code",
   "execution_count": null,
   "id": "9dbff27a-f2db-4dc2-9661-3384b62d5d1f",
   "metadata": {},
   "outputs": [],
   "source": []
  },
  {
   "cell_type": "code",
   "execution_count": null,
   "id": "15c7f3c9-92ca-44ce-a3c2-11ae5ec1fb59",
   "metadata": {},
   "outputs": [],
   "source": []
  },
  {
   "cell_type": "code",
   "execution_count": null,
   "id": "4d4b35e8-cbe8-4e95-9a7d-2be6e6c9cd5e",
   "metadata": {},
   "outputs": [],
   "source": []
  },
  {
   "cell_type": "code",
   "execution_count": null,
   "id": "031b3829-eb3d-40f4-8c17-e60e75fb4bef",
   "metadata": {},
   "outputs": [],
   "source": []
  },
  {
   "cell_type": "code",
   "execution_count": null,
   "id": "43a3d5e7-3ae7-47bb-a50a-309ee6a849bd",
   "metadata": {},
   "outputs": [],
   "source": []
  },
  {
   "cell_type": "code",
   "execution_count": null,
   "id": "3848fa01-85fd-4373-82f0-7f13830e2e2e",
   "metadata": {},
   "outputs": [],
   "source": []
  },
  {
   "cell_type": "code",
   "execution_count": null,
   "id": "9b5a4ad4-157f-487d-b014-4adffdcdc6a7",
   "metadata": {},
   "outputs": [],
   "source": []
  },
  {
   "cell_type": "code",
   "execution_count": null,
   "id": "1bb608f5-0862-4fc9-bd5b-c519086e895e",
   "metadata": {},
   "outputs": [],
   "source": []
  },
  {
   "cell_type": "code",
   "execution_count": null,
   "id": "7d1b2383-7a2f-4d3d-952e-4854fcb4d3da",
   "metadata": {},
   "outputs": [],
   "source": []
  },
  {
   "cell_type": "code",
   "execution_count": null,
   "id": "6ef5d2ac-b3f3-4efc-a7bb-06dc2e3afacd",
   "metadata": {},
   "outputs": [],
   "source": []
  },
  {
   "cell_type": "code",
   "execution_count": null,
   "id": "4418a6db-51be-4823-ac97-9f4c5cfc5d34",
   "metadata": {},
   "outputs": [],
   "source": []
  },
  {
   "cell_type": "code",
   "execution_count": null,
   "id": "0ec8934b-91b4-43cd-ba41-e714d75f9f88",
   "metadata": {},
   "outputs": [],
   "source": []
  },
  {
   "cell_type": "code",
   "execution_count": null,
   "id": "e3cecab8-8197-483c-9cb3-3bc54d19ae27",
   "metadata": {},
   "outputs": [],
   "source": []
  },
  {
   "cell_type": "code",
   "execution_count": null,
   "id": "bbea27a7-0f98-41de-a79e-f35fa9773576",
   "metadata": {},
   "outputs": [],
   "source": []
  },
  {
   "cell_type": "code",
   "execution_count": null,
   "id": "a91ad46b-7532-4fd5-814c-efb087803e6d",
   "metadata": {},
   "outputs": [],
   "source": []
  },
  {
   "cell_type": "code",
   "execution_count": null,
   "id": "5bc70240-18e6-4ba0-9404-db79b64f45f8",
   "metadata": {},
   "outputs": [],
   "source": []
  },
  {
   "cell_type": "code",
   "execution_count": null,
   "id": "240cdc06-671d-4502-a063-88cc2b837248",
   "metadata": {},
   "outputs": [],
   "source": []
  },
  {
   "cell_type": "code",
   "execution_count": null,
   "id": "b9e69381-1862-4580-8954-716ef4da4cc9",
   "metadata": {},
   "outputs": [],
   "source": []
  },
  {
   "cell_type": "code",
   "execution_count": null,
   "id": "ff0d0772-dd94-4793-bc60-0edf47d07357",
   "metadata": {},
   "outputs": [],
   "source": []
  },
  {
   "cell_type": "code",
   "execution_count": null,
   "id": "29f427f0-b76d-4bfa-9b78-31e32ad57015",
   "metadata": {},
   "outputs": [],
   "source": []
  },
  {
   "cell_type": "code",
   "execution_count": null,
   "id": "b5246249-590f-474b-aaa9-9ca5a13b8b0b",
   "metadata": {},
   "outputs": [],
   "source": []
  },
  {
   "cell_type": "code",
   "execution_count": null,
   "id": "f4e64608-72f1-49e0-bda2-be6dd54b2b82",
   "metadata": {},
   "outputs": [],
   "source": []
  },
  {
   "cell_type": "code",
   "execution_count": null,
   "id": "555ca7c3-6ed2-4f3a-9d59-6b344ddca72b",
   "metadata": {},
   "outputs": [],
   "source": []
  },
  {
   "cell_type": "code",
   "execution_count": null,
   "id": "3f0b3973-0bd3-44e0-bf68-17429c1bd17d",
   "metadata": {},
   "outputs": [],
   "source": []
  },
  {
   "cell_type": "code",
   "execution_count": null,
   "id": "04c5878d-b57c-491f-ab90-15505c119cc0",
   "metadata": {},
   "outputs": [],
   "source": []
  },
  {
   "cell_type": "code",
   "execution_count": null,
   "id": "b42b6154-7eba-4185-99c2-505233b9150c",
   "metadata": {},
   "outputs": [],
   "source": []
  },
  {
   "cell_type": "code",
   "execution_count": null,
   "id": "b539db6f-0dd5-4b23-b675-167be3d23ac3",
   "metadata": {},
   "outputs": [],
   "source": []
  },
  {
   "cell_type": "code",
   "execution_count": null,
   "id": "dcab6611-b96c-42fb-80d8-aa9a21daa3e4",
   "metadata": {},
   "outputs": [],
   "source": []
  },
  {
   "cell_type": "code",
   "execution_count": null,
   "id": "3dec2d95-d8d0-48bf-8371-0cd49cd290e5",
   "metadata": {},
   "outputs": [],
   "source": []
  },
  {
   "cell_type": "code",
   "execution_count": null,
   "id": "a77ad526-bc24-491d-acbc-fa245a9637ff",
   "metadata": {},
   "outputs": [],
   "source": []
  },
  {
   "cell_type": "code",
   "execution_count": null,
   "id": "6309e488-7114-4e0d-906e-61d4d83ca126",
   "metadata": {},
   "outputs": [],
   "source": []
  },
  {
   "cell_type": "code",
   "execution_count": null,
   "id": "eae0e935-248f-41d5-afb8-bd42af1b089a",
   "metadata": {},
   "outputs": [],
   "source": []
  },
  {
   "cell_type": "code",
   "execution_count": null,
   "id": "ce9418f9-71e8-4d2b-82d5-47a83ed6e563",
   "metadata": {},
   "outputs": [],
   "source": []
  },
  {
   "cell_type": "code",
   "execution_count": null,
   "id": "165b2fec-5ca0-4b37-8c80-2d22d0fd0f11",
   "metadata": {},
   "outputs": [],
   "source": []
  },
  {
   "cell_type": "code",
   "execution_count": null,
   "id": "8a86bde8-8171-4efa-b28d-38c5b666fc0c",
   "metadata": {},
   "outputs": [],
   "source": []
  },
  {
   "cell_type": "code",
   "execution_count": null,
   "id": "3a547420-6a7a-47a3-bc1e-08435712f22a",
   "metadata": {},
   "outputs": [],
   "source": []
  },
  {
   "cell_type": "code",
   "execution_count": null,
   "id": "fc3fb365-1474-431a-9b3d-f80108f863d0",
   "metadata": {},
   "outputs": [],
   "source": []
  },
  {
   "cell_type": "code",
   "execution_count": null,
   "id": "a7ff8932-95f0-400b-9108-e2a5392127e0",
   "metadata": {},
   "outputs": [],
   "source": []
  },
  {
   "cell_type": "code",
   "execution_count": null,
   "id": "d95d8116-baf0-40b5-bfa2-3eff426253a2",
   "metadata": {},
   "outputs": [],
   "source": []
  },
  {
   "cell_type": "code",
   "execution_count": null,
   "id": "95a1889a-4344-4d36-98b2-f0599aefbbf1",
   "metadata": {},
   "outputs": [],
   "source": []
  },
  {
   "cell_type": "code",
   "execution_count": null,
   "id": "e64fc5d4-374e-4066-97c2-bace1394a133",
   "metadata": {},
   "outputs": [],
   "source": []
  },
  {
   "cell_type": "code",
   "execution_count": null,
   "id": "ae10ce14-9aaf-4602-b30f-e5ee96a17395",
   "metadata": {},
   "outputs": [],
   "source": []
  },
  {
   "cell_type": "code",
   "execution_count": null,
   "id": "8f1b38ac-8b36-4012-bb80-163f643b907e",
   "metadata": {},
   "outputs": [],
   "source": []
  },
  {
   "cell_type": "code",
   "execution_count": null,
   "id": "227ac51e-8444-47c5-98c1-468b230c340e",
   "metadata": {},
   "outputs": [],
   "source": []
  },
  {
   "cell_type": "code",
   "execution_count": null,
   "id": "bbf92f66-5f2b-45a2-afc6-7e7d2cd73e76",
   "metadata": {},
   "outputs": [],
   "source": []
  },
  {
   "cell_type": "code",
   "execution_count": null,
   "id": "7249a6b7-a82b-4d10-90b6-69163616ea7a",
   "metadata": {},
   "outputs": [],
   "source": []
  },
  {
   "cell_type": "code",
   "execution_count": null,
   "id": "ab825cef-3fbd-437c-ba99-1c1d308153aa",
   "metadata": {},
   "outputs": [],
   "source": []
  },
  {
   "cell_type": "code",
   "execution_count": null,
   "id": "4a79c4a9-0fa8-484a-9b89-03a3c453f3b1",
   "metadata": {},
   "outputs": [],
   "source": []
  },
  {
   "cell_type": "code",
   "execution_count": null,
   "id": "b3ff9496-16ef-458d-85cf-9243ee077d1c",
   "metadata": {},
   "outputs": [],
   "source": []
  },
  {
   "cell_type": "code",
   "execution_count": null,
   "id": "6148e6f4-7dac-442c-9c5a-31e40dc9fcfa",
   "metadata": {},
   "outputs": [],
   "source": []
  },
  {
   "cell_type": "code",
   "execution_count": null,
   "id": "6d1149ca-fcad-455c-9525-cedda2d889f4",
   "metadata": {},
   "outputs": [],
   "source": []
  },
  {
   "cell_type": "code",
   "execution_count": null,
   "id": "0d6dd511-22a0-46ae-9e0e-67e1c2990d6d",
   "metadata": {},
   "outputs": [],
   "source": []
  },
  {
   "cell_type": "code",
   "execution_count": null,
   "id": "c4c21ce2-7432-4fd6-8453-e8b80196a790",
   "metadata": {},
   "outputs": [],
   "source": []
  },
  {
   "cell_type": "code",
   "execution_count": null,
   "id": "cc2df211-5b78-4200-b99e-b95caaf6e68e",
   "metadata": {},
   "outputs": [],
   "source": []
  },
  {
   "cell_type": "code",
   "execution_count": null,
   "id": "81fc7635-61e2-424e-a8c5-6d043fb6515b",
   "metadata": {},
   "outputs": [],
   "source": []
  },
  {
   "cell_type": "code",
   "execution_count": null,
   "id": "1b1f41d0-c462-4ce5-bb87-7885e9b1a2e9",
   "metadata": {},
   "outputs": [],
   "source": []
  },
  {
   "cell_type": "code",
   "execution_count": null,
   "id": "12319399-69d9-4a58-8895-3a7b7505454f",
   "metadata": {},
   "outputs": [],
   "source": []
  },
  {
   "cell_type": "code",
   "execution_count": null,
   "id": "7a08538c-fef5-4d9a-9c84-e2e746c87295",
   "metadata": {},
   "outputs": [],
   "source": []
  },
  {
   "cell_type": "code",
   "execution_count": null,
   "id": "8c1ee711-7a8a-4195-9dfa-a77324d39379",
   "metadata": {},
   "outputs": [],
   "source": []
  },
  {
   "cell_type": "code",
   "execution_count": null,
   "id": "6f4214a0-4f51-47b2-b635-97428e573104",
   "metadata": {},
   "outputs": [],
   "source": []
  },
  {
   "cell_type": "code",
   "execution_count": null,
   "id": "378e000d-2313-4933-9f37-98bfa25859ca",
   "metadata": {},
   "outputs": [],
   "source": [
    "# # Process each CSV in the folder\n",
    "# for filename in os.listdir(input_folder):\n",
    "#     if filename.endswith(\".csv\"):\n",
    "#         file_path = os.path.join(input_folder, filename)\n",
    "#         try:\n",
    "#             df = pd.read_csv(file_path)\n",
    "#             df_2 = clean_dataframe(df)\n",
    "            \n",
    "#             output_path = os.path.join(output_folder, f\"cleaned_{filename}\")\n",
    "#             cleaned_df.to_csv(output_path, index=False)\n",
    "            \n",
    "#             print(f\"✅ Cleaned: {filename} → {output_path}\")\n",
    "#         except Exception as e:\n",
    "#             print(f\"❌ Failed to process {filename}: {e}\")"
   ]
  },
  {
   "cell_type": "markdown",
   "id": "77be5a63-0452-4772-99d1-68e9632a5be9",
   "metadata": {},
   "source": [
    "# DO NOT ADD CODE BELOW THIS POINT!"
   ]
  },
  {
   "cell_type": "code",
   "execution_count": null,
   "id": "e5d85e4c-5cea-4ee0-b502-ee464b30d7dd",
   "metadata": {},
   "outputs": [],
   "source": []
  },
  {
   "cell_type": "markdown",
   "id": "4fc4bd73-ecce-4f4d-b049-da28f61c8153",
   "metadata": {},
   "source": [
    "# 8 Most Common Data Cleansing Techniques:\n",
    "## 1. Dropping Columns:\n",
    "cols_to_drop = [\"column_names_to_be_dropped\"] > df_2_copy.drop(to_drop, axis = 1) NOTE: axis = 0 (rows) axis = 1 (columns)"
   ]
  },
  {
   "cell_type": "code",
   "execution_count": null,
   "id": "dcc19905-597f-4265-90f8-f9294965119b",
   "metadata": {},
   "outputs": [],
   "source": []
  },
  {
   "cell_type": "code",
   "execution_count": 7,
   "id": "81bd54ba-68ad-49ed-8b49-cbda15395af8",
   "metadata": {},
   "outputs": [],
   "source": [
    "# # Drop irrelevant/ unnecessary columns THIS BECOMES AN EXAMPLE!\n",
    "# cols_to_drop = [\"ROUTE NO. 1\",\n",
    "#                'ROUTE NO. 2','ROUTE NO. 3',\n",
    "#                'ROUTE NO. 4','ROUTE NO. 5','ROUTE NO. 6',\n",
    "#                 'ROUTE NO. 7','ROUTE NO. 8','ROUTE NO. 9','ROUTE NO. 10',\n",
    "#                \"GEOMETRY\",]\n",
    "\n",
    "# df_2_2 = df_2_2.drop(cols_to_drop, axis = 1)\n",
    "# output_file(df_2_2)"
   ]
  },
  {
   "cell_type": "code",
   "execution_count": null,
   "id": "1e4e57ce-7e6d-4c8d-99c7-3ea9b7ac9c79",
   "metadata": {},
   "outputs": [],
   "source": []
  },
  {
   "cell_type": "code",
   "execution_count": 8,
   "id": "7f4984ce-b459-4dde-916b-d39989afdccb",
   "metadata": {},
   "outputs": [],
   "source": [
    "# FUNCTION\n",
    "def drop_columns(df_2_2):\n",
    "    cols_to_drop = [\"ROUTE NO. 1\",\n",
    "               'ROUTE NO. 2','ROUTE NO. 3',\n",
    "               'ROUTE NO. 4','ROUTE NO. 5','ROUTE NO. 6',\n",
    "                'ROUTE NO. 7','ROUTE NO. 8','ROUTE NO. 9','ROUTE NO. 10',\n",
    "               \"GEOMETRY\",]\n",
    "    df_2_2 = df_2_2.drop(cols_to_drop, axis = 1)\n",
    "    return df_2_2"
   ]
  },
  {
   "cell_type": "code",
   "execution_count": 9,
   "id": "59ac4901-1e58-4f36-a9eb-66548bcaf17d",
   "metadata": {},
   "outputs": [],
   "source": [
    "# CALL DROP COLUMNS FUNCTION\n",
    "df_2_2 = drop_columns(df_2_2)"
   ]
  },
  {
   "cell_type": "code",
   "execution_count": null,
   "id": "3729dd6c-2afd-4618-8e24-228f1ce9b2f1",
   "metadata": {},
   "outputs": [],
   "source": []
  },
  {
   "cell_type": "code",
   "execution_count": null,
   "id": "5d296600-3bbd-48cf-a844-676545a73922",
   "metadata": {},
   "outputs": [],
   "source": []
  },
  {
   "cell_type": "code",
   "execution_count": null,
   "id": "e59123d2-68a3-4d91-8528-759b92084aff",
   "metadata": {},
   "outputs": [],
   "source": []
  },
  {
   "cell_type": "markdown",
   "id": "ab3a3858-502b-47f0-900e-686529f7eccb",
   "metadata": {},
   "source": [
    "# 2. Removing Duplicates\n",
    "## Info - https://www.w3schools.com/python/pandas/ref_df_2_duplicated.asp\n",
    "\n",
    "Syntax: <br>\n",
    "get duplicates returned in DataFrame Format: df_2_copy[df_2_copy.duplicated()] <br>\n",
    "get duplicates returned in Text Format: df_2_copy.duplicated()"
   ]
  },
  {
   "cell_type": "markdown",
   "id": "bc08cbc0-11be-417f-ab53-bab30e3e8fa1",
   "metadata": {},
   "source": [
    "# Sum total number of duplicate rows in DataFrame BEFORE dropping dupes\n",
    "# Write this to report for client later (When getting ready to add reporting capabilities) <br>\n",
    "\n",
    "\n",
    "## SYNTAX EXAMPLES: <br>\n",
    "#  Sum total number of duplicate rows in DataFrame BEFORE Dropping dupes (Reporting purposes): df_2_2.duplicated().sum()\n",
    "\n",
    "# Drop duplicates - NOTE use of inplace parameter will perform action on existing DataFrame. If inplace parameter is omitted drop_duplicates() function will return a new DataFrame object that then needs to be assigned: <br>\n",
    "df_2_2.drop_duplicates(inplace=True) - drops duplicates on original DataFrame \"inplace\"\n",
    "\n",
    "# Note use of assignment operator (=) - dropping duplicates in pandas returns a new DataFrame object cleansed of duplicate values UNLESS the inplace=True parameter is set. Notice abscence of inplace parameter in example below: <br>\n",
    "df_2_2 = df_2_2.drop_duplicates()\n"
   ]
  },
  {
   "cell_type": "code",
   "execution_count": 10,
   "id": "3e4a5a56-975d-4bdb-b1f2-de2489aced9b",
   "metadata": {},
   "outputs": [],
   "source": [
    "def drop_duplicates(df_2_2):\n",
    "    df_2_2 = df_2_2.drop_duplicates()\n",
    "\n",
    "    # Write cleansed file to output\n",
    "    output_file(df_2_2)\n",
    "    \n",
    "    return df_2_2"
   ]
  },
  {
   "cell_type": "code",
   "execution_count": 11,
   "id": "bbad8f1d-e180-4c8e-acec-cb4da866efd9",
   "metadata": {},
   "outputs": [
    {
     "name": "stdout",
     "output_type": "stream",
     "text": [
      "Cleaned data saved!\n"
     ]
    },
    {
     "data": {
      "text/html": [
       "<div>\n",
       "<style scoped>\n",
       "    .dataframe tbody tr th:only-of-type {\n",
       "        vertical-align: middle;\n",
       "    }\n",
       "\n",
       "    .dataframe tbody tr th {\n",
       "        vertical-align: top;\n",
       "    }\n",
       "\n",
       "    .dataframe thead th {\n",
       "        text-align: right;\n",
       "    }\n",
       "</style>\n",
       "<table border=\"1\" class=\"dataframe\">\n",
       "  <thead>\n",
       "    <tr style=\"text-align: right;\">\n",
       "      <th></th>\n",
       "      <th>STOP ID</th>\n",
       "      <th>NAME</th>\n",
       "      <th>BENCH</th>\n",
       "      <th>SHELTER</th>\n",
       "      <th>SHELTER TYPE</th>\n",
       "      <th>RIDERSHIP ON</th>\n",
       "      <th>RIDERSHIP OFF</th>\n",
       "      <th>RIDERSHIP TOTAL</th>\n",
       "      <th>STOP DIRECTION</th>\n",
       "      <th>ROUTE NO.</th>\n",
       "    </tr>\n",
       "  </thead>\n",
       "  <tbody>\n",
       "    <tr>\n",
       "      <th>0</th>\n",
       "      <td>1193.0</td>\n",
       "      <td>Mills @ Scenic Hwy</td>\n",
       "      <td>NB</td>\n",
       "      <td>NO</td>\n",
       "      <td>NaN</td>\n",
       "      <td>511.0</td>\n",
       "      <td>463.0</td>\n",
       "      <td>974.0</td>\n",
       "      <td>S</td>\n",
       "      <td>11.0</td>\n",
       "    </tr>\n",
       "    <tr>\n",
       "      <th>1</th>\n",
       "      <td>2824.0</td>\n",
       "      <td>Cedarcrest Ave @ Seracedar St</td>\n",
       "      <td>NaN</td>\n",
       "      <td>NO</td>\n",
       "      <td>NaN</td>\n",
       "      <td>NaN</td>\n",
       "      <td>NaN</td>\n",
       "      <td>NaN</td>\n",
       "      <td>S</td>\n",
       "      <td>58.0</td>\n",
       "    </tr>\n",
       "    <tr>\n",
       "      <th>2</th>\n",
       "      <td>1191.0</td>\n",
       "      <td>Woodpecker @ Merganzer</td>\n",
       "      <td>NaN</td>\n",
       "      <td>NO</td>\n",
       "      <td>NaN</td>\n",
       "      <td>479.0</td>\n",
       "      <td>153.0</td>\n",
       "      <td>632.0</td>\n",
       "      <td>S</td>\n",
       "      <td>11.0</td>\n",
       "    </tr>\n",
       "    <tr>\n",
       "      <th>3</th>\n",
       "      <td>1177.0</td>\n",
       "      <td>Blount @ Tallow</td>\n",
       "      <td>NaN</td>\n",
       "      <td>NO</td>\n",
       "      <td>NaN</td>\n",
       "      <td>319.0</td>\n",
       "      <td>460.0</td>\n",
       "      <td>779.0</td>\n",
       "      <td>W</td>\n",
       "      <td>11.0</td>\n",
       "    </tr>\n",
       "    <tr>\n",
       "      <th>4</th>\n",
       "      <td>1593.0</td>\n",
       "      <td>Acadian @ Oswego</td>\n",
       "      <td>NaN</td>\n",
       "      <td>NO</td>\n",
       "      <td>NaN</td>\n",
       "      <td>166.0</td>\n",
       "      <td>440.0</td>\n",
       "      <td>606.0</td>\n",
       "      <td>N</td>\n",
       "      <td>20.0</td>\n",
       "    </tr>\n",
       "    <tr>\n",
       "      <th>...</th>\n",
       "      <td>...</td>\n",
       "      <td>...</td>\n",
       "      <td>...</td>\n",
       "      <td>...</td>\n",
       "      <td>...</td>\n",
       "      <td>...</td>\n",
       "      <td>...</td>\n",
       "      <td>...</td>\n",
       "      <td>...</td>\n",
       "      <td>...</td>\n",
       "    </tr>\n",
       "    <tr>\n",
       "      <th>1694</th>\n",
       "      <td>1105.0</td>\n",
       "      <td>Scenic @ Scotlandville Library</td>\n",
       "      <td>NaN</td>\n",
       "      <td>YES</td>\n",
       "      <td>REFURBISHED</td>\n",
       "      <td>1814.0</td>\n",
       "      <td>790.0</td>\n",
       "      <td>2604.0</td>\n",
       "      <td>S</td>\n",
       "      <td>10.0</td>\n",
       "    </tr>\n",
       "    <tr>\n",
       "      <th>1695</th>\n",
       "      <td>1996.0</td>\n",
       "      <td>Florida @ Eugene</td>\n",
       "      <td>NaN</td>\n",
       "      <td>NO</td>\n",
       "      <td>NaN</td>\n",
       "      <td>824.0</td>\n",
       "      <td>3722.0</td>\n",
       "      <td>4546.0</td>\n",
       "      <td>W</td>\n",
       "      <td>44.0</td>\n",
       "    </tr>\n",
       "    <tr>\n",
       "      <th>1696</th>\n",
       "      <td>1514.0</td>\n",
       "      <td>East Airport @ Goodwood</td>\n",
       "      <td>NB</td>\n",
       "      <td>NO</td>\n",
       "      <td>NaN</td>\n",
       "      <td>123.0</td>\n",
       "      <td>117.0</td>\n",
       "      <td>240.0</td>\n",
       "      <td>W</td>\n",
       "      <td>18.0</td>\n",
       "    </tr>\n",
       "    <tr>\n",
       "      <th>1697</th>\n",
       "      <td>1386.0</td>\n",
       "      <td>Thomas H Delpit @ Taft</td>\n",
       "      <td>NaN</td>\n",
       "      <td>NO</td>\n",
       "      <td>NaN</td>\n",
       "      <td>163.0</td>\n",
       "      <td>41.0</td>\n",
       "      <td>204.0</td>\n",
       "      <td>S</td>\n",
       "      <td>14.0</td>\n",
       "    </tr>\n",
       "    <tr>\n",
       "      <th>1698</th>\n",
       "      <td>1720.0</td>\n",
       "      <td>Airway @ Leo Skating</td>\n",
       "      <td>NaN</td>\n",
       "      <td>NO</td>\n",
       "      <td>NaN</td>\n",
       "      <td>257.0</td>\n",
       "      <td>189.0</td>\n",
       "      <td>446.0</td>\n",
       "      <td>S</td>\n",
       "      <td>21.0</td>\n",
       "    </tr>\n",
       "  </tbody>\n",
       "</table>\n",
       "<p>1675 rows × 10 columns</p>\n",
       "</div>"
      ],
      "text/plain": [
       "      STOP ID                            NAME BENCH SHELTER SHELTER TYPE  \\\n",
       "0      1193.0              Mills @ Scenic Hwy    NB      NO          NaN   \n",
       "1      2824.0   Cedarcrest Ave @ Seracedar St   NaN      NO          NaN   \n",
       "2      1191.0          Woodpecker @ Merganzer   NaN      NO          NaN   \n",
       "3      1177.0                 Blount @ Tallow   NaN      NO          NaN   \n",
       "4      1593.0                Acadian @ Oswego   NaN      NO          NaN   \n",
       "...       ...                             ...   ...     ...          ...   \n",
       "1694   1105.0  Scenic @ Scotlandville Library   NaN     YES  REFURBISHED   \n",
       "1695   1996.0                Florida @ Eugene   NaN      NO          NaN   \n",
       "1696   1514.0         East Airport @ Goodwood    NB      NO          NaN   \n",
       "1697   1386.0          Thomas H Delpit @ Taft   NaN      NO          NaN   \n",
       "1698   1720.0            Airway @ Leo Skating   NaN      NO          NaN   \n",
       "\n",
       "      RIDERSHIP ON  RIDERSHIP OFF  RIDERSHIP TOTAL STOP DIRECTION  ROUTE NO.  \n",
       "0            511.0          463.0            974.0              S       11.0  \n",
       "1              NaN            NaN              NaN              S       58.0  \n",
       "2            479.0          153.0            632.0              S       11.0  \n",
       "3            319.0          460.0            779.0              W       11.0  \n",
       "4            166.0          440.0            606.0              N       20.0  \n",
       "...            ...            ...              ...            ...        ...  \n",
       "1694        1814.0          790.0           2604.0              S       10.0  \n",
       "1695         824.0         3722.0           4546.0              W       44.0  \n",
       "1696         123.0          117.0            240.0              W       18.0  \n",
       "1697         163.0           41.0            204.0              S       14.0  \n",
       "1698         257.0          189.0            446.0              S       21.0  \n",
       "\n",
       "[1675 rows x 10 columns]"
      ]
     },
     "execution_count": 11,
     "metadata": {},
     "output_type": "execute_result"
    }
   ],
   "source": [
    "# CALL DROP DUPLICATES FUNCTION\n",
    "df_2_2 = drop_duplicates(df_2_2)\n",
    "df_2_2"
   ]
  },
  {
   "cell_type": "markdown",
   "id": "391f3a6c-14e5-4007-915c-9098b3878d1c",
   "metadata": {},
   "source": [
    "# 3. Removing/ Dropping Irrelevant/ Unnecessary Rows\n",
    "Syntax Ex: <br>\n",
    "Check for Jobs located in State of Ohio in DataFrame: <br>\n",
    "df_2_copy['Location'].str.contains(\"Oh\", case=False) <br> <br>\n",
    "df_2_copy['solumn_Name'].str.contains(\"specified_String\", case=False) <br>\n"
   ]
  },
  {
   "cell_type": "code",
   "execution_count": null,
   "id": "7fd0aaa0-4fa2-4fc8-a66f-7aba07bdbc25",
   "metadata": {},
   "outputs": [],
   "source": []
  },
  {
   "cell_type": "markdown",
   "id": "fd352dc5-be3e-4716-80b2-53f50520b760",
   "metadata": {
    "jp-MarkdownHeadingCollapsed": true
   },
   "source": [
    "# 4. Removing Nulls and Blanks\n",
    "\n",
    "## https://www.w3schools.com/python/pandas/ref_df_2_dropna.asp <br>\n",
    "NOTE: df_2_dropna() method offers more flexibility in what is dropped. <br>\n",
    "## https://www.w3schools.com/python/pandas/ref_df_2_drop.asp <br>\n",
    "\n",
    "\n",
    "## Get count of na (Not a Number values) - df_2_copy.isna().sum <br>\n",
    "\n",
    "## Get count of null (null values) - df_2_copy.isnull().sum<br>\n",
    "## Get count of null / na values fpr specific column - df_2[\"column name\"].isna() / df_2['column name'].isnull()<br>\n",
    "## For multiple columns pass a list of column names in - df_2.[[\"list_of_column_names\"]].isna()\n"
   ]
  },
  {
   "cell_type": "code",
   "execution_count": 11,
   "id": "53918c25-b5bb-4249-b9fa-e4383d6fe145",
   "metadata": {},
   "outputs": [],
   "source": [
    "# Example: Drop rows where all values are null/blank\n",
    "df_2_2.dropna(axis=0, how='all', inplace=True)"
   ]
  },
  {
   "cell_type": "code",
   "execution_count": 12,
   "id": "0abcac82-fdeb-4a3e-a553-bad74ce345ee",
   "metadata": {},
   "outputs": [
    {
     "name": "stdout",
     "output_type": "stream",
     "text": [
      "Cleaned data saved!\n"
     ]
    }
   ],
   "source": [
    "output_file(df_2_2)"
   ]
  },
  {
   "cell_type": "code",
   "execution_count": null,
   "id": "af53cb41-97de-4d13-b108-e9ee4df60d5c",
   "metadata": {},
   "outputs": [],
   "source": []
  },
  {
   "cell_type": "code",
   "execution_count": null,
   "id": "fbcc2a01-9a28-46a2-bf60-caaea0174402",
   "metadata": {},
   "outputs": [],
   "source": []
  },
  {
   "cell_type": "code",
   "execution_count": null,
   "id": "e7455fe8-5b25-4168-8f64-8544d512b704",
   "metadata": {},
   "outputs": [],
   "source": []
  },
  {
   "cell_type": "code",
   "execution_count": null,
   "id": "50787e70-1995-4334-aa0b-40a47d9ed0ed",
   "metadata": {},
   "outputs": [],
   "source": []
  },
  {
   "cell_type": "markdown",
   "id": "f55de5be-9e72-498b-96e3-d4a6ff839a09",
   "metadata": {},
   "source": [
    "# 4B - Filling Nulls / Blanks\n",
    "## https://www.w3schools.com/python/pandas/ref_df_2_fillna.asp"
   ]
  },
  {
   "cell_type": "code",
   "execution_count": 13,
   "id": "ed14993b-bf4a-4d4d-9e97-91c0eb863a5e",
   "metadata": {},
   "outputs": [
    {
     "name": "stderr",
     "output_type": "stream",
     "text": [
      "C:\\Users\\Cessn\\AppData\\Local\\Temp\\ipykernel_16712\\130094186.py:7: FutureWarning: A value is trying to be set on a copy of a DataFrame or Series through chained assignment using an inplace method.\n",
      "The behavior will change in pandas 3.0. This inplace method will never work because the intermediate object on which we are setting values always behaves as a copy.\n",
      "\n",
      "For example, when doing 'df[col].method(value, inplace=True)', try using 'df.method({col: value}, inplace=True)' or df[col] = df[col].method(value) instead, to perform the operation inplace on the original object.\n",
      "\n",
      "\n",
      "  cleansed_file[column].fillna(0, inplace=True)\n",
      "C:\\Users\\Cessn\\AppData\\Local\\Temp\\ipykernel_16712\\130094186.py:6: FutureWarning: A value is trying to be set on a copy of a DataFrame or Series through chained assignment using an inplace method.\n",
      "The behavior will change in pandas 3.0. This inplace method will never work because the intermediate object on which we are setting values always behaves as a copy.\n",
      "\n",
      "For example, when doing 'df[col].method(value, inplace=True)', try using 'df.method({col: value}, inplace=True)' or df[col] = df[col].method(value) instead, to perform the operation inplace on the original object.\n",
      "\n",
      "\n",
      "  cleansed_file[column].fillna(\"N/A\", inplace=True)\n"
     ]
    }
   ],
   "source": [
    "# Cast value as appropriate data type before assignment\n",
    "# df_2_2.loc[0, ['RIDERSHIP ON', 'RIDERSHIP OFF', 'RIDERSHIP TOTAL']] = float(0)\n",
    "\n",
    "for column in df_2_2:\n",
    "    if df_2_2[column].dtype == 'object':\n",
    "        df_2_2[column].fillna(\"N/A\", inplace=True)\n",
    "    df_2_2[column].fillna(0, inplace=True)"
   ]
  },
  {
   "cell_type": "code",
   "execution_count": null,
   "id": "56ee49e8-2cdb-44c5-b4d5-aa062d508ddf",
   "metadata": {},
   "outputs": [],
   "source": []
  },
  {
   "cell_type": "code",
   "execution_count": null,
   "id": "84fd0f3f-3aef-404d-ab82-d91c85efee31",
   "metadata": {},
   "outputs": [],
   "source": []
  },
  {
   "cell_type": "code",
   "execution_count": 14,
   "id": "2ecf9db6-39b1-43bc-964f-74ac29b7a5fb",
   "metadata": {},
   "outputs": [
    {
     "name": "stdout",
     "output_type": "stream",
     "text": [
      "Cleaned data saved!\n"
     ]
    }
   ],
   "source": [
    "output_file(df_2_2)"
   ]
  },
  {
   "cell_type": "code",
   "execution_count": null,
   "id": "60aef386-f7b6-4e97-b1d8-fe9bf1818b50",
   "metadata": {},
   "outputs": [],
   "source": []
  },
  {
   "cell_type": "markdown",
   "id": "05a1e790-b6e2-4c42-9678-ae9ac518c706",
   "metadata": {},
   "source": [
    "# 5 - Standardizing Values (6:26)\n",
    "\n",
    "# SYNTAX Examples: <br>\n",
    "# NOTE use df_2.loc as shown below to get specific column info: <br>\n",
    "df_2_copy.loc[row_indexer, [\"column_name\"]] <br>\n",
    "df_2_copy.loc[0:, [\"column_name\"]]"
   ]
  },
  {
   "cell_type": "code",
   "execution_count": null,
   "id": "0ca9ae89-c501-4bee-9d54-56ef8f88fb4f",
   "metadata": {},
   "outputs": [],
   "source": []
  },
  {
   "cell_type": "code",
   "execution_count": null,
   "id": "bd7340b1-1867-43fa-8048-17211fbbd969",
   "metadata": {},
   "outputs": [],
   "source": []
  },
  {
   "cell_type": "code",
   "execution_count": 15,
   "id": "c890b3eb-e8a4-4c0d-8fd4-d39e7fb06490",
   "metadata": {},
   "outputs": [],
   "source": [
    "# NOTE use df_2.loc as shown below to get specific column info\n",
    "# df_2_copy.loc[0:, [\"Job Title\"]]"
   ]
  },
  {
   "cell_type": "code",
   "execution_count": 16,
   "id": "30af21e8-f098-423d-8543-b6b73852bfdb",
   "metadata": {},
   "outputs": [],
   "source": [
    "# Return all elements in Job Title column where Job Title string contains a specific word\n",
    "# df_2_copy[df_2_copy[\"Job Title\"].str.contains('scientist', case=False)]\n"
   ]
  },
  {
   "cell_type": "code",
   "execution_count": 17,
   "id": "6ae8fd55-1b4a-4b78-87b6-c7411e312e1e",
   "metadata": {},
   "outputs": [],
   "source": [
    "# Standardize all strings containing word scientist to read \"Data Scientist\"\n",
    "# df_2_copy.loc[df_2_copy[\"Job Title\"].str.contains(\"scientist\", case=False), \"Job Title\"] = \"Data Scientist\""
   ]
  },
  {
   "cell_type": "code",
   "execution_count": 18,
   "id": "445b9ffb-ce7a-4422-933d-73b738f89745",
   "metadata": {},
   "outputs": [],
   "source": [
    "# Check to ensure fields in Job Title Column have been updated\n",
    "# df_2_copy.loc[:, \"Job Title\"]"
   ]
  },
  {
   "cell_type": "code",
   "execution_count": 19,
   "id": "9d4efe05-d01e-4825-b416-f63bef8a589e",
   "metadata": {},
   "outputs": [],
   "source": [
    "# Capture /show all strings containing the letter k or K in column Salary Estimate \n",
    "# df_2_copy.loc[df_2_copy[\"Salary Estimate\"].str.contains(\"k\", case=False), \"Salary Estimate\"]"
   ]
  },
  {
   "cell_type": "code",
   "execution_count": 20,
   "id": "7a5aa093-1376-428a-ad03-08119661f659",
   "metadata": {},
   "outputs": [],
   "source": [
    "# Replace letter \"k\" Salary Estimate column with 000 \n",
    "# Final value: 181K - 182K > 181000 - 182000\n",
    "\n",
    "# Use dictionay object as per below syntax examples:\n",
    "\n",
    "# replace_dict ={\"\\$\": \"\", \n",
    "#                \"K\": \"000\",\n",
    "#               }\n",
    "# df_2_copy[\"Salary Estimate\"] = df_2_copy['Salary Estimate'].replace(replace_dict, regex=True)"
   ]
  },
  {
   "cell_type": "code",
   "execution_count": 21,
   "id": "0cf78f8e-c331-4f19-8c69-da24f28bee2a",
   "metadata": {},
   "outputs": [],
   "source": [
    "# df_2_copy[\"Salary Estimate\"]"
   ]
  },
  {
   "cell_type": "markdown",
   "id": "a0f3b286-e232-471e-a6b8-51cb34c11797",
   "metadata": {},
   "source": []
  },
  {
   "cell_type": "markdown",
   "id": "37db6c23-b30b-4f5a-af84-6c8192c9ea40",
   "metadata": {},
   "source": [
    "# 6 - Splitting Columns 8:16\n",
    "## Documentation: https://pandas.pydata.org/docs/reference/api/pandas.Series.str.split.html <br>\n",
    "## Youtube: https://youtu.be/FbFQH_RNMu0?t=496\n",
    "\n",
    "## Example Code: https://docs.google.com/document/d/15Ajf-MKtOWItDITu-kukbEeshtCyMC86htXgTiMZJOA/edit?tab=t.0\n",
    "\n",
    "## SYNTAX EXAMPLES:\n"
   ]
  },
  {
   "cell_type": "code",
   "execution_count": null,
   "id": "de839c6d-b340-4087-a26b-7b76f47cb3a5",
   "metadata": {},
   "outputs": [],
   "source": []
  },
  {
   "cell_type": "markdown",
   "id": "79fa06c6-44df-43bb-8fea-b4128395004c",
   "metadata": {},
   "source": [
    "# 7 - Convert Datatypes <br>\n",
    "## Youtube: https://youtu.be/FbFQH_RNMu0?t=613 <br>\n",
    "## Code Examples: https://docs.google.com/document/d/1HiZYEBH_5RaNjvvVtOodOFB0z-ji_4kx-kF9pv1IE-U/edit?tab=t.0 <br>\n",
    "\n",
    "## Convert datatype: multiple columns to datatype int: <br>\n",
    "convert_dtypes ={'colName_1': 'int',\n",
    "                'colName_2': 'int',} <br>\n",
    "df_2 = df_2.astype(convert_dtypes) <br>\n",
    "\n",
    "# CONVERT datatype of single column <br>\n",
    "df_2['colName_1'] = df_2['colName_1'].astype(\"specify_datatype\")"
   ]
  },
  {
   "cell_type": "code",
   "execution_count": null,
   "id": "9dcd08a3-4021-48fd-a17c-cc64c7b108a3",
   "metadata": {},
   "outputs": [],
   "source": []
  },
  {
   "cell_type": "code",
   "execution_count": null,
   "id": "465b1582-ac4c-4e7f-9e99-de68a240111e",
   "metadata": {},
   "outputs": [],
   "source": []
  },
  {
   "cell_type": "code",
   "execution_count": 24,
   "id": "2b1ca15d-f013-462d-a08d-4e0e1a4199a7",
   "metadata": {},
   "outputs": [],
   "source": [
    "# CONVERT RIDERSHIP columns to data type INT from datatype FLOAT:\n",
    "convert_dtypes ={'RIDERSHIP ON': 'int',\n",
    "                'RIDERSHIP OFF': 'int',\n",
    "                'RIDERSHIP TOTAL': 'int',}\n",
    "df_2_2 = df_2_2.astype(convert_dtypes)"
   ]
  },
  {
   "cell_type": "code",
   "execution_count": null,
   "id": "6adedd8c-5ba8-48bf-baa2-2614b0bd65f7",
   "metadata": {},
   "outputs": [],
   "source": []
  },
  {
   "cell_type": "code",
   "execution_count": 25,
   "id": "7093e74d-51a9-416b-8424-d7b4ebf87b2c",
   "metadata": {},
   "outputs": [
    {
     "name": "stdout",
     "output_type": "stream",
     "text": [
      "Cleaned data saved!\n"
     ]
    }
   ],
   "source": [
    "output_file(df_2_2)"
   ]
  },
  {
   "cell_type": "code",
   "execution_count": null,
   "id": "c527fd35-b0a7-4f62-9490-e87e13380ae1",
   "metadata": {},
   "outputs": [],
   "source": []
  },
  {
   "cell_type": "code",
   "execution_count": null,
   "id": "487abd88-242a-46bc-95c4-da1112e81e94",
   "metadata": {},
   "outputs": [],
   "source": []
  },
  {
   "cell_type": "markdown",
   "id": "6d51c852-07bc-41bd-851b-32bcf43927b2",
   "metadata": {},
   "source": [
    "# 8 - Stripping Strings <br>\n",
    "## Youtube - https://youtu.be/FbFQH_RNMu0?t=648 <br>\n",
    "\n",
    "## SYNTAX EXAMPLES\n",
    "## Cleaning special / non-word characters from end of string: <br>\n",
    "df_2 = df_2loc[:, 'column_Name'].str[:-4] - NOTE this cleans up to the last 4 characters of the string"
   ]
  },
  {
   "cell_type": "code",
   "execution_count": null,
   "id": "213fdd43-4f08-4991-a044-cce69b6f70ac",
   "metadata": {},
   "outputs": [],
   "source": []
  },
  {
   "cell_type": "code",
   "execution_count": null,
   "id": "d52840eb-ad72-4196-9c6a-0c714f91972e",
   "metadata": {},
   "outputs": [],
   "source": []
  },
  {
   "cell_type": "code",
   "execution_count": 9,
   "id": "09d9b4cd-9eec-41da-a6ec-166d5a66f448",
   "metadata": {},
   "outputs": [
    {
     "name": "stdout",
     "output_type": "stream",
     "text": [
      "<class 'pandas.core.frame.DataFrame'>\n",
      "RangeIndex: 3912 entries, 0 to 3911\n",
      "Data columns (total 17 columns):\n",
      " #   Column             Non-Null Count  Dtype  \n",
      "---  ------             --------------  -----  \n",
      " 0   Unnamed: 0         3912 non-null   int64  \n",
      " 1   index              3912 non-null   int64  \n",
      " 2   Job Title          3911 non-null   object \n",
      " 3   Salary Estimate    3912 non-null   object \n",
      " 4   Job Description    3911 non-null   object \n",
      " 5   Rating             3912 non-null   float64\n",
      " 6   Company Name       3912 non-null   object \n",
      " 7   Location           3912 non-null   object \n",
      " 8   Headquarters       3911 non-null   object \n",
      " 9   Size               3912 non-null   object \n",
      " 10  Founded            3912 non-null   int64  \n",
      " 11  Type of ownership  3911 non-null   object \n",
      " 12  Industry           3910 non-null   object \n",
      " 13  Sector             3912 non-null   object \n",
      " 14  Revenue            3912 non-null   object \n",
      " 15  Competitors        3909 non-null   object \n",
      " 16  Easy Apply         3912 non-null   object \n",
      "dtypes: float64(1), int64(3), object(13)\n",
      "memory usage: 519.7+ KB\n"
     ]
    }
   ],
   "source": [
    "test_df_2 = pd.read_csv(r'C:\\Users\\Cessn\\OneDrive\\Desktop\\sample_datasets\\data_scientist\\csv_files\\DataScientist2.csv')\n",
    "test_df_2.info()"
   ]
  },
  {
   "cell_type": "code",
   "execution_count": null,
   "id": "c600cc63-a511-466d-8de5-49baaa40fe10",
   "metadata": {},
   "outputs": [],
   "source": []
  },
  {
   "cell_type": "code",
   "execution_count": 16,
   "id": "7fc35a4b-4359-414b-8dd8-6be869832771",
   "metadata": {},
   "outputs": [
    {
     "name": "stdout",
     "output_type": "stream",
     "text": [
      "False\n",
      "False\n",
      "False\n",
      "False\n",
      "False\n",
      "False\n",
      "True\n",
      "False\n",
      "False\n",
      "False\n",
      "False\n",
      "False\n",
      "False\n",
      "False\n",
      "False\n",
      "False\n",
      "False\n"
     ]
    }
   ],
   "source": [
    "for colName in test_df_2.columns:\n",
    "    if colName == \"Company Name\":\n",
    "        print(True)\n",
    "    else:\n",
    "        print(not True)"
   ]
  },
  {
   "cell_type": "code",
   "execution_count": null,
   "id": "aec9a3e0-09f1-43d3-b9b6-51d1f17ce9b1",
   "metadata": {},
   "outputs": [],
   "source": []
  },
  {
   "cell_type": "code",
   "execution_count": null,
   "id": "1bf82c1f-ccad-4b23-8623-387b378d604a",
   "metadata": {},
   "outputs": [],
   "source": []
  },
  {
   "cell_type": "code",
   "execution_count": null,
   "id": "ded2ad03-f71c-4555-a4a6-e32e17191aca",
   "metadata": {},
   "outputs": [],
   "source": []
  },
  {
   "cell_type": "code",
   "execution_count": null,
   "id": "c3ad31d6-7f6f-4068-80ee-78c18a45ebee",
   "metadata": {},
   "outputs": [],
   "source": []
  },
  {
   "cell_type": "code",
   "execution_count": null,
   "id": "d324256d-4bdf-4a99-b98f-fb1f74ef03f7",
   "metadata": {},
   "outputs": [],
   "source": []
  },
  {
   "cell_type": "code",
   "execution_count": null,
   "id": "b4c0a0c4-de2f-4446-bd5f-a0f72dbd464b",
   "metadata": {},
   "outputs": [],
   "source": []
  },
  {
   "cell_type": "code",
   "execution_count": null,
   "id": "de9e37d7-a0b8-4e24-b154-e71ccc3fd14e",
   "metadata": {},
   "outputs": [],
   "source": []
  },
  {
   "cell_type": "code",
   "execution_count": null,
   "id": "a4410c84-273b-4980-b559-2c73fc265791",
   "metadata": {},
   "outputs": [],
   "source": []
  },
  {
   "cell_type": "code",
   "execution_count": null,
   "id": "d0353f31-1143-44a0-a2a4-a497f1b2ce31",
   "metadata": {},
   "outputs": [],
   "source": []
  },
  {
   "cell_type": "code",
   "execution_count": null,
   "id": "ceed427e-7f7b-46f6-8012-88dbc458bee6",
   "metadata": {},
   "outputs": [],
   "source": []
  },
  {
   "cell_type": "code",
   "execution_count": null,
   "id": "cf563fbb-5426-4d6e-9ca7-9a632823bb1b",
   "metadata": {},
   "outputs": [],
   "source": []
  }
 ],
 "metadata": {
  "kernelspec": {
   "display_name": "Python 3 (ipykernel)",
   "language": "python",
   "name": "python3"
  },
  "language_info": {
   "codemirror_mode": {
    "name": "ipython",
    "version": 3
   },
   "file_extension": ".py",
   "mimetype": "text/x-python",
   "name": "python",
   "nbconvert_exporter": "python",
   "pygments_lexer": "ipython3",
   "version": "3.13.2"
  }
 },
 "nbformat": 4,
 "nbformat_minor": 5
}
