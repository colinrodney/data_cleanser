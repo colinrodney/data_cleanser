{
 "cells": [
  {
   "cell_type": "code",
   "execution_count": 1,
   "id": "d328b855-1803-4b71-9d1e-166d5c54be6d",
   "metadata": {},
   "outputs": [],
   "source": [
    "import pandas as pd"
   ]
  },
  {
   "cell_type": "markdown",
   "id": "a89f957e-ae2e-4698-bd76-c815d6161905",
   "metadata": {},
   "source": [
    "## Pandas / Python References <br>\n",
    "String Methods: https://www.w3schools.com/python/python_ref_string.asp <br>\n",
    "DataFrame Reference: https://www.w3schools.com/python/pandas/pandas_ref_dataframe.asp <br>\n"
   ]
  },
  {
   "cell_type": "code",
   "execution_count": null,
   "id": "21e9696f-e78a-4945-8de6-0252fa380d1e",
   "metadata": {},
   "outputs": [],
   "source": []
  },
  {
   "cell_type": "code",
   "execution_count": 6,
   "id": "beb5a87a-38bf-4961-a903-2ea1f24abf76",
   "metadata": {},
   "outputs": [
    {
     "name": "stdout",
     "output_type": "stream",
     "text": [
      "<class 'pandas.core.frame.DataFrame'>\n",
      "RangeIndex: 3912 entries, 0 to 3911\n",
      "Data columns (total 17 columns):\n",
      " #   Column             Non-Null Count  Dtype  \n",
      "---  ------             --------------  -----  \n",
      " 0   Unnamed: 0         3912 non-null   int64  \n",
      " 1   index              3912 non-null   int64  \n",
      " 2   Job Title          3911 non-null   object \n",
      " 3   Salary Estimate    3912 non-null   object \n",
      " 4   Job Description    3911 non-null   object \n",
      " 5   Rating             3912 non-null   float64\n",
      " 6   Company Name       3912 non-null   object \n",
      " 7   Location           3912 non-null   object \n",
      " 8   Headquarters       3911 non-null   object \n",
      " 9   Size               3912 non-null   object \n",
      " 10  Founded            3912 non-null   int64  \n",
      " 11  Type of ownership  3911 non-null   object \n",
      " 12  Industry           3910 non-null   object \n",
      " 13  Sector             3912 non-null   object \n",
      " 14  Revenue            3912 non-null   object \n",
      " 15  Competitors        3909 non-null   object \n",
      " 16  Easy Apply         3912 non-null   object \n",
      "dtypes: float64(1), int64(3), object(13)\n",
      "memory usage: 519.7+ KB\n",
      "None\n",
      "DF SHAPE:  (3912, 17)\n"
     ]
    },
    {
     "data": {
      "text/plain": [
       "Index(['Unnamed: 0', 'index', 'Job Title', 'Salary Estimate',\n",
       "       'Job Description', 'Rating', 'Company Name', 'Location', 'Headquarters',\n",
       "       'Size', 'Founded', 'Type of ownership', 'Industry', 'Sector', 'Revenue',\n",
       "       'Competitors', 'Easy Apply'],\n",
       "      dtype='object')"
      ]
     },
     "execution_count": 6,
     "metadata": {},
     "output_type": "execute_result"
    }
   ],
   "source": [
    "# ORIGINAL DATAFRAME \n",
    "# df = pd.read_csv(r'C:\\Users\\Cessn\\OneDrive\\Desktop\\sample_datasets\\data_scientist\\csv_files\\messy_crm_dataset.csv', nrows = 10)\n",
    "\n",
    "df= pd.read_csv(r'C:\\Users\\Cessn\\OneDrive\\Desktop\\sample_datasets\\data_scientist\\csv_files\\DataScientist2.csv')\n",
    "df_copy = df.copy()\n",
    "print(df_copy.info())\n",
    "print(\"DF SHAPE: \", df_copy.shape)\n",
    "\n",
    "df_copy.columns.str.lower()\n",
    "df_copy.columns.str.replace(r'[^a-z0-9]+', '_', regex=True)\n",
    "df_copy.columns.str.strip()\n",
    "\n",
    "\n",
    "#Create FILE TO BE CLEANSED\n",
    "# Call load_file function \n",
    "# file_toBe_cleansed = (r'C:\\Users\\Cessn\\OneDrive\\Desktop\\sample_datasets\\data_scientist\\csv_files\\messy_crm_dataset.csv', nrows = 10)\n",
    "# print(file_toBe_cleansed.shape, \"\\n\", file_toBe_cleansed.info())"
   ]
  },
  {
   "cell_type": "code",
   "execution_count": null,
   "id": "d7df47b5-4442-45c3-a5f0-c5e4742839b2",
   "metadata": {},
   "outputs": [],
   "source": []
  },
  {
   "cell_type": "markdown",
   "id": "fd43df16-431a-429f-8e12-6c1b777c9421",
   "metadata": {},
   "source": [
    "# 8 Most Common Data Cleansing Techniques:\n",
    "\n",
    "## 1. Dropping Columns: \n",
    "cols_to_drop = [\"\"] > df_copy.drop(to_drop, axis = 1)\n",
    "NOTE: \n",
    "axis = 0 (rows) \n",
    "axis = 1 (columns)"
   ]
  },
  {
   "cell_type": "code",
   "execution_count": null,
   "id": "50c2a0c1-6171-4196-b9de-c4a8845a75f7",
   "metadata": {},
   "outputs": [],
   "source": []
  },
  {
   "cell_type": "code",
   "execution_count": null,
   "id": "196447c0-7455-4105-82f5-d6d55dadc2ae",
   "metadata": {},
   "outputs": [],
   "source": []
  },
  {
   "cell_type": "code",
   "execution_count": null,
   "id": "9951d797-4963-4689-80e8-96cc5642e3bb",
   "metadata": {},
   "outputs": [],
   "source": []
  },
  {
   "cell_type": "code",
   "execution_count": 11,
   "id": "18352de9-8457-4744-b4c4-51dec63b1371",
   "metadata": {},
   "outputs": [
    {
     "ename": "KeyError",
     "evalue": "\"['Unnamed: 0', 'Headquarters', 'Founded', 'Type of ownership', 'Competitors'] not found in axis\"",
     "output_type": "error",
     "traceback": [
      "\u001b[31m---------------------------------------------------------------------------\u001b[39m",
      "\u001b[31mKeyError\u001b[39m                                  Traceback (most recent call last)",
      "\u001b[36mCell\u001b[39m\u001b[36m \u001b[39m\u001b[32mIn[11]\u001b[39m\u001b[32m, line 4\u001b[39m\n\u001b[32m      1\u001b[39m \u001b[38;5;66;03m# Drop irrelevant columns\u001b[39;00m\n\u001b[32m      2\u001b[39m cols_to_drop = [\u001b[33m\"\u001b[39m\u001b[33mUnnamed: 0\u001b[39m\u001b[33m\"\u001b[39m, \u001b[33m\"\u001b[39m\u001b[33mHeadquarters\u001b[39m\u001b[33m\"\u001b[39m, \u001b[33m\"\u001b[39m\u001b[33mFounded\u001b[39m\u001b[33m\"\u001b[39m, \u001b[33m\"\u001b[39m\u001b[33mType of ownership\u001b[39m\u001b[33m\"\u001b[39m, \u001b[33m\"\u001b[39m\u001b[33mCompetitors\u001b[39m\u001b[33m\"\u001b[39m]\n\u001b[32m----> \u001b[39m\u001b[32m4\u001b[39m df_copy = \u001b[43mdf_copy\u001b[49m\u001b[43m.\u001b[49m\u001b[43mdrop\u001b[49m\u001b[43m(\u001b[49m\u001b[43mcols_to_drop\u001b[49m\u001b[43m,\u001b[49m\u001b[43m \u001b[49m\u001b[43maxis\u001b[49m\u001b[43m \u001b[49m\u001b[43m=\u001b[49m\u001b[43m \u001b[49m\u001b[32;43m1\u001b[39;49m\u001b[43m)\u001b[49m\n\u001b[32m      5\u001b[39m df_copy.to_csv(\u001b[33m'\u001b[39m\u001b[33moutput.csv\u001b[39m\u001b[33m'\u001b[39m)\n",
      "\u001b[36mFile \u001b[39m\u001b[32m~\\miniconda3\\Lib\\site-packages\\pandas\\core\\frame.py:5588\u001b[39m, in \u001b[36mDataFrame.drop\u001b[39m\u001b[34m(self, labels, axis, index, columns, level, inplace, errors)\u001b[39m\n\u001b[32m   5440\u001b[39m \u001b[38;5;28;01mdef\u001b[39;00m\u001b[38;5;250m \u001b[39m\u001b[34mdrop\u001b[39m(\n\u001b[32m   5441\u001b[39m     \u001b[38;5;28mself\u001b[39m,\n\u001b[32m   5442\u001b[39m     labels: IndexLabel | \u001b[38;5;28;01mNone\u001b[39;00m = \u001b[38;5;28;01mNone\u001b[39;00m,\n\u001b[32m   (...)\u001b[39m\u001b[32m   5449\u001b[39m     errors: IgnoreRaise = \u001b[33m\"\u001b[39m\u001b[33mraise\u001b[39m\u001b[33m\"\u001b[39m,\n\u001b[32m   5450\u001b[39m ) -> DataFrame | \u001b[38;5;28;01mNone\u001b[39;00m:\n\u001b[32m   5451\u001b[39m \u001b[38;5;250m    \u001b[39m\u001b[33;03m\"\"\"\u001b[39;00m\n\u001b[32m   5452\u001b[39m \u001b[33;03m    Drop specified labels from rows or columns.\u001b[39;00m\n\u001b[32m   5453\u001b[39m \n\u001b[32m   (...)\u001b[39m\u001b[32m   5586\u001b[39m \u001b[33;03m            weight  1.0     0.8\u001b[39;00m\n\u001b[32m   5587\u001b[39m \u001b[33;03m    \"\"\"\u001b[39;00m\n\u001b[32m-> \u001b[39m\u001b[32m5588\u001b[39m     \u001b[38;5;28;01mreturn\u001b[39;00m \u001b[38;5;28;43msuper\u001b[39;49m\u001b[43m(\u001b[49m\u001b[43m)\u001b[49m\u001b[43m.\u001b[49m\u001b[43mdrop\u001b[49m\u001b[43m(\u001b[49m\n\u001b[32m   5589\u001b[39m \u001b[43m        \u001b[49m\u001b[43mlabels\u001b[49m\u001b[43m=\u001b[49m\u001b[43mlabels\u001b[49m\u001b[43m,\u001b[49m\n\u001b[32m   5590\u001b[39m \u001b[43m        \u001b[49m\u001b[43maxis\u001b[49m\u001b[43m=\u001b[49m\u001b[43maxis\u001b[49m\u001b[43m,\u001b[49m\n\u001b[32m   5591\u001b[39m \u001b[43m        \u001b[49m\u001b[43mindex\u001b[49m\u001b[43m=\u001b[49m\u001b[43mindex\u001b[49m\u001b[43m,\u001b[49m\n\u001b[32m   5592\u001b[39m \u001b[43m        \u001b[49m\u001b[43mcolumns\u001b[49m\u001b[43m=\u001b[49m\u001b[43mcolumns\u001b[49m\u001b[43m,\u001b[49m\n\u001b[32m   5593\u001b[39m \u001b[43m        \u001b[49m\u001b[43mlevel\u001b[49m\u001b[43m=\u001b[49m\u001b[43mlevel\u001b[49m\u001b[43m,\u001b[49m\n\u001b[32m   5594\u001b[39m \u001b[43m        \u001b[49m\u001b[43minplace\u001b[49m\u001b[43m=\u001b[49m\u001b[43minplace\u001b[49m\u001b[43m,\u001b[49m\n\u001b[32m   5595\u001b[39m \u001b[43m        \u001b[49m\u001b[43merrors\u001b[49m\u001b[43m=\u001b[49m\u001b[43merrors\u001b[49m\u001b[43m,\u001b[49m\n\u001b[32m   5596\u001b[39m \u001b[43m    \u001b[49m\u001b[43m)\u001b[49m\n",
      "\u001b[36mFile \u001b[39m\u001b[32m~\\miniconda3\\Lib\\site-packages\\pandas\\core\\generic.py:4807\u001b[39m, in \u001b[36mNDFrame.drop\u001b[39m\u001b[34m(self, labels, axis, index, columns, level, inplace, errors)\u001b[39m\n\u001b[32m   4805\u001b[39m \u001b[38;5;28;01mfor\u001b[39;00m axis, labels \u001b[38;5;129;01min\u001b[39;00m axes.items():\n\u001b[32m   4806\u001b[39m     \u001b[38;5;28;01mif\u001b[39;00m labels \u001b[38;5;129;01mis\u001b[39;00m \u001b[38;5;129;01mnot\u001b[39;00m \u001b[38;5;28;01mNone\u001b[39;00m:\n\u001b[32m-> \u001b[39m\u001b[32m4807\u001b[39m         obj = \u001b[43mobj\u001b[49m\u001b[43m.\u001b[49m\u001b[43m_drop_axis\u001b[49m\u001b[43m(\u001b[49m\u001b[43mlabels\u001b[49m\u001b[43m,\u001b[49m\u001b[43m \u001b[49m\u001b[43maxis\u001b[49m\u001b[43m,\u001b[49m\u001b[43m \u001b[49m\u001b[43mlevel\u001b[49m\u001b[43m=\u001b[49m\u001b[43mlevel\u001b[49m\u001b[43m,\u001b[49m\u001b[43m \u001b[49m\u001b[43merrors\u001b[49m\u001b[43m=\u001b[49m\u001b[43merrors\u001b[49m\u001b[43m)\u001b[49m\n\u001b[32m   4809\u001b[39m \u001b[38;5;28;01mif\u001b[39;00m inplace:\n\u001b[32m   4810\u001b[39m     \u001b[38;5;28mself\u001b[39m._update_inplace(obj)\n",
      "\u001b[36mFile \u001b[39m\u001b[32m~\\miniconda3\\Lib\\site-packages\\pandas\\core\\generic.py:4849\u001b[39m, in \u001b[36mNDFrame._drop_axis\u001b[39m\u001b[34m(self, labels, axis, level, errors, only_slice)\u001b[39m\n\u001b[32m   4847\u001b[39m         new_axis = axis.drop(labels, level=level, errors=errors)\n\u001b[32m   4848\u001b[39m     \u001b[38;5;28;01melse\u001b[39;00m:\n\u001b[32m-> \u001b[39m\u001b[32m4849\u001b[39m         new_axis = \u001b[43maxis\u001b[49m\u001b[43m.\u001b[49m\u001b[43mdrop\u001b[49m\u001b[43m(\u001b[49m\u001b[43mlabels\u001b[49m\u001b[43m,\u001b[49m\u001b[43m \u001b[49m\u001b[43merrors\u001b[49m\u001b[43m=\u001b[49m\u001b[43merrors\u001b[49m\u001b[43m)\u001b[49m\n\u001b[32m   4850\u001b[39m     indexer = axis.get_indexer(new_axis)\n\u001b[32m   4852\u001b[39m \u001b[38;5;66;03m# Case for non-unique axis\u001b[39;00m\n\u001b[32m   4853\u001b[39m \u001b[38;5;28;01melse\u001b[39;00m:\n",
      "\u001b[36mFile \u001b[39m\u001b[32m~\\miniconda3\\Lib\\site-packages\\pandas\\core\\indexes\\base.py:7098\u001b[39m, in \u001b[36mIndex.drop\u001b[39m\u001b[34m(self, labels, errors)\u001b[39m\n\u001b[32m   7096\u001b[39m \u001b[38;5;28;01mif\u001b[39;00m mask.any():\n\u001b[32m   7097\u001b[39m     \u001b[38;5;28;01mif\u001b[39;00m errors != \u001b[33m\"\u001b[39m\u001b[33mignore\u001b[39m\u001b[33m\"\u001b[39m:\n\u001b[32m-> \u001b[39m\u001b[32m7098\u001b[39m         \u001b[38;5;28;01mraise\u001b[39;00m \u001b[38;5;167;01mKeyError\u001b[39;00m(\u001b[33mf\u001b[39m\u001b[33m\"\u001b[39m\u001b[38;5;132;01m{\u001b[39;00mlabels[mask].tolist()\u001b[38;5;132;01m}\u001b[39;00m\u001b[33m not found in axis\u001b[39m\u001b[33m\"\u001b[39m)\n\u001b[32m   7099\u001b[39m     indexer = indexer[~mask]\n\u001b[32m   7100\u001b[39m \u001b[38;5;28;01mreturn\u001b[39;00m \u001b[38;5;28mself\u001b[39m.delete(indexer)\n",
      "\u001b[31mKeyError\u001b[39m: \"['Unnamed: 0', 'Headquarters', 'Founded', 'Type of ownership', 'Competitors'] not found in axis\""
     ]
    }
   ],
   "source": [
    "# Drop irrelevant columns\n",
    "cols_to_drop = [\"Unnamed: 0\", \"Headquarters\", \"Founded\", \"Type of ownership\", \"Competitors\"]\n",
    "\n",
    "df_copy = df_copy.drop(cols_to_drop, axis = 1) \n",
    "\n"
   ]
  },
  {
   "cell_type": "code",
   "execution_count": 12,
   "id": "8c87285e-74cf-42bb-92cc-27aa1c207a73",
   "metadata": {},
   "outputs": [],
   "source": [
    "df_copy.to_csv('output.csv')"
   ]
  },
  {
   "cell_type": "code",
   "execution_count": null,
   "id": "c73142a3-8536-4079-96b2-1ab9e2c19657",
   "metadata": {},
   "outputs": [],
   "source": []
  },
  {
   "attachments": {
    "4921ef51-155d-46a9-b413-1d9929407a78.png": {
     "image/png": "[encoded data removed]"
    },
    "56a94d95-e6b6-4522-aa27-bab3775c1635.png": {
     "image/png": "[encoded data removed]"
    },
    "cd234ccb-639f-4690-805e-41d5deb2a3ee.png": {
     "image/png": "[encoded data removed]"
    },
    "ea35a4ad-80e1-439a-8dd5-373c8710211b.png": {
     "image/png": "[encoded data removed]"
    }
   },
   "cell_type": "markdown",
   "id": "cc9bd69c-be17-44ff-a048-995abb08085f",
   "metadata": {},
   "source": [
    "## 2. Removing Duplicates\n",
    "## Info - https://www.w3schools.com/python/pandas/ref_df_duplicated.asp\n",
    "\n",
    "Syntax Example:\n",
    "![image.png](attachment:cd234ccb-639f-4690-805e-41d5deb2a3ee.png)\n",
    "\n",
    "![image.png](attachment:ea35a4ad-80e1-439a-8dd5-373c8710211b.png)\n",
    "\n",
    "![image.png](attachment:56a94d95-e6b6-4522-aa27-bab3775c1635.png)\n",
    "\n",
    "![image.png](attachment:4921ef51-155d-46a9-b413-1d9929407a78.png)\n",
    "\n",
    "Syntax:  <br>\n",
    "get duplicates returned in DataFrame Format: df_copy[df_copy.duplicated()] <br>\n",
    "get duplicates returned in Text Format: df_copy.duplicated() <br>\n"
   ]
  },
  {
   "cell_type": "markdown",
   "id": "59b03e4f-3e00-44a0-b1c0-28795200414c",
   "metadata": {},
   "source": [
    "# 3. Removing Irrelevant Rows"
   ]
  },
  {
   "cell_type": "code",
   "execution_count": null,
   "id": "9d1bf1fc-a5a0-43e0-b152-41037b2102d1",
   "metadata": {},
   "outputs": [],
   "source": []
  },
  {
   "cell_type": "code",
   "execution_count": null,
   "id": "7b4585f0-4e0e-4db4-b398-254123c7e2d1",
   "metadata": {},
   "outputs": [],
   "source": []
  },
  {
   "cell_type": "code",
   "execution_count": 14,
   "id": "e047cb63-0b46-44bd-bcb6-2ea5685784bd",
   "metadata": {},
   "outputs": [
    {
     "data": {
      "text/html": [
       "<div>\n",
       "<style scoped>\n",
       "    .dataframe tbody tr th:only-of-type {\n",
       "        vertical-align: middle;\n",
       "    }\n",
       "\n",
       "    .dataframe tbody tr th {\n",
       "        vertical-align: top;\n",
       "    }\n",
       "\n",
       "    .dataframe thead th {\n",
       "        text-align: right;\n",
       "    }\n",
       "</style>\n",
       "<table border=\"1\" class=\"dataframe\">\n",
       "  <thead>\n",
       "    <tr style=\"text-align: right;\">\n",
       "      <th></th>\n",
       "      <th>index</th>\n",
       "      <th>Job Title</th>\n",
       "      <th>Salary Estimate</th>\n",
       "      <th>Job Description</th>\n",
       "      <th>Rating</th>\n",
       "      <th>Company Name</th>\n",
       "      <th>Location</th>\n",
       "      <th>Size</th>\n",
       "      <th>Industry</th>\n",
       "      <th>Sector</th>\n",
       "      <th>Revenue</th>\n",
       "      <th>Easy Apply</th>\n",
       "    </tr>\n",
       "  </thead>\n",
       "  <tbody>\n",
       "    <tr>\n",
       "      <th>3909</th>\n",
       "      <td>4377</td>\n",
       "      <td>Security Analytics Data Engineer</td>\n",
       "      <td>$55K-$112K (Glassdoor est.)</td>\n",
       "      <td>Job DescriptionThe Security Analytics Data Eng...</td>\n",
       "      <td>3.8</td>\n",
       "      <td>PDS Tech, Inc.\\n3.8</td>\n",
       "      <td>Dublin, OH</td>\n",
       "      <td>5001 to 10000 employees</td>\n",
       "      <td>Staffing &amp; Outsourcing</td>\n",
       "      <td>Business Services</td>\n",
       "      <td>$100 to $500 million (USD)</td>\n",
       "      <td>-1</td>\n",
       "    </tr>\n",
       "    <tr>\n",
       "      <th>3910</th>\n",
       "      <td>4378</td>\n",
       "      <td>Security Analytics Data Engineer</td>\n",
       "      <td>$55K-$112K (Glassdoor est.)</td>\n",
       "      <td>The Security Analytics Data Engineer will inte...</td>\n",
       "      <td>4.0</td>\n",
       "      <td>Data Resource Technologies\\n4.0</td>\n",
       "      <td>Dublin, OH</td>\n",
       "      <td>1 to 50 employees</td>\n",
       "      <td>Accounting</td>\n",
       "      <td>Accounting &amp; Legal</td>\n",
       "      <td>Less than $1 million (USD)</td>\n",
       "      <td>-1</td>\n",
       "    </tr>\n",
       "    <tr>\n",
       "      <th>3911</th>\n",
       "      <td>4379</td>\n",
       "      <td>Patient Safety Physician or Safety Scientist -...</td>\n",
       "      <td>$55K-$112K (Glassdoor est.)</td>\n",
       "      <td>Help us transform patients' lives.\\nAt UCB, we...</td>\n",
       "      <td>3.7</td>\n",
       "      <td>UCB\\n3.7</td>\n",
       "      <td>Slough, OH</td>\n",
       "      <td>5001 to 10000 employees</td>\n",
       "      <td>Biotech &amp; Pharmaceuticals</td>\n",
       "      <td>Biotech &amp; Pharmaceuticals</td>\n",
       "      <td>$2 to $5 billion (USD)</td>\n",
       "      <td>-1</td>\n",
       "    </tr>\n",
       "  </tbody>\n",
       "</table>\n",
       "</div>"
      ],
      "text/plain": [
       "      index                                          Job Title  \\\n",
       "3909   4377                   Security Analytics Data Engineer   \n",
       "3910   4378                   Security Analytics Data Engineer   \n",
       "3911   4379  Patient Safety Physician or Safety Scientist -...   \n",
       "\n",
       "                  Salary Estimate  \\\n",
       "3909  $55K-$112K (Glassdoor est.)   \n",
       "3910  $55K-$112K (Glassdoor est.)   \n",
       "3911  $55K-$112K (Glassdoor est.)   \n",
       "\n",
       "                                        Job Description  Rating  \\\n",
       "3909  Job DescriptionThe Security Analytics Data Eng...     3.8   \n",
       "3910  The Security Analytics Data Engineer will inte...     4.0   \n",
       "3911  Help us transform patients' lives.\\nAt UCB, we...     3.7   \n",
       "\n",
       "                         Company Name    Location                     Size  \\\n",
       "3909              PDS Tech, Inc.\\n3.8  Dublin, OH  5001 to 10000 employees   \n",
       "3910  Data Resource Technologies\\n4.0  Dublin, OH        1 to 50 employees   \n",
       "3911                         UCB\\n3.7  Slough, OH  5001 to 10000 employees   \n",
       "\n",
       "                       Industry                     Sector  \\\n",
       "3909     Staffing & Outsourcing          Business Services   \n",
       "3910                 Accounting         Accounting & Legal   \n",
       "3911  Biotech & Pharmaceuticals  Biotech & Pharmaceuticals   \n",
       "\n",
       "                         Revenue Easy Apply  \n",
       "3909  $100 to $500 million (USD)         -1  \n",
       "3910  Less than $1 million (USD)         -1  \n",
       "3911      $2 to $5 billion (USD)         -1  "
      ]
     },
     "execution_count": 14,
     "metadata": {},
     "output_type": "execute_result"
    }
   ],
   "source": []
  },
  {
   "cell_type": "code",
   "execution_count": null,
   "id": "89caebf7-3af4-48b4-b4ae-144d72fae2bf",
   "metadata": {},
   "outputs": [],
   "source": []
  },
  {
   "cell_type": "code",
   "execution_count": 24,
   "id": "94347c36-d5bc-4e7b-844f-3a227cc02b1f",
   "metadata": {},
   "outputs": [
    {
     "data": {
      "text/plain": [
       "0       False\n",
       "1       False\n",
       "2       False\n",
       "3       False\n",
       "4       False\n",
       "        ...  \n",
       "3907     True\n",
       "3908     True\n",
       "3909     True\n",
       "3910     True\n",
       "3911     True\n",
       "Name: Location, Length: 3912, dtype: bool"
      ]
     },
     "execution_count": 24,
     "metadata": {},
     "output_type": "execute_result"
    }
   ],
   "source": [
    "# CHeck for Jobs located in State of Ohio in DataFrame:\n",
    "df_copy['Location'].str.contains(\"Oh\", case=False)"
   ]
  },
  {
   "cell_type": "code",
   "execution_count": null,
   "id": "dca109de-801a-4627-8743-b63f5a842058",
   "metadata": {},
   "outputs": [],
   "source": []
  },
  {
   "cell_type": "markdown",
   "id": "3ec36577-d734-48af-8e4d-368c4ef2e3e7",
   "metadata": {},
   "source": [
    "## 4. Removing Nulls and Blanks\n",
    "# Get count of na (Not a Number values) - df_copy.isna().sum\n",
    "\n",
    "# Get count of null (null values) - df_copy.isnull().sum\n",
    "# Get count of null / na values fpr specific column - df[\"column name\"].isna() / df['column name'].isnull()\n",
    "# For multiple columns pass a list of column names in - df.[[\"list_of_column_names\"]].isna()"
   ]
  },
  {
   "cell_type": "code",
   "execution_count": null,
   "id": "a6792e2b-85b9-4054-ad93-0a4ce0bc5466",
   "metadata": {},
   "outputs": [],
   "source": []
  },
  {
   "cell_type": "code",
   "execution_count": null,
   "id": "357f12cf-30dc-47f4-9d24-85f60896d1c0",
   "metadata": {},
   "outputs": [],
   "source": []
  },
  {
   "cell_type": "code",
   "execution_count": null,
   "id": "cfe985f7-2fad-4d40-9bd1-cd5fcac14346",
   "metadata": {},
   "outputs": [],
   "source": []
  },
  {
   "cell_type": "code",
   "execution_count": null,
   "id": "5195ac98-bd33-4544-ad4e-e6bc7bd103cc",
   "metadata": {},
   "outputs": [],
   "source": []
  },
  {
   "cell_type": "code",
   "execution_count": 35,
   "id": "d168f892-1744-442a-a088-805754277933",
   "metadata": {
    "scrolled": true
   },
   "outputs": [
    {
     "data": {
      "text/html": [
       "<div>\n",
       "<style scoped>\n",
       "    .dataframe tbody tr th:only-of-type {\n",
       "        vertical-align: middle;\n",
       "    }\n",
       "\n",
       "    .dataframe tbody tr th {\n",
       "        vertical-align: top;\n",
       "    }\n",
       "\n",
       "    .dataframe thead th {\n",
       "        text-align: right;\n",
       "    }\n",
       "</style>\n",
       "<table border=\"1\" class=\"dataframe\">\n",
       "  <thead>\n",
       "    <tr style=\"text-align: right;\">\n",
       "      <th></th>\n",
       "      <th>index</th>\n",
       "      <th>Job Title</th>\n",
       "      <th>Salary Estimate</th>\n",
       "      <th>Job Description</th>\n",
       "      <th>Rating</th>\n",
       "      <th>Company Name</th>\n",
       "      <th>Location</th>\n",
       "      <th>Size</th>\n",
       "      <th>Industry</th>\n",
       "      <th>Sector</th>\n",
       "      <th>Revenue</th>\n",
       "      <th>Easy Apply</th>\n",
       "    </tr>\n",
       "  </thead>\n",
       "  <tbody>\n",
       "    <tr>\n",
       "      <th>0</th>\n",
       "      <td>False</td>\n",
       "      <td>False</td>\n",
       "      <td>False</td>\n",
       "      <td>False</td>\n",
       "      <td>False</td>\n",
       "      <td>False</td>\n",
       "      <td>False</td>\n",
       "      <td>False</td>\n",
       "      <td>False</td>\n",
       "      <td>False</td>\n",
       "      <td>False</td>\n",
       "      <td>False</td>\n",
       "    </tr>\n",
       "    <tr>\n",
       "      <th>1</th>\n",
       "      <td>False</td>\n",
       "      <td>False</td>\n",
       "      <td>False</td>\n",
       "      <td>False</td>\n",
       "      <td>False</td>\n",
       "      <td>False</td>\n",
       "      <td>False</td>\n",
       "      <td>False</td>\n",
       "      <td>False</td>\n",
       "      <td>False</td>\n",
       "      <td>False</td>\n",
       "      <td>False</td>\n",
       "    </tr>\n",
       "    <tr>\n",
       "      <th>2</th>\n",
       "      <td>False</td>\n",
       "      <td>False</td>\n",
       "      <td>False</td>\n",
       "      <td>False</td>\n",
       "      <td>False</td>\n",
       "      <td>False</td>\n",
       "      <td>False</td>\n",
       "      <td>False</td>\n",
       "      <td>False</td>\n",
       "      <td>False</td>\n",
       "      <td>False</td>\n",
       "      <td>False</td>\n",
       "    </tr>\n",
       "    <tr>\n",
       "      <th>3</th>\n",
       "      <td>False</td>\n",
       "      <td>False</td>\n",
       "      <td>False</td>\n",
       "      <td>True</td>\n",
       "      <td>False</td>\n",
       "      <td>False</td>\n",
       "      <td>False</td>\n",
       "      <td>False</td>\n",
       "      <td>True</td>\n",
       "      <td>False</td>\n",
       "      <td>False</td>\n",
       "      <td>False</td>\n",
       "    </tr>\n",
       "    <tr>\n",
       "      <th>4</th>\n",
       "      <td>False</td>\n",
       "      <td>False</td>\n",
       "      <td>False</td>\n",
       "      <td>False</td>\n",
       "      <td>False</td>\n",
       "      <td>False</td>\n",
       "      <td>False</td>\n",
       "      <td>False</td>\n",
       "      <td>True</td>\n",
       "      <td>False</td>\n",
       "      <td>False</td>\n",
       "      <td>False</td>\n",
       "    </tr>\n",
       "    <tr>\n",
       "      <th>...</th>\n",
       "      <td>...</td>\n",
       "      <td>...</td>\n",
       "      <td>...</td>\n",
       "      <td>...</td>\n",
       "      <td>...</td>\n",
       "      <td>...</td>\n",
       "      <td>...</td>\n",
       "      <td>...</td>\n",
       "      <td>...</td>\n",
       "      <td>...</td>\n",
       "      <td>...</td>\n",
       "      <td>...</td>\n",
       "    </tr>\n",
       "    <tr>\n",
       "      <th>3907</th>\n",
       "      <td>False</td>\n",
       "      <td>False</td>\n",
       "      <td>False</td>\n",
       "      <td>False</td>\n",
       "      <td>False</td>\n",
       "      <td>False</td>\n",
       "      <td>False</td>\n",
       "      <td>False</td>\n",
       "      <td>False</td>\n",
       "      <td>False</td>\n",
       "      <td>False</td>\n",
       "      <td>False</td>\n",
       "    </tr>\n",
       "    <tr>\n",
       "      <th>3908</th>\n",
       "      <td>False</td>\n",
       "      <td>False</td>\n",
       "      <td>False</td>\n",
       "      <td>False</td>\n",
       "      <td>False</td>\n",
       "      <td>False</td>\n",
       "      <td>False</td>\n",
       "      <td>False</td>\n",
       "      <td>False</td>\n",
       "      <td>False</td>\n",
       "      <td>False</td>\n",
       "      <td>False</td>\n",
       "    </tr>\n",
       "    <tr>\n",
       "      <th>3909</th>\n",
       "      <td>False</td>\n",
       "      <td>False</td>\n",
       "      <td>False</td>\n",
       "      <td>False</td>\n",
       "      <td>False</td>\n",
       "      <td>False</td>\n",
       "      <td>False</td>\n",
       "      <td>False</td>\n",
       "      <td>False</td>\n",
       "      <td>False</td>\n",
       "      <td>False</td>\n",
       "      <td>False</td>\n",
       "    </tr>\n",
       "    <tr>\n",
       "      <th>3910</th>\n",
       "      <td>False</td>\n",
       "      <td>False</td>\n",
       "      <td>False</td>\n",
       "      <td>False</td>\n",
       "      <td>False</td>\n",
       "      <td>False</td>\n",
       "      <td>False</td>\n",
       "      <td>False</td>\n",
       "      <td>False</td>\n",
       "      <td>False</td>\n",
       "      <td>False</td>\n",
       "      <td>False</td>\n",
       "    </tr>\n",
       "    <tr>\n",
       "      <th>3911</th>\n",
       "      <td>False</td>\n",
       "      <td>False</td>\n",
       "      <td>False</td>\n",
       "      <td>False</td>\n",
       "      <td>False</td>\n",
       "      <td>False</td>\n",
       "      <td>False</td>\n",
       "      <td>False</td>\n",
       "      <td>False</td>\n",
       "      <td>False</td>\n",
       "      <td>False</td>\n",
       "      <td>False</td>\n",
       "    </tr>\n",
       "  </tbody>\n",
       "</table>\n",
       "<p>3912 rows × 12 columns</p>\n",
       "</div>"
      ],
      "text/plain": [
       "      index  Job Title  Salary Estimate  Job Description  Rating  \\\n",
       "0     False      False            False            False   False   \n",
       "1     False      False            False            False   False   \n",
       "2     False      False            False            False   False   \n",
       "3     False      False            False             True   False   \n",
       "4     False      False            False            False   False   \n",
       "...     ...        ...              ...              ...     ...   \n",
       "3907  False      False            False            False   False   \n",
       "3908  False      False            False            False   False   \n",
       "3909  False      False            False            False   False   \n",
       "3910  False      False            False            False   False   \n",
       "3911  False      False            False            False   False   \n",
       "\n",
       "      Company Name  Location   Size  Industry  Sector  Revenue  Easy Apply  \n",
       "0            False     False  False     False   False    False       False  \n",
       "1            False     False  False     False   False    False       False  \n",
       "2            False     False  False     False   False    False       False  \n",
       "3            False     False  False      True   False    False       False  \n",
       "4            False     False  False      True   False    False       False  \n",
       "...            ...       ...    ...       ...     ...      ...         ...  \n",
       "3907         False     False  False     False   False    False       False  \n",
       "3908         False     False  False     False   False    False       False  \n",
       "3909         False     False  False     False   False    False       False  \n",
       "3910         False     False  False     False   False    False       False  \n",
       "3911         False     False  False     False   False    False       False  \n",
       "\n",
       "[3912 rows x 12 columns]"
      ]
     },
     "execution_count": 35,
     "metadata": {},
     "output_type": "execute_result"
    }
   ],
   "source": [
    "df_copy.isnull()"
   ]
  },
  {
   "cell_type": "code",
   "execution_count": 39,
   "id": "9fd229cd-5c32-4f78-85c0-8ec70795b837",
   "metadata": {},
   "outputs": [
    {
     "data": {
      "text/plain": [
       "index              0\n",
       "Job Title          1\n",
       "Salary Estimate    0\n",
       "Job Description    1\n",
       "Rating             0\n",
       "Company Name       0\n",
       "Location           0\n",
       "Size               0\n",
       "Industry           2\n",
       "Sector             0\n",
       "Revenue            0\n",
       "Easy Apply         0\n",
       "dtype: int64"
      ]
     },
     "execution_count": 39,
     "metadata": {},
     "output_type": "execute_result"
    }
   ],
   "source": [
    "df_copy.isnull().sum()"
   ]
  },
  {
   "cell_type": "code",
   "execution_count": 40,
   "id": "09ffd929-9140-45d5-8d6c-06ac1d15d365",
   "metadata": {},
   "outputs": [
    {
     "data": {
      "text/plain": [
       "index              0\n",
       "Job Title          0\n",
       "Salary Estimate    0\n",
       "Job Description    0\n",
       "Rating             0\n",
       "Company Name       0\n",
       "Location           0\n",
       "Size               0\n",
       "Industry           0\n",
       "Sector             0\n",
       "Revenue            0\n",
       "Easy Apply         0\n",
       "dtype: int64"
      ]
     },
     "execution_count": 40,
     "metadata": {},
     "output_type": "execute_result"
    }
   ],
   "source": [
    "df_copy.dropna(inplace=True, subset=[\"Job Title\", \"Job Description\", \"Industry\"])\n",
    "df_copy.isnull().sum()"
   ]
  },
  {
   "cell_type": "code",
   "execution_count": null,
   "id": "0154fd69-e29f-4a73-88e5-732c721218ae",
   "metadata": {},
   "outputs": [],
   "source": []
  },
  {
   "cell_type": "code",
   "execution_count": 41,
   "id": "93fa586a-2f35-417b-860d-5bcb364a4b04",
   "metadata": {},
   "outputs": [],
   "source": [
    "df_copy.to_csv('output.csv')"
   ]
  },
  {
   "cell_type": "code",
   "execution_count": null,
   "id": "6f84cf00-49db-49df-a368-04402a2f0835",
   "metadata": {},
   "outputs": [],
   "source": []
  },
  {
   "cell_type": "code",
   "execution_count": null,
   "id": "979f07fa-91ca-478f-b570-ffafe65a3be7",
   "metadata": {},
   "outputs": [],
   "source": []
  },
  {
   "cell_type": "code",
   "execution_count": null,
   "id": "38b07c47-14b5-4d0d-aca2-db5ba74f0fd5",
   "metadata": {},
   "outputs": [],
   "source": []
  },
  {
   "cell_type": "code",
   "execution_count": null,
   "id": "642845eb-065d-426b-b221-3940f64b0493",
   "metadata": {},
   "outputs": [],
   "source": []
  },
  {
   "cell_type": "code",
   "execution_count": null,
   "id": "40a83451-89f8-4795-8100-bf7e80ba0160",
   "metadata": {},
   "outputs": [],
   "source": []
  },
  {
   "cell_type": "code",
   "execution_count": null,
   "id": "3a7272a5-27b2-44ae-ba87-b2323c18036e",
   "metadata": {},
   "outputs": [],
   "source": []
  },
  {
   "cell_type": "code",
   "execution_count": null,
   "id": "40a6f56b-00c3-4394-9478-e06d44f6bcf7",
   "metadata": {},
   "outputs": [],
   "source": []
  },
  {
   "cell_type": "code",
   "execution_count": null,
   "id": "5a168fa6-a3c0-42ae-a7dc-7298f5a2ef88",
   "metadata": {},
   "outputs": [],
   "source": []
  },
  {
   "cell_type": "code",
   "execution_count": null,
   "id": "f45e160c-8040-4a46-9aea-65d82c1b5858",
   "metadata": {},
   "outputs": [],
   "source": []
  },
  {
   "cell_type": "code",
   "execution_count": null,
   "id": "9068e3a6-2f89-4e34-b456-d7a3f5071c29",
   "metadata": {},
   "outputs": [],
   "source": []
  },
  {
   "cell_type": "code",
   "execution_count": null,
   "id": "905842b1-11b7-4851-94cd-7a717095730b",
   "metadata": {},
   "outputs": [],
   "source": []
  },
  {
   "cell_type": "code",
   "execution_count": null,
   "id": "b71c9678-a47b-40b5-9b39-a65fbc349e23",
   "metadata": {},
   "outputs": [],
   "source": []
  },
  {
   "cell_type": "code",
   "execution_count": null,
   "id": "6321714b-2cd3-40a8-8a3f-d5f62714b767",
   "metadata": {},
   "outputs": [],
   "source": []
  },
  {
   "cell_type": "code",
   "execution_count": null,
   "id": "b73ba4bc-081b-45c3-8a75-ba6081c7fea8",
   "metadata": {},
   "outputs": [],
   "source": []
  },
  {
   "cell_type": "code",
   "execution_count": null,
   "id": "e71dc36e-97eb-4c68-af23-0343f9038631",
   "metadata": {},
   "outputs": [],
   "source": []
  },
  {
   "cell_type": "code",
   "execution_count": null,
   "id": "7e857607-eb73-4494-89eb-95715680d77c",
   "metadata": {},
   "outputs": [],
   "source": []
  },
  {
   "cell_type": "code",
   "execution_count": null,
   "id": "8449160e-c0d4-4a29-99fd-ac0bd1542f55",
   "metadata": {},
   "outputs": [],
   "source": []
  },
  {
   "cell_type": "code",
   "execution_count": null,
   "id": "9106bd7b-3878-48ec-afbf-f94b60398c38",
   "metadata": {},
   "outputs": [],
   "source": []
  },
  {
   "cell_type": "code",
   "execution_count": null,
   "id": "e9f8505a-cba7-48cc-93fb-085552589133",
   "metadata": {},
   "outputs": [],
   "source": []
  },
  {
   "cell_type": "code",
   "execution_count": null,
   "id": "4a951231-9655-408e-a3ef-eed999d296f8",
   "metadata": {},
   "outputs": [],
   "source": []
  },
  {
   "cell_type": "code",
   "execution_count": null,
   "id": "a177807e-c871-4b68-86c8-d280d42bdd52",
   "metadata": {},
   "outputs": [],
   "source": []
  },
  {
   "cell_type": "code",
   "execution_count": null,
   "id": "b7093aa4-8802-40d9-8cd2-989e292589f4",
   "metadata": {},
   "outputs": [],
   "source": []
  },
  {
   "cell_type": "code",
   "execution_count": null,
   "id": "3939adc9-adad-4489-8147-f785ff158b3a",
   "metadata": {},
   "outputs": [],
   "source": []
  },
  {
   "cell_type": "code",
   "execution_count": null,
   "id": "094b7337-401e-49ed-9e2d-8bdba9d533da",
   "metadata": {},
   "outputs": [],
   "source": []
  },
  {
   "cell_type": "code",
   "execution_count": null,
   "id": "6cb35c27-2d74-49ce-84a0-508c626eeeae",
   "metadata": {},
   "outputs": [],
   "source": []
  },
  {
   "cell_type": "code",
   "execution_count": null,
   "id": "32a0e572-13df-4595-b2c7-8c39751ac961",
   "metadata": {},
   "outputs": [],
   "source": []
  },
  {
   "cell_type": "code",
   "execution_count": null,
   "id": "9b31464a-3860-4f73-b35f-cdd51634ffae",
   "metadata": {},
   "outputs": [],
   "source": []
  },
  {
   "cell_type": "code",
   "execution_count": null,
   "id": "39a710ff-fbd2-4641-8bd3-2c1b8cbc77c0",
   "metadata": {},
   "outputs": [],
   "source": []
  },
  {
   "cell_type": "code",
   "execution_count": null,
   "id": "b12e5b6d-2c4c-4838-8ad0-b5a75fcfea84",
   "metadata": {},
   "outputs": [],
   "source": []
  },
  {
   "cell_type": "code",
   "execution_count": null,
   "id": "e1a2d452-41eb-4e7d-862c-dc540e73f3d9",
   "metadata": {},
   "outputs": [],
   "source": []
  },
  {
   "cell_type": "code",
   "execution_count": null,
   "id": "3b5a8cdc-dad6-465e-bf8e-47d373d6a59c",
   "metadata": {},
   "outputs": [],
   "source": []
  },
  {
   "cell_type": "code",
   "execution_count": null,
   "id": "be7fd68d-aa36-453f-a539-231472977114",
   "metadata": {},
   "outputs": [],
   "source": []
  },
  {
   "cell_type": "code",
   "execution_count": null,
   "id": "26cb0dec-80cc-41e1-8ba8-5604d4f93689",
   "metadata": {},
   "outputs": [],
   "source": []
  },
  {
   "cell_type": "code",
   "execution_count": null,
   "id": "5b744a03-b1db-4530-966c-04f7b4efa629",
   "metadata": {},
   "outputs": [],
   "source": []
  },
  {
   "cell_type": "code",
   "execution_count": null,
   "id": "b9c737e4-c12e-4681-93f4-b17f13785859",
   "metadata": {},
   "outputs": [],
   "source": []
  },
  {
   "cell_type": "code",
   "execution_count": null,
   "id": "40009a80-15e3-460a-b25a-ff477fd8f771",
   "metadata": {},
   "outputs": [],
   "source": []
  },
  {
   "cell_type": "code",
   "execution_count": null,
   "id": "40b28a31-f8ce-4ed3-a308-d03876377318",
   "metadata": {},
   "outputs": [],
   "source": []
  },
  {
   "cell_type": "code",
   "execution_count": null,
   "id": "0cbab432-acd9-4b73-88a8-7b84f9982d68",
   "metadata": {},
   "outputs": [],
   "source": []
  },
  {
   "cell_type": "code",
   "execution_count": null,
   "id": "fbddcb30-061a-4c4d-8d8a-2a9a421c8e5e",
   "metadata": {},
   "outputs": [],
   "source": []
  },
  {
   "cell_type": "code",
   "execution_count": null,
   "id": "68211dba-6247-4d5f-9658-c7e1db8adae6",
   "metadata": {},
   "outputs": [],
   "source": []
  },
  {
   "cell_type": "code",
   "execution_count": null,
   "id": "752f59df-369e-436b-acf4-80567b48894a",
   "metadata": {},
   "outputs": [],
   "source": []
  },
  {
   "cell_type": "code",
   "execution_count": null,
   "id": "74ab357d-a758-45b2-b8ab-4413bcd20d2d",
   "metadata": {},
   "outputs": [],
   "source": []
  },
  {
   "cell_type": "code",
   "execution_count": null,
   "id": "ea566445-c4ef-4a0a-9c2e-6ce70902c789",
   "metadata": {},
   "outputs": [],
   "source": []
  },
  {
   "cell_type": "code",
   "execution_count": null,
   "id": "ca7dc37f-7f89-4964-a215-4a69ce1cd8f2",
   "metadata": {},
   "outputs": [],
   "source": []
  },
  {
   "cell_type": "code",
   "execution_count": null,
   "id": "4739ce29-d259-46d0-8bc2-15a3c22b0daf",
   "metadata": {},
   "outputs": [],
   "source": []
  },
  {
   "cell_type": "code",
   "execution_count": null,
   "id": "5fe54e6e-c0c5-4a2d-b605-47765342fe5a",
   "metadata": {},
   "outputs": [],
   "source": []
  },
  {
   "cell_type": "code",
   "execution_count": null,
   "id": "211f16c0-7c73-4ad8-81a6-4ff793baa9be",
   "metadata": {},
   "outputs": [],
   "source": []
  },
  {
   "cell_type": "code",
   "execution_count": null,
   "id": "39ceac10-e990-4467-920a-56d4ec6e6d0e",
   "metadata": {},
   "outputs": [],
   "source": [
    "\n"
   ]
  },
  {
   "cell_type": "code",
   "execution_count": null,
   "id": "08fb03b2-2559-447d-ad7d-7d17846c6a66",
   "metadata": {},
   "outputs": [],
   "source": []
  },
  {
   "cell_type": "code",
   "execution_count": null,
   "id": "3c97af37-9672-4b0b-a4a6-d83eff4aa726",
   "metadata": {},
   "outputs": [],
   "source": []
  },
  {
   "cell_type": "code",
   "execution_count": null,
   "id": "bd2d3ce7-d3ac-4ba8-858a-1468f3b9a9a4",
   "metadata": {},
   "outputs": [],
   "source": []
  },
  {
   "cell_type": "code",
   "execution_count": null,
   "id": "db16f725-9afb-483e-b1fd-53db88ddba88",
   "metadata": {},
   "outputs": [],
   "source": []
  },
  {
   "cell_type": "code",
   "execution_count": null,
   "id": "189c9fbd-4475-4d7d-9762-4befcddaa541",
   "metadata": {},
   "outputs": [],
   "source": []
  }
 ],
 "metadata": {
  "kernelspec": {
   "display_name": "Python 3 (ipykernel)",
   "language": "python",
   "name": "python3"
  },
  "language_info": {
   "codemirror_mode": {
    "name": "ipython",
    "version": 3
   },
   "file_extension": ".py",
   "mimetype": "text/x-python",
   "name": "python",
   "nbconvert_exporter": "python",
   "pygments_lexer": "ipython3",
   "version": "3.13.2"
  }
 },
 "nbformat": 4,
 "nbformat_minor": 5
}
