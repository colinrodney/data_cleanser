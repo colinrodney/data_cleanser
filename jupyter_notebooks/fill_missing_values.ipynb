{
 "cells": [
  {
   "cell_type": "code",
   "execution_count": null,
   "id": "dd7110e9-d5b8-4630-84d6-261b0eff806d",
   "metadata": {},
   "outputs": [],
   "source": [
    "# Function for filling / handling missing values within dataset"
   ]
  },
  {
   "cell_type": "code",
   "execution_count": null,
   "id": "28ed9bcf-bb07-45da-841c-1a9a368f1642",
   "metadata": {},
   "outputs": [],
   "source": [
    "# # Handle missing values (customize as needed) - MORE TESTING REQUIRED\n",
    "def fill_missing(df):\n",
    "    for column_name in df.columns:\n",
    "        # if df[col].dtype == 'float64' or df[col].dtype == 'int64':\n",
    "        #     df[col].fillna(df[col].median(), inplace=True)\n",
    "        # else:\n",
    "        #     df[col].fillna(\"MISSING\", inplace=True)\n",
    "\n",
    "        # SYNTAX\n",
    "        # df[column_name] = df[column_name].fillna('fill_wil_some_value')\n",
    "\n",
    "        # EMAIL Addresses\n",
    "        if column_name == \"email\":\n",
    "            df[\"email_cleaned\"] = df['email'].fillna('none@none.com')\n",
    "            \n",
    "        # PHONE NUMBERS\n",
    "        if column_name == \"phone_number\":\n",
    "            df[\"phone_number\"] = df[\"phone_number\"].fillna('9999999999')\n",
    "\n",
    "        # # FILL ALL EMPTY/ BLANK COLUMNS\n",
    "        # df[column_name].fillna(\"N/A\")\n",
    "            \n",
    "        \n",
    "    \n",
    "        # Phone Numbers\n",
    "        # df['phone_number'] = df['phone_number'].fillna('N/A')\n",
    "        # df['phone_number'] = df['phone_number'].fillna('9999999999')\n",
    "    return df"
   ]
  }
 ],
 "metadata": {
  "kernelspec": {
   "display_name": "Python 3 (ipykernel)",
   "language": "python",
   "name": "python3"
  },
  "language_info": {
   "codemirror_mode": {
    "name": "ipython",
    "version": 3
   },
   "file_extension": ".py",
   "mimetype": "text/x-python",
   "name": "python",
   "nbconvert_exporter": "python",
   "pygments_lexer": "ipython3",
   "version": "3.13.2"
  }
 },
 "nbformat": 4,
 "nbformat_minor": 5
}
