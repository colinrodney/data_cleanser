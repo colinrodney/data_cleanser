{
 "cells": [
  {
   "cell_type": "code",
   "execution_count": 51,
   "id": "ddf62a51-37dc-463e-b40c-5de2399614f8",
   "metadata": {},
   "outputs": [],
   "source": [
    "import pandas as pd\n",
    "import os\n",
    "import re"
   ]
  },
  {
   "cell_type": "code",
   "execution_count": 57,
   "id": "4c556687",
   "metadata": {},
   "outputs": [
    {
     "name": "stdout",
     "output_type": "stream",
     "text": [
      "<class 'pandas.core.frame.DataFrame'>\n",
      "RangeIndex: 20 entries, 0 to 19\n",
      "Data columns (total 11 columns):\n",
      " #   Column                            Non-Null Count  Dtype \n",
      "---  ------                            --------------  ----- \n",
      " 0   Rank                              20 non-null     int64 \n",
      " 1   Peak                              9 non-null      object\n",
      " 2   All Time Peak                     6 non-null      object\n",
      " 3   Actual gross                      20 non-null     object\n",
      " 4   Adjusted gross (in 2022 dollars)  20 non-null     object\n",
      " 5   Artist                            20 non-null     object\n",
      " 6   Tour title                        20 non-null     object\n",
      " 7   Year(s)                           20 non-null     object\n",
      " 8   Shows                             20 non-null     int64 \n",
      " 9   Average gross                     20 non-null     object\n",
      " 10  Ref.                              20 non-null     object\n",
      "dtypes: int64(2), object(9)\n",
      "memory usage: 1.8+ KB\n",
      "None\n"
     ]
    }
   ],
   "source": [
    "# Load Data ((ORIGINAL FILE)\n",
    "def load_file(file_path):\n",
    "    ext = os.path.splitext(file_path)[-1].lower() # converts filepath extension to lowercase\n",
    "    # Handle .csv files\n",
    "    if ext == '.csv':\n",
    "        return pd.read_csv(file_path)\n",
    "\n",
    "    # Handle excel spreadsheet files\n",
    "    elif ext in ['.xls', '.xlsx']:\n",
    "        return pd.read_excel(file_path)\n",
    "    \n",
    "    # All other files\n",
    "    else:\n",
    "        raise ValueError(\"Unsupported file type\")\n",
    "\n",
    "# file = load_file(r\"example_import.csv\") #THIS IS THE ORIGINAL DATAFRAME!\n",
    "# file = load_file(r'C:\\Users\\Cessn\\OneDrive\\Desktop\\data_cleanser\\example_import.csv')\n",
    "# print(file)\n",
    "\n",
    "\n",
    "# todo - Create pandas DataFram from file on filePath\n",
    "\"\"\"\n",
    "pd.read_csv expects a file path as its argument - above line of code will not work\n",
    "because it is being passed a DataFrame/ Series object created by load file method and saved\n",
    "to variable named 'file'\n",
    "\n",
    "\"\"\"\n",
    "# df = pd.read_csv(file) > WILL NOT WORK - Yields TypeError: argument of type 'method' is not iterable\n",
    "\n",
    "\n",
    "# READ IN ORIGIANL FILE - THIS WORKS\n",
    "# df = pd.read_csv(r'C:\\Users\\Cessn\\OneDrive\\Desktop\\data_cleanser\\example_import.csv')\n",
    "# df = pd.read_csv(r'C:\\Users\\Cessn\\OneDrive\\Desktop\\data_cleanser\\modified_csv1.csv') - DO NOT DELETE\n",
    "df = pd.read_csv(r'C:\\Users\\Cessn\\OneDrive\\Desktop\\data_cleanser\\concert_tours_by_women_ORIGINAL.csv')\n",
    "print(df.info())"
   ]
  },
  {
   "cell_type": "code",
   "execution_count": 53,
   "id": "458315ab",
   "metadata": {},
   "outputs": [],
   "source": [
    "# convert to string\n",
    "\n",
    "# Convert dtae/time + email to strings\n",
    "def convertToString(df):\n",
    "    for col in df.select_dtypes(include='object'):\n",
    "        df[col] = df[col].astype(str)\n",
    "    return df\n",
    "updated_file = convertToString(df)\n",
    "\n",
    "# for col in df.select_dtypes(include='object'):\n",
    "#         df[col] = df[col].astype(str).str.strip()\n",
    "\n",
    "# df['join_date'].astype(str)\n",
    "\n",
    "# df[\"test_date\"] = df['join_date'].str.replace(r\"\\d+.\\d+.\\d+\", \"test passed!\", regex=True)\n",
    "# df[\"test_date\"]\n",
    "\n",
    "# print(df)\n",
    "\n",
    "# NORMALIZE DATA IN COLUMNS - REMOVES \"WINGDINGS\" AND OTHER NON-STANDARD ELEMENTS (PREP DATA FOR ANALYSIS)\n",
    "def normalizeColumns(df):\n",
    "    for col in df.select_dtypes(include='object'):\n",
    "        df[col] = df[col].str.replace(r'[^a-z0-9]+', '', regex=True) # regex replaces an element in column that is NOT a letter or number\n",
    "    return df\n",
    "updated_file = normalizeColumns(df)\n",
    "\n",
    "\n",
    "\n",
    "# for col_name in selected_columns_df.items():\n",
    "#     print(f\"Column Name: {col_name}\")\n",
    "#     print(f\"Column Series:\\n{col_series}\")"
   ]
  },
  {
   "cell_type": "code",
   "execution_count": 54,
   "id": "4927cfdb",
   "metadata": {},
   "outputs": [],
   "source": [
    "# df.to_csv(\"concert_tours_by_women_TEST.csv\") \n",
    "\n",
    "def clean_column_names(df):\n",
    "    df.columns = (\n",
    "        df.columns.str.strip()\n",
    "                  .str.lower()\n",
    "                  .str.replace(r'[^a-z0-9]+', '_', regex=True)\n",
    "                  .str.strip('_')\n",
    "    )\n",
    "    return df\n",
    "\n",
    "updated_file = clean_column_names(df)"
   ]
  },
  {
   "cell_type": "code",
   "execution_count": 55,
   "id": "11648b89",
   "metadata": {},
   "outputs": [],
   "source": [
    "# df.to_csv(\"concert_tours_by_women_TEST.csv\")\n",
    "updated_file.to_csv(\"concert_tours_by_women_TEST.csv\")"
   ]
  },
  {
   "cell_type": "code",
   "execution_count": 56,
   "id": "8e207375",
   "metadata": {},
   "outputs": [
    {
     "name": "stdout",
     "output_type": "stream",
     "text": [
      "<class 'pandas.core.frame.DataFrame'>\n",
      "RangeIndex: 20 entries, 0 to 19\n",
      "Data columns (total 11 columns):\n",
      " #   Column                          Non-Null Count  Dtype \n",
      "---  ------                          --------------  ----- \n",
      " 0   rank                            20 non-null     int64 \n",
      " 1   peak                            20 non-null     object\n",
      " 2   all_time_peak                   20 non-null     object\n",
      " 3   actual_gross                    20 non-null     object\n",
      " 4   adjusted_gross_in_2022_dollars  20 non-null     object\n",
      " 5   artist                          20 non-null     object\n",
      " 6   tour_title                      20 non-null     object\n",
      " 7   year_s                          20 non-null     object\n",
      " 8   shows                           20 non-null     int64 \n",
      " 9   average_gross                   20 non-null     object\n",
      " 10  ref                             20 non-null     object\n",
      "dtypes: int64(2), object(9)\n",
      "memory usage: 1.8+ KB\n"
     ]
    }
   ],
   "source": [
    "df.info()"
   ]
  }
 ],
 "metadata": {
  "kernelspec": {
   "display_name": "Python 3",
   "language": "python",
   "name": "python3"
  },
  "language_info": {
   "codemirror_mode": {
    "name": "ipython",
    "version": 3
   },
   "file_extension": ".py",
   "mimetype": "text/x-python",
   "name": "python",
   "nbconvert_exporter": "python",
   "pygments_lexer": "ipython3",
   "version": "3.12.3"
  }
 },
 "nbformat": 4,
 "nbformat_minor": 5
}
