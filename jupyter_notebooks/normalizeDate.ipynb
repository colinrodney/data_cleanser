{
 "cells": [
  {
   "cell_type": "code",
   "execution_count": 105,
   "id": "2fc34b12",
   "metadata": {
    "lines_to_next_cell": 1
   },
   "outputs": [],
   "source": [
    "# Import required packages/ libraries/ frameworks from requirements.txt\n",
    "import pandas as pd\n",
    "import os\n",
    "import re"
   ]
  },
  {
   "cell_type": "code",
   "execution_count": 106,
   "id": "10ec0287",
   "metadata": {
    "lines_to_next_cell": 1
   },
   "outputs": [],
   "source": [
    "# Load Data\n",
    "def load_file(file_path):\n",
    "\n",
    "    # converts filepath extension to lowercase\n",
    "    ext = os.path.splitext(file_path)[-1].lower()\n",
    "\n",
    "    # Handle .csv files\n",
    "    \"\"\"pd.read_csv expects a file path as its argument - above line of code will not work\n",
    "    because it is being passed a DataFrame/ Series object created by load file method and saved\n",
    "    to variable named 'file'\n",
    "    \"\"\"\n",
    "    if ext == '.csv':\n",
    "        return pd.read_csv(file_path)\n",
    "\n",
    "    # Handle excel spreadsheet files\n",
    "    elif ext in ['.xls', '.xlsx']:\n",
    "        return pd.read_excel(file_path)\n",
    "    \n",
    "    # All other files\n",
    "    else:\n",
    "        raise ValueError(\"Unsupported file type\")"
   ]
  },
  {
   "cell_type": "code",
   "execution_count": 107,
   "id": "044a6bc6",
   "metadata": {},
   "outputs": [
    {
     "name": "stdout",
     "output_type": "stream",
     "text": [
      "<class 'pandas.core.frame.DataFrame'>\n",
      "RangeIndex: 20 entries, 0 to 19\n",
      "Data columns (total 15 columns):\n",
      " #   Column                          Non-Null Count  Dtype  \n",
      "---  ------                          --------------  -----  \n",
      " 0   Unnamed: 0.3                    20 non-null     int64  \n",
      " 1   Unnamed: 0.2                    20 non-null     int64  \n",
      " 2   Unnamed: 0.1                    20 non-null     int64  \n",
      " 3   Unnamed: 0                      20 non-null     int64  \n",
      " 4   rank                            20 non-null     int64  \n",
      " 5   peak                            9 non-null      object \n",
      " 6   all_time_peak                   6 non-null      float64\n",
      " 7   actual_gross                    20 non-null     object \n",
      " 8   adjusted_gross_in_2022_dollars  20 non-null     int64  \n",
      " 9   artist                          20 non-null     object \n",
      " 10  tour_title                      20 non-null     object \n",
      " 11  years                           20 non-null     int64  \n",
      " 12  shows                           20 non-null     int64  \n",
      " 13  average_gross                   20 non-null     int64  \n",
      " 14  ref                             20 non-null     object \n",
      "dtypes: float64(1), int64(9), object(5)\n",
      "memory usage: 2.5+ KB\n",
      "None\n"
     ]
    }
   ],
   "source": [
    "# Create pandas DataFrame from ORIGINAL file on filePath\n",
    "df = pd.read_csv(r'C:\\Users\\Cessn\\OneDrive\\Desktop\\data_cleanser\\concert_tours_by_women_TEST.csv')\n",
    "print(df.info())"
   ]
  },
  {
   "cell_type": "code",
   "execution_count": 108,
   "id": "8a0f0c3a",
   "metadata": {},
   "outputs": [],
   "source": [
    "# file = load_file(r\"example_import.csv\")\n",
    "# THIS WORKS BUT MIGHT BE REDUNDANT\n",
    "file_toBe_cleansed = load_file(r'C:\\Users\\Cessn\\OneDrive\\Desktop\\data_cleanser\\concert_tours_by_women_TEST.csv')\n",
    "# Will this work > cleansed_file = df?\n",
    "# print(file)\n",
    "\n",
    "# df = pd.read_csv(file) > WILL NOT WORK - Yields TypeError: argument of type 'method' is not iterable (DO NOT DELETE!) df.columns reference = https://www.geeksforgeeks.org/python/python-pandas-dataframe-columns/"
   ]
  },
  {
   "cell_type": "code",
   "execution_count": null,
   "id": "c3c88f3c",
   "metadata": {},
   "outputs": [],
   "source": []
  },
  {
   "cell_type": "code",
   "execution_count": 109,
   "id": "42a8d05a",
   "metadata": {},
   "outputs": [],
   "source": [
    "# DATA CLEANSING FUNCTIONS\n",
    "\n",
    "# Clean column names\n",
    "''' Captures all column names in DataFrame + Does following actions:\n",
    "1. Strip whitespace (both left/right side of string)\n",
    "2. Convert column names to all lowercase\n",
    "3. Locates regex pattern specified (replaces any char that is NOT a letter or number with an underscore)\n",
    "4. str.strip('_') removes any underscore characters at start/ end of string \n",
    "(https://www.w3schools.com/python/ref_string_strip.asp)\n",
    "'''\n",
    "def clean_column_names(df):\n",
    "    df.columns = (\n",
    "        df.columns.str.strip()\n",
    "                  .str.lower()\n",
    "                  .str.replace(r'[^a-z0-9]+', '', regex=True)\n",
    "                  .str.strip('_')\n",
    "    )\n",
    "    return df\n",
    "\n",
    "#CALL FUNCTION \n",
    "cleansed_file = clean_column_names(df)"
   ]
  },
  {
   "cell_type": "code",
   "execution_count": 110,
   "id": "77e03c3b",
   "metadata": {},
   "outputs": [],
   "source": [
    "# Remove blank rows & duplicate rows\n",
    "def remove_blanks_and_duplicates(df):\n",
    "\n",
    "    # https://www.w3schools.com/python/pandas/ref_df_dropna.asp\n",
    "    # https://www.w3schools.com/python/pandas/pandas_ref_dataframe.asp\n",
    "    df.dropna(how='all', inplace=True) \n",
    "    df.drop_duplicates(inplace=True)\n",
    "    return df\n",
    "\n",
    "# CALL FUNCTION\n",
    "cleansed_file = remove_blanks_and_duplicates(df)"
   ]
  },
  {
   "cell_type": "code",
   "execution_count": 111,
   "id": "fa41fa54",
   "metadata": {},
   "outputs": [],
   "source": [
    "# # Strip leading/trailing whitespace and fix casing\n",
    "def normalize_strings(df):\n",
    "\n",
    "    '''Note: df.select_dtypes returns a subset of columns\n",
    "    in DataFrame based on column data type (dtype)\n",
    "    SOURCE: https://pandas.pydata.org/docs/reference/api/pandas.DataFrame.select_dtypes.html'''\n",
    "\n",
    "    for col in df.select_dtypes(include='object'):\n",
    "        df[col] = df[col].astype(str).str.strip()\n",
    "        #df[col] = df[col].str.replace(r'\\W', '', regex=True) # remove all non-digit chars\n",
    "\n",
    "        # regex pattern removes any characters that are not letters and/or numbers\n",
    "        # works to remove replacement character (black diamond w/ white question mark in excel)\n",
    "        df[col] = df[col].str.replace(r'[^a-zA-Z0-9]', '', regex=True)\n",
    "    return df\n",
    "# CALL FUNCTION\n",
    "cleansed_file = normalize_strings(df)"
   ]
  },
  {
   "cell_type": "code",
   "execution_count": null,
   "id": "eb841607",
   "metadata": {},
   "outputs": [],
   "source": []
  },
  {
   "cell_type": "code",
   "execution_count": 112,
   "id": "2179df85",
   "metadata": {
    "lines_to_next_cell": 1
   },
   "outputs": [
    {
     "name": "stderr",
     "output_type": "stream",
     "text": [
      "C:\\Users\\Cessn\\AppData\\Local\\Temp\\ipykernel_22364\\2320526667.py:5: FutureWarning: A value is trying to be set on a copy of a DataFrame or Series through chained assignment using an inplace method.\n",
      "The behavior will change in pandas 3.0. This inplace method will never work because the intermediate object on which we are setting values always behaves as a copy.\n",
      "\n",
      "For example, when doing 'df[col].method(value, inplace=True)', try using 'df.method({col: value}, inplace=True)' or df[col] = df[col].method(value) instead, to perform the operation inplace on the original object.\n",
      "\n",
      "\n",
      "  df[col].fillna(df[col].median(), inplace=True)\n",
      "C:\\Users\\Cessn\\AppData\\Local\\Temp\\ipykernel_22364\\2320526667.py:5: FutureWarning: A value is trying to be set on a copy of a DataFrame or Series through chained assignment using an inplace method.\n",
      "The behavior will change in pandas 3.0. This inplace method will never work because the intermediate object on which we are setting values always behaves as a copy.\n",
      "\n",
      "For example, when doing 'df[col].method(value, inplace=True)', try using 'df.method({col: value}, inplace=True)' or df[col] = df[col].method(value) instead, to perform the operation inplace on the original object.\n",
      "\n",
      "\n",
      "  df[col].fillna(df[col].median(), inplace=True)\n",
      "C:\\Users\\Cessn\\AppData\\Local\\Temp\\ipykernel_22364\\2320526667.py:5: FutureWarning: A value is trying to be set on a copy of a DataFrame or Series through chained assignment using an inplace method.\n",
      "The behavior will change in pandas 3.0. This inplace method will never work because the intermediate object on which we are setting values always behaves as a copy.\n",
      "\n",
      "For example, when doing 'df[col].method(value, inplace=True)', try using 'df.method({col: value}, inplace=True)' or df[col] = df[col].method(value) instead, to perform the operation inplace on the original object.\n",
      "\n",
      "\n",
      "  df[col].fillna(df[col].median(), inplace=True)\n",
      "C:\\Users\\Cessn\\AppData\\Local\\Temp\\ipykernel_22364\\2320526667.py:5: FutureWarning: A value is trying to be set on a copy of a DataFrame or Series through chained assignment using an inplace method.\n",
      "The behavior will change in pandas 3.0. This inplace method will never work because the intermediate object on which we are setting values always behaves as a copy.\n",
      "\n",
      "For example, when doing 'df[col].method(value, inplace=True)', try using 'df.method({col: value}, inplace=True)' or df[col] = df[col].method(value) instead, to perform the operation inplace on the original object.\n",
      "\n",
      "\n",
      "  df[col].fillna(df[col].median(), inplace=True)\n",
      "C:\\Users\\Cessn\\AppData\\Local\\Temp\\ipykernel_22364\\2320526667.py:5: FutureWarning: A value is trying to be set on a copy of a DataFrame or Series through chained assignment using an inplace method.\n",
      "The behavior will change in pandas 3.0. This inplace method will never work because the intermediate object on which we are setting values always behaves as a copy.\n",
      "\n",
      "For example, when doing 'df[col].method(value, inplace=True)', try using 'df.method({col: value}, inplace=True)' or df[col] = df[col].method(value) instead, to perform the operation inplace on the original object.\n",
      "\n",
      "\n",
      "  df[col].fillna(df[col].median(), inplace=True)\n",
      "C:\\Users\\Cessn\\AppData\\Local\\Temp\\ipykernel_22364\\2320526667.py:7: FutureWarning: A value is trying to be set on a copy of a DataFrame or Series through chained assignment using an inplace method.\n",
      "The behavior will change in pandas 3.0. This inplace method will never work because the intermediate object on which we are setting values always behaves as a copy.\n",
      "\n",
      "For example, when doing 'df[col].method(value, inplace=True)', try using 'df.method({col: value}, inplace=True)' or df[col] = df[col].method(value) instead, to perform the operation inplace on the original object.\n",
      "\n",
      "\n",
      "  df[col].fillna(\"MISSING\", inplace=True)\n",
      "C:\\Users\\Cessn\\AppData\\Local\\Temp\\ipykernel_22364\\2320526667.py:5: FutureWarning: A value is trying to be set on a copy of a DataFrame or Series through chained assignment using an inplace method.\n",
      "The behavior will change in pandas 3.0. This inplace method will never work because the intermediate object on which we are setting values always behaves as a copy.\n",
      "\n",
      "For example, when doing 'df[col].method(value, inplace=True)', try using 'df.method({col: value}, inplace=True)' or df[col] = df[col].method(value) instead, to perform the operation inplace on the original object.\n",
      "\n",
      "\n",
      "  df[col].fillna(df[col].median(), inplace=True)\n",
      "C:\\Users\\Cessn\\AppData\\Local\\Temp\\ipykernel_22364\\2320526667.py:7: FutureWarning: A value is trying to be set on a copy of a DataFrame or Series through chained assignment using an inplace method.\n",
      "The behavior will change in pandas 3.0. This inplace method will never work because the intermediate object on which we are setting values always behaves as a copy.\n",
      "\n",
      "For example, when doing 'df[col].method(value, inplace=True)', try using 'df.method({col: value}, inplace=True)' or df[col] = df[col].method(value) instead, to perform the operation inplace on the original object.\n",
      "\n",
      "\n",
      "  df[col].fillna(\"MISSING\", inplace=True)\n",
      "C:\\Users\\Cessn\\AppData\\Local\\Temp\\ipykernel_22364\\2320526667.py:5: FutureWarning: A value is trying to be set on a copy of a DataFrame or Series through chained assignment using an inplace method.\n",
      "The behavior will change in pandas 3.0. This inplace method will never work because the intermediate object on which we are setting values always behaves as a copy.\n",
      "\n",
      "For example, when doing 'df[col].method(value, inplace=True)', try using 'df.method({col: value}, inplace=True)' or df[col] = df[col].method(value) instead, to perform the operation inplace on the original object.\n",
      "\n",
      "\n",
      "  df[col].fillna(df[col].median(), inplace=True)\n",
      "C:\\Users\\Cessn\\AppData\\Local\\Temp\\ipykernel_22364\\2320526667.py:7: FutureWarning: A value is trying to be set on a copy of a DataFrame or Series through chained assignment using an inplace method.\n",
      "The behavior will change in pandas 3.0. This inplace method will never work because the intermediate object on which we are setting values always behaves as a copy.\n",
      "\n",
      "For example, when doing 'df[col].method(value, inplace=True)', try using 'df.method({col: value}, inplace=True)' or df[col] = df[col].method(value) instead, to perform the operation inplace on the original object.\n",
      "\n",
      "\n",
      "  df[col].fillna(\"MISSING\", inplace=True)\n",
      "C:\\Users\\Cessn\\AppData\\Local\\Temp\\ipykernel_22364\\2320526667.py:5: FutureWarning: A value is trying to be set on a copy of a DataFrame or Series through chained assignment using an inplace method.\n",
      "The behavior will change in pandas 3.0. This inplace method will never work because the intermediate object on which we are setting values always behaves as a copy.\n",
      "\n",
      "For example, when doing 'df[col].method(value, inplace=True)', try using 'df.method({col: value}, inplace=True)' or df[col] = df[col].method(value) instead, to perform the operation inplace on the original object.\n",
      "\n",
      "\n",
      "  df[col].fillna(df[col].median(), inplace=True)\n",
      "C:\\Users\\Cessn\\AppData\\Local\\Temp\\ipykernel_22364\\2320526667.py:5: FutureWarning: A value is trying to be set on a copy of a DataFrame or Series through chained assignment using an inplace method.\n",
      "The behavior will change in pandas 3.0. This inplace method will never work because the intermediate object on which we are setting values always behaves as a copy.\n",
      "\n",
      "For example, when doing 'df[col].method(value, inplace=True)', try using 'df.method({col: value}, inplace=True)' or df[col] = df[col].method(value) instead, to perform the operation inplace on the original object.\n",
      "\n",
      "\n",
      "  df[col].fillna(df[col].median(), inplace=True)\n",
      "C:\\Users\\Cessn\\AppData\\Local\\Temp\\ipykernel_22364\\2320526667.py:5: FutureWarning: A value is trying to be set on a copy of a DataFrame or Series through chained assignment using an inplace method.\n",
      "The behavior will change in pandas 3.0. This inplace method will never work because the intermediate object on which we are setting values always behaves as a copy.\n",
      "\n",
      "For example, when doing 'df[col].method(value, inplace=True)', try using 'df.method({col: value}, inplace=True)' or df[col] = df[col].method(value) instead, to perform the operation inplace on the original object.\n",
      "\n",
      "\n",
      "  df[col].fillna(df[col].median(), inplace=True)\n",
      "C:\\Users\\Cessn\\AppData\\Local\\Temp\\ipykernel_22364\\2320526667.py:7: FutureWarning: A value is trying to be set on a copy of a DataFrame or Series through chained assignment using an inplace method.\n",
      "The behavior will change in pandas 3.0. This inplace method will never work because the intermediate object on which we are setting values always behaves as a copy.\n",
      "\n",
      "For example, when doing 'df[col].method(value, inplace=True)', try using 'df.method({col: value}, inplace=True)' or df[col] = df[col].method(value) instead, to perform the operation inplace on the original object.\n",
      "\n",
      "\n",
      "  df[col].fillna(\"MISSING\", inplace=True)\n"
     ]
    }
   ],
   "source": [
    "# # Handle missing values (customize as needed) - MORE TESTING REQUIRED\n",
    "def fill_missing(df):\n",
    "    for col in df.columns:\n",
    "        if df[col].dtype == 'float64' or df[col].dtype == 'int64':\n",
    "            df[col].fillna(df[col].median(), inplace=True)\n",
    "        else:\n",
    "            df[col].fillna(\"MISSING\", inplace=True)\n",
    "    return df\n",
    "# CALL FUNCTION\n",
    "cleansed_file = fill_missing(df)"
   ]
  },
  {
   "cell_type": "code",
   "execution_count": 117,
   "id": "c91b0423",
   "metadata": {},
   "outputs": [
    {
     "name": "stdout",
     "output_type": "stream",
     "text": [
      "Column names:  Index(['unnamed03', 'unnamed02', 'unnamed01', 'unnamed0', 'rank', 'peak',\n",
      "       'alltimepeak', 'actualgross', 'adjustedgrossin2022dollars', 'artist',\n",
      "       'tourtitle', 'years', 'shows', 'averagegross', 'ref'],\n",
      "      dtype='object')\n",
      "Data types:  unnamed03                       int64\n",
      "unnamed02                       int64\n",
      "unnamed01                       int64\n",
      "unnamed0                        int64\n",
      "rank                            int64\n",
      "peak                           object\n",
      "alltimepeak                   float64\n",
      "actualgross                    object\n",
      "adjustedgrossin2022dollars      int64\n",
      "artist                         object\n",
      "tourtitle                      object\n",
      "years                           int64\n",
      "shows                           int64\n",
      "averagegross                    int64\n",
      "ref                            object\n",
      "dtype: object\n",
      "match1 is:  20232024 2023 2024\n"
     ]
    }
   ],
   "source": []
  },
  {
   "cell_type": "code",
   "execution_count": 114,
   "id": "b76f1605",
   "metadata": {},
   "outputs": [],
   "source": []
  },
  {
   "cell_type": "code",
   "execution_count": 115,
   "id": "b5452d1c",
   "metadata": {
    "lines_to_next_cell": 2
   },
   "outputs": [
    {
     "name": "stderr",
     "output_type": "stream",
     "text": [
      "<>:1: SyntaxWarning: invalid escape sequence '\\d'\n",
      "<>:1: SyntaxWarning: invalid escape sequence '\\d'\n",
      "C:\\Users\\Cessn\\AppData\\Local\\Temp\\ipykernel_22364\\1714472077.py:1: SyntaxWarning: invalid escape sequence '\\d'\n",
      "  \"\"\"\n"
     ]
    },
    {
     "data": {
      "text/plain": [
       "'\\nWorking regex patterns:\\n(\\\\d{4})|(\\\\d{2}.\\\\d{2}.\\\\d{4}) - #20002001 OR 08/14/2025 08-14-2025 etc\\n(\\\\d{4})(\\\\d{4})|(\\\\d{2}).(\\\\d{2}).(\\\\d{4}) - Individual matching groups - research how match groups work\\n'"
      ]
     },
     "execution_count": 115,
     "metadata": {},
     "output_type": "execute_result"
    }
   ],
   "source": [
    "   \"\"\"\n",
    "   Working regex patterns:\n",
    "   (\\d{4})|(\\d{2}.\\d{2}.\\d{4}) - #20002001 OR 08/14/2025 08-14-2025 etc\n",
    "   (\\d{4})(\\d{4})|(\\d{2}).(\\d{2}).(\\d{4}) - Individual matching groups - research how match groups work\n",
    "   \"\"\""
   ]
  },
  {
   "cell_type": "code",
   "execution_count": 116,
   "id": "6b382f7c",
   "metadata": {},
   "outputs": [
    {
     "name": "stdout",
     "output_type": "stream",
     "text": [
      "Cleaned data saved!\n"
     ]
    }
   ],
   "source": [
    "# WRITE CLEANSED FILE AS OUTPUT\n",
    "cleansed_file.to_csv(\"concert_tours_by_women_TEST_NEW.csv\")\n",
    "print(f\"Cleaned data saved!\")"
   ]
  },
  {
   "cell_type": "markdown",
   "id": "ac8cfda6",
   "metadata": {},
   "source": [
    "# Run full cleaning pipeline\n",
    "def clean_data(file_path, output_path):\n",
    "    df = load_file(file_path)\n",
    "    print(f\"Loaded {len(df)} rows and {len(df.columns)} columns.\")"
   ]
  },
  {
   "cell_type": "markdown",
   "id": "2138baeb",
   "metadata": {},
   "source": [
    "    df = clean_column_names(df)\n",
    "    df = remove_blanks_and_duplicates(df)\n",
    "    df = normalize_strings(df)\n",
    "    df = fill_missing(df)"
   ]
  },
  {
   "cell_type": "markdown",
   "id": "aeaedb15",
   "metadata": {
    "lines_to_next_cell": 2
   },
   "source": [
    "    df.to_csv(output_path, index=False)\n",
    "    print(f\"Cleaned data saved to: {output_path}\")"
   ]
  },
  {
   "cell_type": "markdown",
   "id": "395f885c",
   "metadata": {},
   "source": [
    "# Example usage\n",
    "if __name__ == \"__main__\":\n",
    "    input_file = \"example_input.csv\"\n",
    "    output_file = \"cleaned_output.csv\"\n",
    "    clean_data(input_file, output_file)"
   ]
  }
 ],
 "metadata": {
  "jupytext": {
   "cell_metadata_filter": "-all",
   "main_language": "python",
   "notebook_metadata_filter": "-all"
  },
  "kernelspec": {
   "display_name": "Python 3 (ipykernel)",
   "language": "python",
   "name": "python3"
  },
  "language_info": {
   "codemirror_mode": {
    "name": "ipython",
    "version": 3
   },
   "file_extension": ".py",
   "mimetype": "text/x-python",
   "name": "python",
   "nbconvert_exporter": "python",
   "pygments_lexer": "ipython3",
   "version": "3.13.2"
  }
 },
 "nbformat": 4,
 "nbformat_minor": 5
}
