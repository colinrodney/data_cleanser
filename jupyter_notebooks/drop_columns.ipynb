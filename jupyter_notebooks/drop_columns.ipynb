{
 "cells": [
  {
   "cell_type": "code",
   "execution_count": null,
   "id": "486d0065-1127-4a34-9311-c17640213ea0",
   "metadata": {},
   "outputs": [],
   "source": [
    "\"\"\"\n",
    "Resources:\n",
    "https://www.w3schools.com/python/pandas/ref_df_drop.asp\n",
    "\"\"\""
   ]
  },
  {
   "cell_type": "code",
   "execution_count": 1,
   "id": "5a68ebf5-2b6a-47f8-950c-fa6f7e2eeebd",
   "metadata": {},
   "outputs": [],
   "source": [
    "# Remove blank rows & duplicate rows\n",
    "def drop_columns(df):\n",
    "    # SYNTAX df.drop(df[colName], axis, inplace=Ture/False) \n",
    "    df.drop(\"Ref.\", axis=\"columns\", inplace=True)\n",
    "    return df"
   ]
  },
  {
   "cell_type": "code",
   "execution_count": null,
   "id": "cb91856b-9804-47b1-a6aa-a2f300f27529",
   "metadata": {},
   "outputs": [],
   "source": []
  }
 ],
 "metadata": {
  "kernelspec": {
   "display_name": "Python 3 (ipykernel)",
   "language": "python",
   "name": "python3"
  },
  "language_info": {
   "codemirror_mode": {
    "name": "ipython",
    "version": 3
   },
   "file_extension": ".py",
   "mimetype": "text/x-python",
   "name": "python",
   "nbconvert_exporter": "python",
   "pygments_lexer": "ipython3",
   "version": "3.13.2"
  }
 },
 "nbformat": 4,
 "nbformat_minor": 5
}
