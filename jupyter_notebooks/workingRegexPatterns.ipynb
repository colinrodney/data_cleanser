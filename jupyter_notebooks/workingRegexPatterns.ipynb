{
 "cells": [
  {
   "cell_type": "code",
   "execution_count": 105,
   "id": "2fc34b12",
   "metadata": {
    "lines_to_next_cell": 1
   },
   "outputs": [],
   "source": [
    "   \"\"\" DO NOT DELETE\n",
    "   Working regex patterns:\n",
    "   (\\d{4})|(\\d{2}.\\d{2}.\\d{4}) - #20002001 OR 08/14/2025 08-14-2025 etc\n",
    "   (\\d{4})(\\d{4})|(\\d{2}).(\\d{2}).(\\d{4}) - Individual matching groups - research how match groups work\n",
    "   \"\"\""
   ]
  },
  {
   "cell_type": "code",
   "execution_count": null,
   "id": "222d5751-3f44-4794-97fa-6f8fd6f4d67a",
   "metadata": {},
   "outputs": [],
   "source": [
    "# PHONE NUMBERS\n",
    "''' \n",
    "[\\+\\s\\(\\)]  matches +1 (246) 529 8356\n",
    "\n",
    "Match any (anywhere in string):\n",
    "+ (plus sign)\n",
    "whitespace\n",
    "parentheses ()\n",
    "\n",
    "[\\s] - match any whitespace\n",
    "\n",
    "^[1] - String starts with \"1\"\n",
    "\n",
    "([\\+\\s\\(\\)-])|(^[1])\n",
    "Matches any + sign, whitespace, and parentheses pair\n",
    "OR and string in the series that starts w/ the number one (1)\n",
    "'''"
   ]
  }
 ],
 "metadata": {
  "jupytext": {
   "cell_metadata_filter": "-all",
   "main_language": "python",
   "notebook_metadata_filter": "-all"
  },
  "kernelspec": {
   "display_name": "Python 3 (ipykernel)",
   "language": "python",
   "name": "python3"
  },
  "language_info": {
   "codemirror_mode": {
    "name": "ipython",
    "version": 3
   },
   "file_extension": ".py",
   "mimetype": "text/x-python",
   "name": "python",
   "nbconvert_exporter": "python",
   "pygments_lexer": "ipython3",
   "version": "3.13.2"
  }
 },
 "nbformat": 4,
 "nbformat_minor": 5
}
