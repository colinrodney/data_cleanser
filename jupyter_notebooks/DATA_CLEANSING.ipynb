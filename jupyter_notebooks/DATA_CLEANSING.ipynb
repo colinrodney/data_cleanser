{
 "cells": [
  {
   "cell_type": "code",
   "execution_count": null,
   "id": "dc179b4c-fea8-45f1-ba39-45c636c5468f",
   "metadata": {},
   "outputs": [],
   "source": [
    "# Small change - DISREGARD THIS CELL"
   ]
  },
  {
   "cell_type": "code",
   "execution_count": 1,
   "id": "6c41cd13-dda9-43b2-8823-9e4bf095edaf",
   "metadata": {},
   "outputs": [
    {
     "name": "stdout",
     "output_type": "stream",
     "text": [
      "Requirement already satisfied: import-ipynb in c:\\users\\cessn\\miniconda3\\lib\\site-packages (0.2)\n",
      "Requirement already satisfied: IPython in c:\\users\\cessn\\miniconda3\\lib\\site-packages (from import-ipynb) (9.2.0)\n",
      "Requirement already satisfied: nbformat in c:\\users\\cessn\\miniconda3\\lib\\site-packages (from import-ipynb) (5.10.4)\n",
      "Requirement already satisfied: colorama in c:\\users\\cessn\\miniconda3\\lib\\site-packages (from IPython->import-ipynb) (0.4.6)\n",
      "Requirement already satisfied: decorator in c:\\users\\cessn\\miniconda3\\lib\\site-packages (from IPython->import-ipynb) (5.2.1)\n",
      "Requirement already satisfied: ipython-pygments-lexers in c:\\users\\cessn\\miniconda3\\lib\\site-packages (from IPython->import-ipynb) (1.1.1)\n",
      "Requirement already satisfied: jedi>=0.16 in c:\\users\\cessn\\miniconda3\\lib\\site-packages (from IPython->import-ipynb) (0.19.2)\n",
      "Requirement already satisfied: matplotlib-inline in c:\\users\\cessn\\miniconda3\\lib\\site-packages (from IPython->import-ipynb) (0.1.7)\n",
      "Requirement already satisfied: prompt_toolkit<3.1.0,>=3.0.41 in c:\\users\\cessn\\miniconda3\\lib\\site-packages (from IPython->import-ipynb) (3.0.51)\n",
      "Requirement already satisfied: pygments>=2.4.0 in c:\\users\\cessn\\miniconda3\\lib\\site-packages (from IPython->import-ipynb) (2.19.1)\n",
      "Requirement already satisfied: stack_data in c:\\users\\cessn\\miniconda3\\lib\\site-packages (from IPython->import-ipynb) (0.6.3)\n",
      "Requirement already satisfied: traitlets>=5.13.0 in c:\\users\\cessn\\miniconda3\\lib\\site-packages (from IPython->import-ipynb) (5.14.3)\n",
      "Requirement already satisfied: fastjsonschema>=2.15 in c:\\users\\cessn\\miniconda3\\lib\\site-packages (from nbformat->import-ipynb) (2.21.1)\n",
      "Requirement already satisfied: jsonschema>=2.6 in c:\\users\\cessn\\miniconda3\\lib\\site-packages (from nbformat->import-ipynb) (4.23.0)\n",
      "Requirement already satisfied: jupyter-core!=5.0.*,>=4.12 in c:\\users\\cessn\\miniconda3\\lib\\site-packages (from nbformat->import-ipynb) (5.7.2)\n",
      "Requirement already satisfied: parso<0.9.0,>=0.8.4 in c:\\users\\cessn\\miniconda3\\lib\\site-packages (from jedi>=0.16->IPython->import-ipynb) (0.8.4)\n",
      "Requirement already satisfied: attrs>=22.2.0 in c:\\users\\cessn\\miniconda3\\lib\\site-packages (from jsonschema>=2.6->nbformat->import-ipynb) (25.3.0)\n",
      "Requirement already satisfied: jsonschema-specifications>=2023.03.6 in c:\\users\\cessn\\miniconda3\\lib\\site-packages (from jsonschema>=2.6->nbformat->import-ipynb) (2025.4.1)\n",
      "Requirement already satisfied: referencing>=0.28.4 in c:\\users\\cessn\\miniconda3\\lib\\site-packages (from jsonschema>=2.6->nbformat->import-ipynb) (0.36.2)\n",
      "Requirement already satisfied: rpds-py>=0.7.1 in c:\\users\\cessn\\miniconda3\\lib\\site-packages (from jsonschema>=2.6->nbformat->import-ipynb) (0.25.0)\n",
      "Requirement already satisfied: platformdirs>=2.5 in c:\\users\\cessn\\miniconda3\\lib\\site-packages (from jupyter-core!=5.0.*,>=4.12->nbformat->import-ipynb) (4.3.7)\n",
      "Requirement already satisfied: pywin32>=300 in c:\\users\\cessn\\miniconda3\\lib\\site-packages (from jupyter-core!=5.0.*,>=4.12->nbformat->import-ipynb) (310)\n",
      "Requirement already satisfied: wcwidth in c:\\users\\cessn\\miniconda3\\lib\\site-packages (from prompt_toolkit<3.1.0,>=3.0.41->IPython->import-ipynb) (0.2.13)\n",
      "Requirement already satisfied: executing>=1.2.0 in c:\\users\\cessn\\miniconda3\\lib\\site-packages (from stack_data->IPython->import-ipynb) (2.2.0)\n",
      "Requirement already satisfied: asttokens>=2.1.0 in c:\\users\\cessn\\miniconda3\\lib\\site-packages (from stack_data->IPython->import-ipynb) (3.0.0)\n",
      "Requirement already satisfied: pure-eval in c:\\users\\cessn\\miniconda3\\lib\\site-packages (from stack_data->IPython->import-ipynb) (0.2.3)\n",
      "Note: you may need to restart the kernel to use updated packages.\n",
      "Requirement already satisfied: openpyxl in c:\\users\\cessn\\appdata\\roaming\\python\\python313\\site-packages (3.1.5)\n",
      "Requirement already satisfied: et-xmlfile in c:\\users\\cessn\\appdata\\roaming\\python\\python313\\site-packages (from openpyxl) (2.0.0)\n",
      "Note: you may need to restart the kernel to use updated packages.\n",
      "Requirement already satisfied: xlrd in c:\\users\\cessn\\miniconda3\\lib\\site-packages (2.0.2)\n",
      "Note: you may need to restart the kernel to use updated packages.\n"
     ]
    }
   ],
   "source": [
    "%pip install import-ipynb\n",
    "%pip install openpyxl\n",
    "%pip install xlrd\n",
    "\n",
    "import import_ipynb\n",
    "import load_data\n",
    "import clean_column_names\n",
    "# import write_file_as_output\n",
    "# import normalize_strings\n",
    "# import fill_missing_values\n",
    "# import text_to_numeric\n",
    "# import drop_columns\n",
    "import pandas as pd\n",
    "import os\n",
    "import re\n",
    "import numpy as np\n"
   ]
  },
  {
   "cell_type": "markdown",
   "id": "d13e7398-f479-45a5-8ffc-42806960a081",
   "metadata": {},
   "source": [
    "# Data Cleansing Functions (THIS IS THE ACTUAL DATA CLEANER)"
   ]
  },
  {
   "cell_type": "code",
   "execution_count": null,
   "id": "7940f504-52f6-427e-a294-9153ca9b35e2",
   "metadata": {},
   "outputs": [],
   "source": []
  },
  {
   "cell_type": "code",
   "execution_count": 2,
   "id": "df735a41-f52a-4cab-bc8c-230837f54c10",
   "metadata": {},
   "outputs": [],
   "source": [
    "# LOAD DATA\n",
    "def load_file(file_path):\n",
    "    print('Filepath: ',file_path)\n",
    "\n",
    "    # converts filepath extension to lowercase\n",
    "    ext = os.path.splitext(file_path)[-1].lower()\n",
    "\n",
    "    # Handle .csv files\n",
    "    \"\"\"pd.read_csv expects a file path as its argument - above line of code will not work\n",
    "    because it is being passed a DataFrame/ Series object created by load file method and saved\n",
    "    to variable named 'file'\n",
    "    \"\"\"\n",
    "    if ext in ['.csv']:\n",
    "        return pd.read_csv(file_path)\n",
    "\n",
    "    # Handle excel spreadsheet files\n",
    "    elif ext in ['.xls', '.xlsx']:\n",
    "        # return pd.read_excel(file_path, engine=\"openpyxl\")|pd.read_excel(file_path, engine=\"xlrd\")\n",
    "        return pd.read_excel(file_path, engine=\"openpyxl\")\n",
    "    \n",
    "    # All other files\n",
    "    else:\n",
    "        raise ValueError(\"Unsupported file type\")\n",
    "\n",
    "\n",
    "    "
   ]
  },
  {
   "cell_type": "code",
   "execution_count": 3,
   "id": "a5aaf13f-4d53-4582-9b53-0fcea55d1db6",
   "metadata": {},
   "outputs": [
    {
     "name": "stdout",
     "output_type": "stream",
     "text": [
      "Filepath:  C:\\Users\\Cessn\\OneDrive\\Desktop\\sample_datasets\\example_import\\example_import_original-MAIN.csv\n",
      "FILE READY FOR CLEANSING\n",
      "\n",
      "C:\\Users\\Cessn\\OneDrive\\Desktop\\sample_datasets\\example_import\\example_import_original-MAIN.csv\n"
     ]
    }
   ],
   "source": [
    "# CREATE DATAFRAME FROM FILE AT SPECIFIED FILEPATH: NOTE- THIS CALLS load_file() function\n",
    "def create_dataframe(file_path):\n",
    "    # df_2 = ORIGINAL df_2\n",
    "    # df_2 = DataFrame to be cleansed\n",
    "    \n",
    "    df_2 = load_file(file_path)\n",
    "\n",
    "    #Create FILE TO BE CLEANSED via deep copy of original df_2 to new variable \n",
    "    df_2 = df_2.copy()\n",
    "    print(f\"FILE READY FOR CLEANSING\\n\")\n",
    "    \n",
    "    # print(df_2.info(),\"\\n\")\n",
    "    # print(df_2.shape, \"\\n\")\n",
    "    # # print(df_2_2.describe, \"\\n\")\n",
    "\n",
    "    return df_2, file_path\n",
    "\n",
    "\n",
    "# FUNCTION CALL create_dataframe() function - NOTE: df_2_2 stores deep copied file on which actual data cleansing happens!\n",
    "# df_2, file_path = create_dataframe(r'C:\\Users\\Cessn\\OneDrive\\Desktop\\sample_datasets\\data_scientist\\csv_files\\DataScientist2.csv')\n",
    "df_2, file_path = create_dataframe(r'C:\\Users\\Cessn\\OneDrive\\Desktop\\sample_datasets\\example_import\\example_import_original-MAIN.csv')\n",
    "print(f\"{file_path}\")"
   ]
  },
  {
   "cell_type": "code",
   "execution_count": null,
   "id": "ec76886f-55d8-4891-8de3-fb18a460216b",
   "metadata": {},
   "outputs": [],
   "source": []
  },
  {
   "cell_type": "code",
   "execution_count": 4,
   "id": "4f210cf4-556e-4fc7-a91f-97fcf91fc162",
   "metadata": {},
   "outputs": [
    {
     "data": {
      "text/html": [
       "<div>\n",
       "<style scoped>\n",
       "    .dataframe tbody tr th:only-of-type {\n",
       "        vertical-align: middle;\n",
       "    }\n",
       "\n",
       "    .dataframe tbody tr th {\n",
       "        vertical-align: top;\n",
       "    }\n",
       "\n",
       "    .dataframe thead th {\n",
       "        text-align: right;\n",
       "    }\n",
       "</style>\n",
       "<table border=\"1\" class=\"dataframe\">\n",
       "  <thead>\n",
       "    <tr style=\"text-align: right;\">\n",
       "      <th></th>\n",
       "      <th>Unnamed: 0</th>\n",
       "      <th>name</th>\n",
       "      <th>email</th>\n",
       "      <th>age</th>\n",
       "      <th>join_date</th>\n",
       "    </tr>\n",
       "  </thead>\n",
       "  <tbody>\n",
       "    <tr>\n",
       "      <th>0</th>\n",
       "      <td>0</td>\n",
       "      <td>John Smith</td>\n",
       "      <td>JOHN+AEA-example.com</td>\n",
       "      <td>28</td>\n",
       "      <td>2024+AC0-06+AC0-01</td>\n",
       "    </tr>\n",
       "    <tr>\n",
       "      <th>1</th>\n",
       "      <td>1</td>\n",
       "      <td>NaN</td>\n",
       "      <td></td>\n",
       "      <td></td>\n",
       "      <td></td>\n",
       "    </tr>\n",
       "    <tr>\n",
       "      <th>2</th>\n",
       "      <td>2</td>\n",
       "      <td>Jane Doe</td>\n",
       "      <td>jane+AEA-example.com</td>\n",
       "      <td></td>\n",
       "      <td>06/15/2024</td>\n",
       "    </tr>\n",
       "    <tr>\n",
       "      <th>3</th>\n",
       "      <td>3</td>\n",
       "      <td>John Smith</td>\n",
       "      <td>JOHN+AEA-example.com</td>\n",
       "      <td>28</td>\n",
       "      <td>2024+AC0-06+AC0-01</td>\n",
       "    </tr>\n",
       "  </tbody>\n",
       "</table>\n",
       "</div>"
      ],
      "text/plain": [
       "   Unnamed: 0         name                   email age           join_date\n",
       "0           0  John Smith     JOHN+AEA-example.com  28  2024+AC0-06+AC0-01\n",
       "1           1          NaN                                                \n",
       "2           2     Jane Doe   jane+AEA-example.com               06/15/2024\n",
       "3           3  John Smith     JOHN+AEA-example.com  28  2024+AC0-06+AC0-01"
      ]
     },
     "execution_count": 4,
     "metadata": {},
     "output_type": "execute_result"
    }
   ],
   "source": [
    "df_2"
   ]
  },
  {
   "cell_type": "code",
   "execution_count": null,
   "id": "c1ff81ba-f2ee-495c-85a3-4745997b5b1a",
   "metadata": {},
   "outputs": [],
   "source": []
  },
  {
   "cell_type": "code",
   "execution_count": null,
   "id": "2b9261e5-6d57-48cc-b0db-b1df9c0c29f7",
   "metadata": {},
   "outputs": [],
   "source": []
  },
  {
   "cell_type": "code",
   "execution_count": 5,
   "id": "067dcc06-f543-4461-b804-940f0efaaf60",
   "metadata": {},
   "outputs": [
    {
     "name": "stdout",
     "output_type": "stream",
     "text": [
      "DataFrame Information: '\n",
      "' \n",
      "<class 'pandas.core.frame.DataFrame'>\n",
      "RangeIndex: 4 entries, 0 to 3\n",
      "Data columns (total 5 columns):\n",
      " #   Column      Non-Null Count  Dtype \n",
      "---  ------      --------------  ----- \n",
      " 0   Unnamed: 0  4 non-null      int64 \n",
      " 1   name        3 non-null      object\n",
      " 2   email       4 non-null      object\n",
      " 3   age         4 non-null      object\n",
      " 4   join_date   4 non-null      object\n",
      "dtypes: int64(1), object(4)\n",
      "memory usage: 292.0+ bytes\n",
      "None \n",
      "\n",
      "Data Shape: (# of Rows, # of Columns): '\n",
      "'  (4, 5) \n",
      "\n",
      "SUM OF NULL/ BLANK VALUES: '\n",
      "'  Unnamed: 0    0\n",
      "name          1\n",
      "email         0\n",
      "age           0\n",
      "join_date     0\n",
      "dtype: int64 \n",
      "\n"
     ]
    }
   ],
   "source": [
    "# SUMMARIZE DATA SET\n",
    "''' Ex: Column Names, '''\n",
    "\n",
    "def summarize_data(df_2):\n",
    "    print(\"DataFrame Information: '\\n' \",)\n",
    "    print(df_2.info(),\"\\n\")\n",
    "    print(f\"Data Shape: (# of Rows, # of Columns): '\\n' \", df_2.shape, \"\\n\")\n",
    "    # print(df_2_2.describe, \"\\n\")\n",
    "\n",
    "    # Show count of null values etc\n",
    "    print(\"SUM OF NULL/ BLANK VALUES: '\\n' \", df_2.isnull().sum(), \"\\n\")\n",
    "\n",
    "# CALL FUNCTION\n",
    "summary_data = summarize_data(df_2)"
   ]
  },
  {
   "cell_type": "code",
   "execution_count": null,
   "id": "ab78cd00-78c9-4677-be0a-d420d326bc97",
   "metadata": {},
   "outputs": [],
   "source": []
  },
  {
   "cell_type": "code",
   "execution_count": 6,
   "id": "8560ba11-1fa5-473b-8dad-f88ef3567b3c",
   "metadata": {},
   "outputs": [],
   "source": [
    "# WRITE CLEANSED FILE AS OUTPUT \n",
    "def output_file(df_2, file_path):\n",
    "    output_path = r'C:\\Users\\Cessn\\OneDrive\\Desktop\\sample_datasets\\example_import\\cleaned_data'\n",
    "    # MAKE SURE TO LIST FULL PATH TO OUTPUT FILE OTHERWISE FILL WILL BE WRITTEIN IN DIRECTORY IN WHICH THIS FILE RESIDES!\n",
    "    # df_2.to_csv(r'C:\\Users\\Cessn\\OneDrive\\Desktop\\sample_datasets\\city_of_baton_rouge\\cats\\Bus_Stop_CLEANSED.csv')\n",
    "    df_2.to_csv(output_path)\n",
    "    print(f\"Cleaned data saved!\")"
   ]
  },
  {
   "cell_type": "code",
   "execution_count": 7,
   "id": "88a754d0-3cc5-4c70-8d44-799a330b4b38",
   "metadata": {},
   "outputs": [],
   "source": [
    "# NORMALIZE/ STANDARDIZE: COLUMN NAMES (ALL DATASETS)\n",
    "\n",
    "# Clean column names\n",
    "''' Captures all column names in DataFrame + Does following actions:\n",
    "1. Strip whitespace (both left/right side of string)\n",
    "2. Convert column names to all lowercase\n",
    "3. Locates regex pattern specified (replaces any char that is NOT a letter or number with an underscore)\n",
    "4. str.strip('_') removes any underscore characters at start/ end of string \n",
    "(https://www.w3schools.com/python/ref_string_strip.asp)\n",
    "'''\n",
    "def clean_column_names(df_2):\n",
    "    df_2.columns = (\n",
    "        df_2.columns.str.strip()\n",
    "                  .str.lower()\n",
    "                  .str.replace(r'[^a-z0-9]+', '_', regex=True)\n",
    "                  # .str.strip('_')\n",
    "    )\n",
    "    return df_2\n",
    "\n",
    "# CALL FUNCTION\n",
    "df_2 = clean_column_names(df_2)\n",
    "# write_output(file_path)"
   ]
  },
  {
   "cell_type": "code",
   "execution_count": 8,
   "id": "95028b1d-8ad7-4f5a-895e-beccaa6f50c6",
   "metadata": {},
   "outputs": [
    {
     "data": {
      "text/html": [
       "<div>\n",
       "<style scoped>\n",
       "    .dataframe tbody tr th:only-of-type {\n",
       "        vertical-align: middle;\n",
       "    }\n",
       "\n",
       "    .dataframe tbody tr th {\n",
       "        vertical-align: top;\n",
       "    }\n",
       "\n",
       "    .dataframe thead th {\n",
       "        text-align: right;\n",
       "    }\n",
       "</style>\n",
       "<table border=\"1\" class=\"dataframe\">\n",
       "  <thead>\n",
       "    <tr style=\"text-align: right;\">\n",
       "      <th></th>\n",
       "      <th>unnamed_0</th>\n",
       "      <th>name</th>\n",
       "      <th>email</th>\n",
       "      <th>age</th>\n",
       "      <th>join_date</th>\n",
       "    </tr>\n",
       "  </thead>\n",
       "  <tbody>\n",
       "    <tr>\n",
       "      <th>0</th>\n",
       "      <td>0</td>\n",
       "      <td>John Smith</td>\n",
       "      <td>JOHN+AEA-example.com</td>\n",
       "      <td>28</td>\n",
       "      <td>2024+AC0-06+AC0-01</td>\n",
       "    </tr>\n",
       "    <tr>\n",
       "      <th>1</th>\n",
       "      <td>1</td>\n",
       "      <td>NaN</td>\n",
       "      <td></td>\n",
       "      <td></td>\n",
       "      <td></td>\n",
       "    </tr>\n",
       "    <tr>\n",
       "      <th>2</th>\n",
       "      <td>2</td>\n",
       "      <td>Jane Doe</td>\n",
       "      <td>jane+AEA-example.com</td>\n",
       "      <td></td>\n",
       "      <td>06/15/2024</td>\n",
       "    </tr>\n",
       "    <tr>\n",
       "      <th>3</th>\n",
       "      <td>3</td>\n",
       "      <td>John Smith</td>\n",
       "      <td>JOHN+AEA-example.com</td>\n",
       "      <td>28</td>\n",
       "      <td>2024+AC0-06+AC0-01</td>\n",
       "    </tr>\n",
       "  </tbody>\n",
       "</table>\n",
       "</div>"
      ],
      "text/plain": [
       "   unnamed_0         name                   email age           join_date\n",
       "0          0  John Smith     JOHN+AEA-example.com  28  2024+AC0-06+AC0-01\n",
       "1          1          NaN                                                \n",
       "2          2     Jane Doe   jane+AEA-example.com               06/15/2024\n",
       "3          3  John Smith     JOHN+AEA-example.com  28  2024+AC0-06+AC0-01"
      ]
     },
     "execution_count": 8,
     "metadata": {},
     "output_type": "execute_result"
    }
   ],
   "source": [
    "df_2"
   ]
  },
  {
   "cell_type": "code",
   "execution_count": null,
   "id": "754971e3-f4c4-42e4-9185-4c04195ab89f",
   "metadata": {},
   "outputs": [],
   "source": []
  },
  {
   "cell_type": "code",
   "execution_count": 20,
   "id": "2b22332a-c32a-45c5-8186-f450285d63ba",
   "metadata": {},
   "outputs": [],
   "source": [
    "# NORMALIZE/ STANDARDIZE: EMAIL ADDRESSES (CRM DATASETS)\n",
    "def cleanse_email_address(df_2):\n",
    "    # df_2[\"email\"].str.strip()\n",
    "    # df_2.replace(r\"[+AEA-]{1}\", \"@\", regex=True)\n",
    "    # return df_2\n",
    "    df_2['email'] = df_2['email'].str.replace(\"+AEA-\",\"@\")\n",
    "    df_2['join_date'] = df_2['join_date'].str.replace(\"+AC0-\",\"/\") # STANDARDIZE DATES\n",
    "    return df_2\n",
    "\n",
    "# CALL FUNCTION:\n",
    "df_2 = cleanse_email_address(df_2)"
   ]
  },
  {
   "cell_type": "code",
   "execution_count": null,
   "id": "cb8ddcd0-de3d-4aba-8703-1c32e29cd96b",
   "metadata": {},
   "outputs": [],
   "source": []
  },
  {
   "cell_type": "code",
   "execution_count": null,
   "id": "7a41a026-8137-4f3b-93c9-c22e654fe813",
   "metadata": {},
   "outputs": [],
   "source": []
  },
  {
   "cell_type": "code",
   "execution_count": 23,
   "id": "7cc06a7b-21eb-42e4-a296-9a8e613b1244",
   "metadata": {},
   "outputs": [
    {
     "data": {
      "text/plain": [
       "0    John Smith \n",
       "1            NaN\n",
       "2       Jane Doe\n",
       "3    John Smith \n",
       "Name: name, dtype: object"
      ]
     },
     "execution_count": 23,
     "metadata": {},
     "output_type": "execute_result"
    }
   ],
   "source": [
    "def standardize_names(df_2):\n",
    "    df_2['name'] = df_2['name'].str.lower()\n",
    "    df_2['name'] = df_2['name'].str.title() # Capitalize first letter of each name\n",
    "    return df_2\n",
    "\n",
    "# CALL FUNCTION:\n",
    "df_2 = standardize_names(df_2)\n",
    "df_2['name']"
   ]
  },
  {
   "cell_type": "code",
   "execution_count": null,
   "id": "99793555-cd61-475b-aa4c-f2807f34ea0f",
   "metadata": {},
   "outputs": [],
   "source": [
    "#"
   ]
  },
  {
   "cell_type": "code",
   "execution_count": null,
   "id": "c3474623-5ac6-4de7-a3a8-19a917bdb942",
   "metadata": {},
   "outputs": [],
   "source": []
  },
  {
   "cell_type": "code",
   "execution_count": null,
   "id": "e542a3ec-603e-4edc-aef7-28ed2f98f01a",
   "metadata": {},
   "outputs": [],
   "source": []
  },
  {
   "cell_type": "code",
   "execution_count": null,
   "id": "a84ec5d8-39c6-46dd-aac4-b517619e9079",
   "metadata": {},
   "outputs": [],
   "source": []
  },
  {
   "cell_type": "code",
   "execution_count": null,
   "id": "7c1028cd-6500-46ea-a468-96658d975590",
   "metadata": {},
   "outputs": [],
   "source": []
  },
  {
   "cell_type": "code",
   "execution_count": null,
   "id": "08e53dea-ac80-47da-940e-98801812a421",
   "metadata": {},
   "outputs": [],
   "source": []
  },
  {
   "cell_type": "code",
   "execution_count": null,
   "id": "23d1b6ad-7b25-4b33-a864-09e705383914",
   "metadata": {},
   "outputs": [],
   "source": []
  },
  {
   "cell_type": "code",
   "execution_count": 18,
   "id": "c4b7c14b-d7e8-4a12-b829-8d3ba3e7af6e",
   "metadata": {},
   "outputs": [
    {
     "name": "stdout",
     "output_type": "stream",
     "text": [
      "                email    join_date\n",
      "0    JOHN@example.com   2024/06/01\n",
      "1                                 \n",
      "2   jane@example.com    06/15/2024\n",
      "3    JOHN@example.com   2024/06/01\n"
     ]
    }
   ],
   "source": [
    "print(df_2[['email', 'join_date']])"
   ]
  },
  {
   "cell_type": "code",
   "execution_count": 19,
   "id": "7e0b1dfa-09c6-4e14-9f5c-1f172e291ccb",
   "metadata": {},
   "outputs": [
    {
     "data": {
      "text/html": [
       "<div>\n",
       "<style scoped>\n",
       "    .dataframe tbody tr th:only-of-type {\n",
       "        vertical-align: middle;\n",
       "    }\n",
       "\n",
       "    .dataframe tbody tr th {\n",
       "        vertical-align: top;\n",
       "    }\n",
       "\n",
       "    .dataframe thead th {\n",
       "        text-align: right;\n",
       "    }\n",
       "</style>\n",
       "<table border=\"1\" class=\"dataframe\">\n",
       "  <thead>\n",
       "    <tr style=\"text-align: right;\">\n",
       "      <th></th>\n",
       "      <th>unnamed_0</th>\n",
       "      <th>name</th>\n",
       "      <th>email</th>\n",
       "      <th>age</th>\n",
       "      <th>join_date</th>\n",
       "    </tr>\n",
       "  </thead>\n",
       "  <tbody>\n",
       "    <tr>\n",
       "      <th>0</th>\n",
       "      <td>0</td>\n",
       "      <td>John Smith</td>\n",
       "      <td>JOHN@example.com</td>\n",
       "      <td>28</td>\n",
       "      <td>2024/06/01</td>\n",
       "    </tr>\n",
       "    <tr>\n",
       "      <th>1</th>\n",
       "      <td>1</td>\n",
       "      <td>NaN</td>\n",
       "      <td></td>\n",
       "      <td></td>\n",
       "      <td></td>\n",
       "    </tr>\n",
       "    <tr>\n",
       "      <th>2</th>\n",
       "      <td>2</td>\n",
       "      <td>Jane Doe</td>\n",
       "      <td>jane@example.com</td>\n",
       "      <td></td>\n",
       "      <td>06/15/2024</td>\n",
       "    </tr>\n",
       "    <tr>\n",
       "      <th>3</th>\n",
       "      <td>3</td>\n",
       "      <td>John Smith</td>\n",
       "      <td>JOHN@example.com</td>\n",
       "      <td>28</td>\n",
       "      <td>2024/06/01</td>\n",
       "    </tr>\n",
       "  </tbody>\n",
       "</table>\n",
       "</div>"
      ],
      "text/plain": [
       "   unnamed_0         name               email age    join_date\n",
       "0          0  John Smith     JOHN@example.com  28   2024/06/01\n",
       "1          1          NaN                                     \n",
       "2          2     Jane Doe   jane@example.com        06/15/2024\n",
       "3          3  John Smith     JOHN@example.com  28   2024/06/01"
      ]
     },
     "execution_count": 19,
     "metadata": {},
     "output_type": "execute_result"
    }
   ],
   "source": [
    "df_2"
   ]
  },
  {
   "cell_type": "code",
   "execution_count": null,
   "id": "78b72e31-8f25-4278-9902-1d0d6882520a",
   "metadata": {},
   "outputs": [],
   "source": []
  },
  {
   "cell_type": "code",
   "execution_count": null,
   "id": "c59e1ef3-4519-4bb7-b5f8-e233e6bd9c7d",
   "metadata": {},
   "outputs": [],
   "source": []
  },
  {
   "cell_type": "code",
   "execution_count": null,
   "id": "b523b09f-c558-4a7a-8a5c-eae7fbab6bb2",
   "metadata": {},
   "outputs": [],
   "source": []
  },
  {
   "cell_type": "code",
   "execution_count": null,
   "id": "17c5adce-7aab-4270-8c04-efd0da671fce",
   "metadata": {},
   "outputs": [],
   "source": [
    "\n"
   ]
  },
  {
   "cell_type": "code",
   "execution_count": null,
   "id": "999d028a-115c-4e4d-830c-4c0f8aa73cf0",
   "metadata": {},
   "outputs": [],
   "source": []
  },
  {
   "cell_type": "code",
   "execution_count": null,
   "id": "04ecc1dc-9ab2-43ec-9c65-408f74287932",
   "metadata": {},
   "outputs": [],
   "source": []
  },
  {
   "cell_type": "code",
   "execution_count": null,
   "id": "77be6634-9808-4083-aa02-dcd15500805d",
   "metadata": {},
   "outputs": [],
   "source": []
  },
  {
   "cell_type": "code",
   "execution_count": null,
   "id": "81a78759-f835-4a30-8684-4061e02c8dc3",
   "metadata": {},
   "outputs": [],
   "source": []
  },
  {
   "cell_type": "code",
   "execution_count": null,
   "id": "362fcc36-f2f3-44bf-9af9-3eeba6fda81a",
   "metadata": {},
   "outputs": [],
   "source": []
  },
  {
   "cell_type": "code",
   "execution_count": null,
   "id": "24a313a0-7ffb-4eb6-bc6e-94fb6094ff1f",
   "metadata": {},
   "outputs": [],
   "source": []
  },
  {
   "cell_type": "code",
   "execution_count": null,
   "id": "b796a389-b3c8-4ab6-8258-d67445e86cc7",
   "metadata": {},
   "outputs": [],
   "source": []
  },
  {
   "cell_type": "code",
   "execution_count": null,
   "id": "fb869f62-a97a-4dab-8aaf-17f1621ba54a",
   "metadata": {},
   "outputs": [],
   "source": []
  },
  {
   "cell_type": "code",
   "execution_count": null,
   "id": "1a095a85-1be5-4cd8-9c31-8e39294980c8",
   "metadata": {},
   "outputs": [],
   "source": []
  },
  {
   "cell_type": "code",
   "execution_count": null,
   "id": "5ae2d68d-a3f1-4a5d-bc77-1a60b385c792",
   "metadata": {},
   "outputs": [],
   "source": []
  },
  {
   "cell_type": "code",
   "execution_count": null,
   "id": "040c3a69-df26-4eda-a5f0-a31a5287d525",
   "metadata": {},
   "outputs": [],
   "source": []
  },
  {
   "cell_type": "code",
   "execution_count": null,
   "id": "c291555f-2216-4d56-8e17-d62464389c79",
   "metadata": {},
   "outputs": [],
   "source": []
  },
  {
   "cell_type": "code",
   "execution_count": null,
   "id": "fc45b1d9-bbee-4d65-99c3-74436c766113",
   "metadata": {},
   "outputs": [],
   "source": []
  },
  {
   "cell_type": "code",
   "execution_count": null,
   "id": "1dd9ab4a-2ec1-4905-9163-28efecff8f30",
   "metadata": {},
   "outputs": [],
   "source": []
  },
  {
   "cell_type": "code",
   "execution_count": null,
   "id": "1d4508fe-87b2-4a15-bd7f-e134f3c5b456",
   "metadata": {},
   "outputs": [],
   "source": []
  },
  {
   "cell_type": "code",
   "execution_count": null,
   "id": "50747ddb-3fe1-45b5-99eb-d2f99f05e92e",
   "metadata": {},
   "outputs": [],
   "source": []
  },
  {
   "cell_type": "code",
   "execution_count": null,
   "id": "fd668a6c-7e0b-480b-8cc1-b6abe5021806",
   "metadata": {},
   "outputs": [],
   "source": []
  },
  {
   "cell_type": "code",
   "execution_count": null,
   "id": "bad788ef-82f5-4842-92a3-de501558f245",
   "metadata": {},
   "outputs": [],
   "source": []
  },
  {
   "cell_type": "code",
   "execution_count": null,
   "id": "58674b46-8bcf-40aa-b0c6-b2bf6ff18221",
   "metadata": {},
   "outputs": [],
   "source": []
  },
  {
   "cell_type": "code",
   "execution_count": null,
   "id": "f70bb90a-4866-4e84-a7a2-1830c881ae21",
   "metadata": {},
   "outputs": [],
   "source": []
  },
  {
   "cell_type": "code",
   "execution_count": null,
   "id": "4f2962c5-af33-4165-8dac-e782232c56a6",
   "metadata": {},
   "outputs": [],
   "source": []
  },
  {
   "cell_type": "code",
   "execution_count": null,
   "id": "c3cfdb80-d4a7-4fb4-9593-f50059d02ed7",
   "metadata": {},
   "outputs": [],
   "source": []
  },
  {
   "cell_type": "code",
   "execution_count": null,
   "id": "f85c457e-a281-4a4d-9e55-148068ae0aaa",
   "metadata": {},
   "outputs": [],
   "source": []
  },
  {
   "cell_type": "code",
   "execution_count": null,
   "id": "133a4cb1-ddb8-4c0b-932d-b99bec78418e",
   "metadata": {},
   "outputs": [],
   "source": []
  },
  {
   "cell_type": "code",
   "execution_count": 14,
   "id": "5a2ccbf1-2970-4f56-aea6-c9fbdda032d9",
   "metadata": {},
   "outputs": [
    {
     "name": "stdout",
     "output_type": "stream",
     "text": [
      "Cleaned data saved!\n"
     ]
    }
   ],
   "source": [
    "output_file(df_2, file_path)"
   ]
  },
  {
   "cell_type": "code",
   "execution_count": null,
   "id": "d63dc5f5-9110-47ea-8ad2-cb11e0af4777",
   "metadata": {},
   "outputs": [],
   "source": []
  },
  {
   "cell_type": "code",
   "execution_count": null,
   "id": "ef289832-c688-4796-9f3e-527fd022cb04",
   "metadata": {},
   "outputs": [],
   "source": []
  },
  {
   "cell_type": "code",
   "execution_count": null,
   "id": "dbb76568-596e-49df-a317-4ea7ad09fbfe",
   "metadata": {},
   "outputs": [],
   "source": []
  },
  {
   "cell_type": "code",
   "execution_count": null,
   "id": "0e514da2-8c37-4ab2-aedd-dc6ef1845b83",
   "metadata": {},
   "outputs": [],
   "source": []
  },
  {
   "cell_type": "code",
   "execution_count": null,
   "id": "2b0a068d-312a-45b2-b471-4ff8ffe8479f",
   "metadata": {},
   "outputs": [],
   "source": []
  },
  {
   "cell_type": "code",
   "execution_count": 5,
   "id": "cbd7d188-c3f4-4238-b2bc-e1982e67e0dc",
   "metadata": {},
   "outputs": [
    {
     "name": "stdout",
     "output_type": "stream",
     "text": [
      "STARTING SUM OF NULL/ BLANK VALUES: '\n",
      "'  unnamed_0            0\n",
      "index                0\n",
      "job_title            1\n",
      "salary_estimate      0\n",
      "job_description      1\n",
      "rating               0\n",
      "company_name         0\n",
      "location             0\n",
      "headquarters         1\n",
      "size                 0\n",
      "founded              0\n",
      "type_of_ownership    1\n",
      "industry             2\n",
      "sector               0\n",
      "revenue              0\n",
      "competitors          3\n",
      "easy_apply           0\n",
      "dtype: int64 \n",
      "\n",
      "      unnamed_0  index  job_title  salary_estimate  job_description  rating  \\\n",
      "0         False  False      False            False            False   False   \n",
      "1         False  False      False            False            False   False   \n",
      "2         False  False      False            False            False   False   \n",
      "3         False  False      False            False             True   False   \n",
      "4         False  False      False            False            False   False   \n",
      "...         ...    ...        ...              ...              ...     ...   \n",
      "3907      False  False      False            False            False   False   \n",
      "3908      False  False      False            False            False   False   \n",
      "3909      False  False      False            False            False   False   \n",
      "3910      False  False      False            False            False   False   \n",
      "3911      False  False      False            False            False   False   \n",
      "\n",
      "      company_name  location  headquarters   size  founded  type_of_ownership  \\\n",
      "0            False     False         False  False    False              False   \n",
      "1            False     False         False  False    False              False   \n",
      "2            False     False         False  False    False              False   \n",
      "3            False     False          True  False    False              False   \n",
      "4            False     False         False  False    False              False   \n",
      "...            ...       ...           ...    ...      ...                ...   \n",
      "3907         False     False         False  False    False              False   \n",
      "3908         False     False         False  False    False              False   \n",
      "3909         False     False         False  False    False              False   \n",
      "3910         False     False         False  False    False              False   \n",
      "3911         False     False         False  False    False              False   \n",
      "\n",
      "      industry  sector  revenue  competitors  easy_apply  \n",
      "0        False   False    False        False       False  \n",
      "1        False   False    False        False       False  \n",
      "2        False   False    False        False       False  \n",
      "3         True   False    False        False       False  \n",
      "4         True   False    False        False       False  \n",
      "...        ...     ...      ...          ...         ...  \n",
      "3907     False   False    False        False       False  \n",
      "3908     False   False    False        False       False  \n",
      "3909     False   False    False        False       False  \n",
      "3910     False   False    False        False       False  \n",
      "3911     False   False    False        False       False  \n",
      "\n",
      "[3912 rows x 17 columns] \n",
      "\n",
      "FINAL: SUM OF NULL/ BLANK VALUES: '\n",
      "'  unnamed_0            0\n",
      "index                0\n",
      "job_title            0\n",
      "salary_estimate      0\n",
      "job_description      0\n",
      "rating               0\n",
      "company_name         0\n",
      "location             0\n",
      "headquarters         0\n",
      "size                 0\n",
      "founded              0\n",
      "type_of_ownership    0\n",
      "industry             0\n",
      "sector               0\n",
      "revenue              0\n",
      "competitors          0\n",
      "easy_apply           0\n",
      "dtype: int64 \n",
      "\n"
     ]
    },
    {
     "name": "stderr",
     "output_type": "stream",
     "text": [
      "C:\\Users\\Cessn\\AppData\\Local\\Temp\\ipykernel_13872\\3780080048.py:25: FutureWarning: A value is trying to be set on a copy of a DataFrame or Series through chained assignment using an inplace method.\n",
      "The behavior will change in pandas 3.0. This inplace method will never work because the intermediate object on which we are setting values always behaves as a copy.\n",
      "\n",
      "For example, when doing 'df[col].method(value, inplace=True)', try using 'df.method({col: value}, inplace=True)' or df[col] = df[col].method(value) instead, to perform the operation inplace on the original object.\n",
      "\n",
      "\n",
      "  df_2[column].fillna(0, inplace=True)\n",
      "C:\\Users\\Cessn\\AppData\\Local\\Temp\\ipykernel_13872\\3780080048.py:23: FutureWarning: A value is trying to be set on a copy of a DataFrame or Series through chained assignment using an inplace method.\n",
      "The behavior will change in pandas 3.0. This inplace method will never work because the intermediate object on which we are setting values always behaves as a copy.\n",
      "\n",
      "For example, when doing 'df[col].method(value, inplace=True)', try using 'df.method({col: value}, inplace=True)' or df[col] = df[col].method(value) instead, to perform the operation inplace on the original object.\n",
      "\n",
      "\n",
      "  df_2[column].fillna(\"NONE\", inplace=True)\n"
     ]
    }
   ],
   "source": [
    "# FILL / REMOVE BLANKS AND/OR NULLS (N/A VALUES)\n",
    "# NOTE: ACTION TAKEN DEPENDS ON CONTEXT OF df_2/ ROW/ COLUMN AND/OR CLIENT PREFERENCE:\n",
    "\n",
    "'''\n",
    "Get count of na (Not a Number values) - df_2_copy.isna().sum¶\n",
    "Get count of null (null values) - df_2_copy.isnull().sum\n",
    "Get count of null / na values fpr specific column - df_2[\"column name\"].isna() / df_2['column name'].isnull()\n",
    "For multiple columns pass a list of column names in - df_2.[[\"list_of_column_names\"]].isna()\n",
    "'''\n",
    "def handle_blank_and_null_values(df_2):\n",
    "        \n",
    "    # Return sum of all null values in all columns\n",
    "    print(\"STARTING SUM OF NULL/ BLANK VALUES: '\\n' \", df_2.isnull().sum(), \"\\n\")\n",
    "    print(df_2.isnull(), \"\\n\")\n",
    "    \n",
    "    # Note parameter inplace=True modifies current working copy of dataframe\n",
    "    # Otherwise will return a new datafram w/ requested information\n",
    "    # df_2_2.dropna(inplace=True, subset=[\"Job Title\", \"Job Description\", \"Industry\"])\n",
    "    # df_2_2.dropna(inplace=True) - CONSULT W/ CLIENT BEFORE DROPPING ANYTHING!\n",
    "\n",
    "    for column in df_2:\n",
    "        if df_2[column].dtype == 'object':\n",
    "            df_2[column].fillna(\"NONE\", inplace=True)\n",
    "        else:\n",
    "            df_2[column].fillna(0, inplace=True)\n",
    "\n",
    "    return df_2\n",
    "\n",
    "    \n",
    "\n",
    "# CALL FUNCTION\n",
    "# NOTE: Argument passed in is df_2_2 w/ intent to overwrite existing version of df_2_2 at each step of cleansing process\n",
    "df_2 = handle_blank_and_null_values(df_2)\n",
    "print(\"FINAL: SUM OF NULL/ BLANK VALUES: '\\n' \", df_2.isnull().sum(), \"\\n\")"
   ]
  },
  {
   "cell_type": "code",
   "execution_count": null,
   "id": "922eedb8-f59e-424c-a532-8d7d96bf0284",
   "metadata": {},
   "outputs": [],
   "source": []
  },
  {
   "cell_type": "code",
   "execution_count": null,
   "id": "a2381b06-5e39-4578-b779-07cc14392fd9",
   "metadata": {},
   "outputs": [],
   "source": []
  },
  {
   "cell_type": "code",
   "execution_count": 6,
   "id": "2e1d9c89-9593-47f0-84bf-c1c6fcba6283",
   "metadata": {},
   "outputs": [],
   "source": [
    "# CLEAN COLUMN NAMES\n",
    "''' Captures all column names in DataFrame + Does following actions:\n",
    "1. Strip whitespace (both left/right side of string)\n",
    "2. Convert column names to all lowercase\n",
    "3. Locates regex pattern specified (replaces any char that is NOT a letter or number with an underscore)\n",
    "4. str.strip('_') removes any underscore characters at start/ end of string \n",
    "(https://www.w3schools.com/python/ref_string_strip.asp)\n",
    "'''\n",
    "def clean_column_names(df_2):\n",
    "    df_2.columns = (\n",
    "        df_2.columns.str.strip()\n",
    "                  .str.lower()\n",
    "                  .str.replace(r'[^a-z0-9]+', '_', regex=True)\n",
    "                  # .str.strip('_')\n",
    "    )\n",
    "    return df_2\n",
    "\n",
    "# CALL FUNCTION:"
   ]
  },
  {
   "cell_type": "code",
   "execution_count": 9,
   "id": "11ced3c9-a8fe-46f7-b5b2-235ae750f4bf",
   "metadata": {},
   "outputs": [
    {
     "name": "stdout",
     "output_type": "stream",
     "text": [
      "Cleaned data saved!\n"
     ]
    }
   ],
   "source": []
  },
  {
   "cell_type": "code",
   "execution_count": null,
   "id": "d67bcb6d-4caa-4930-a08d-e683e0d84b69",
   "metadata": {},
   "outputs": [],
   "source": []
  },
  {
   "cell_type": "code",
   "execution_count": null,
   "id": "c75aa0b7-e49f-42e0-a540-fff4cdf40076",
   "metadata": {},
   "outputs": [],
   "source": []
  },
  {
   "cell_type": "code",
   "execution_count": 26,
   "id": "5705d218-5e80-4046-803d-0a7bdc4529dc",
   "metadata": {},
   "outputs": [
    {
     "data": {
      "text/plain": [
       "Unnamed: 0           0\n",
       "index                0\n",
       "Job Title            1\n",
       "Salary Estimate      0\n",
       "Job Description      1\n",
       "Rating               0\n",
       "Company Name         0\n",
       "Location             0\n",
       "Headquarters         1\n",
       "Size                 0\n",
       "Founded              0\n",
       "Type of ownership    1\n",
       "Industry             2\n",
       "Sector               0\n",
       "Revenue              0\n",
       "Competitors          3\n",
       "Easy Apply           0\n",
       "dtype: int64"
      ]
     },
     "execution_count": 26,
     "metadata": {},
     "output_type": "execute_result"
    }
   ],
   "source": [
    "df_2_2.isnull().sum()"
   ]
  },
  {
   "cell_type": "code",
   "execution_count": 28,
   "id": "bca75cf0-3209-44da-8d41-018f41c5277c",
   "metadata": {},
   "outputs": [
    {
     "data": {
      "text/plain": [
       "<bound method Series.sum of 0       False\n",
       "1       False\n",
       "2       False\n",
       "3       False\n",
       "4       False\n",
       "        ...  \n",
       "3907    False\n",
       "3908    False\n",
       "3909    False\n",
       "3910    False\n",
       "3911    False\n",
       "Name: Job Title, Length: 3912, dtype: bool>"
      ]
     },
     "execution_count": 28,
     "metadata": {},
     "output_type": "execute_result"
    }
   ],
   "source": [
    "df_2_2['Job Title'].fillna('N/A', inplace=True)\n",
    "df_2_2[\"Job Title\"].isnull().sum"
   ]
  },
  {
   "cell_type": "code",
   "execution_count": 29,
   "id": "23403286-e9de-4767-85f4-d2a6ae362294",
   "metadata": {},
   "outputs": [
    {
     "data": {
      "text/html": [
       "<div>\n",
       "<style scoped>\n",
       "    .dataframe tbody tr th:only-of-type {\n",
       "        vertical-align: middle;\n",
       "    }\n",
       "\n",
       "    .dataframe tbody tr th {\n",
       "        vertical-align: top;\n",
       "    }\n",
       "\n",
       "    .dataframe thead th {\n",
       "        text-align: right;\n",
       "    }\n",
       "</style>\n",
       "<table border=\"1\" class=\"dataframe\">\n",
       "  <thead>\n",
       "    <tr style=\"text-align: right;\">\n",
       "      <th></th>\n",
       "      <th>Unnamed: 0</th>\n",
       "      <th>index</th>\n",
       "      <th>Job Title</th>\n",
       "      <th>Salary Estimate</th>\n",
       "      <th>Job Description</th>\n",
       "      <th>Rating</th>\n",
       "      <th>Company Name</th>\n",
       "      <th>Location</th>\n",
       "      <th>Headquarters</th>\n",
       "      <th>Size</th>\n",
       "      <th>Founded</th>\n",
       "      <th>Type of ownership</th>\n",
       "      <th>Industry</th>\n",
       "      <th>Sector</th>\n",
       "      <th>Revenue</th>\n",
       "      <th>Competitors</th>\n",
       "      <th>Easy Apply</th>\n",
       "    </tr>\n",
       "  </thead>\n",
       "  <tbody>\n",
       "    <tr>\n",
       "      <th>0</th>\n",
       "      <td>0</td>\n",
       "      <td>0</td>\n",
       "      <td>Senior Data Scientist</td>\n",
       "      <td>$111K-$181K (Glassdoor est.)</td>\n",
       "      <td>ABOUT HOPPER\\n\\nAt Hopper, we’re on a mission ...</td>\n",
       "      <td>3.5</td>\n",
       "      <td>Hopper\\n3.5</td>\n",
       "      <td>New York, NY</td>\n",
       "      <td>Montreal, Canada</td>\n",
       "      <td>501 to 1000 employees</td>\n",
       "      <td>2007</td>\n",
       "      <td>Company - Private</td>\n",
       "      <td>Travel Agencies</td>\n",
       "      <td>Travel &amp; Tourism</td>\n",
       "      <td>Unknown / Non-Applicable</td>\n",
       "      <td>-1</td>\n",
       "      <td>-1</td>\n",
       "    </tr>\n",
       "    <tr>\n",
       "      <th>1</th>\n",
       "      <td>1</td>\n",
       "      <td>1</td>\n",
       "      <td>Data Scientist, Product Analytics</td>\n",
       "      <td>$111K-$181K (Glassdoor est.)</td>\n",
       "      <td>At Noom, we use scientifically proven methods ...</td>\n",
       "      <td>4.5</td>\n",
       "      <td>Noom US\\n4.5</td>\n",
       "      <td>New York, NY</td>\n",
       "      <td>New York, NY</td>\n",
       "      <td>1001 to 5000 employees</td>\n",
       "      <td>2008</td>\n",
       "      <td>Company - Private</td>\n",
       "      <td>Health, Beauty, &amp; Fitness</td>\n",
       "      <td>Consumer Services</td>\n",
       "      <td>Unknown / Non-Applicable</td>\n",
       "      <td>-1</td>\n",
       "      <td>-1</td>\n",
       "    </tr>\n",
       "    <tr>\n",
       "      <th>5</th>\n",
       "      <td>5</td>\n",
       "      <td>5</td>\n",
       "      <td>Data Scientist</td>\n",
       "      <td>$111K-$181K (Glassdoor est.)</td>\n",
       "      <td>Job Brief\\n\\nThe ideal candidate will have pre...</td>\n",
       "      <td>2.9</td>\n",
       "      <td>IFG Companies\\n2.9</td>\n",
       "      <td>New York, NY</td>\n",
       "      <td>Hartford, CT</td>\n",
       "      <td>201 to 500 employees</td>\n",
       "      <td>1985</td>\n",
       "      <td>NaN</td>\n",
       "      <td>Insurance Carriers</td>\n",
       "      <td>Insurance</td>\n",
       "      <td>Unknown / Non-Applicable</td>\n",
       "      <td>Colony Specialty, Markel, RLI</td>\n",
       "      <td>-1</td>\n",
       "    </tr>\n",
       "    <tr>\n",
       "      <th>8</th>\n",
       "      <td>8</td>\n",
       "      <td>8</td>\n",
       "      <td>AI Scientist</td>\n",
       "      <td>$111K-$181K (Glassdoor est.)</td>\n",
       "      <td>Paige is a software company helping pathologis...</td>\n",
       "      <td>5.0</td>\n",
       "      <td>Paige\\n5.0</td>\n",
       "      <td>New York, NY</td>\n",
       "      <td>New York, NY</td>\n",
       "      <td>1 to 50 employees</td>\n",
       "      <td>2018</td>\n",
       "      <td>Company - Private</td>\n",
       "      <td>Enterprise Software &amp; Network Solutions</td>\n",
       "      <td>Information Technology</td>\n",
       "      <td>Unknown / Non-Applicable</td>\n",
       "      <td>-1</td>\n",
       "      <td>TRUE</td>\n",
       "    </tr>\n",
       "    <tr>\n",
       "      <th>10</th>\n",
       "      <td>10</td>\n",
       "      <td>10</td>\n",
       "      <td>Data Scientist</td>\n",
       "      <td>$111K-$181K (Glassdoor est.)</td>\n",
       "      <td>Company Description:\\n\\nQuartet is a pioneerin...</td>\n",
       "      <td>3.9</td>\n",
       "      <td>Quartet Health\\n3.9</td>\n",
       "      <td>New York, NY</td>\n",
       "      <td>New York, NY</td>\n",
       "      <td>201 to 500 employees</td>\n",
       "      <td>2014</td>\n",
       "      <td>Company - Private</td>\n",
       "      <td>Enterprise Software &amp; Network Solutions</td>\n",
       "      <td>Information Technology</td>\n",
       "      <td>Unknown / Non-Applicable</td>\n",
       "      <td>-1</td>\n",
       "      <td>TRUE</td>\n",
       "    </tr>\n",
       "    <tr>\n",
       "      <th>...</th>\n",
       "      <td>...</td>\n",
       "      <td>...</td>\n",
       "      <td>...</td>\n",
       "      <td>...</td>\n",
       "      <td>...</td>\n",
       "      <td>...</td>\n",
       "      <td>...</td>\n",
       "      <td>...</td>\n",
       "      <td>...</td>\n",
       "      <td>...</td>\n",
       "      <td>...</td>\n",
       "      <td>...</td>\n",
       "      <td>...</td>\n",
       "      <td>...</td>\n",
       "      <td>...</td>\n",
       "      <td>...</td>\n",
       "      <td>...</td>\n",
       "    </tr>\n",
       "    <tr>\n",
       "      <th>3884</th>\n",
       "      <td>3884</td>\n",
       "      <td>4355</td>\n",
       "      <td>Senior Research Scientist - RI IPP Cooper</td>\n",
       "      <td>$55K-$112K (Glassdoor est.)</td>\n",
       "      <td>JOB POSTING – Senior Research Scientist – RI I...</td>\n",
       "      <td>3.7</td>\n",
       "      <td>Nationwide Children's Hospital\\n3.7</td>\n",
       "      <td>Columbus, OH</td>\n",
       "      <td>Columbus, OH</td>\n",
       "      <td>10000+ employees</td>\n",
       "      <td>1892</td>\n",
       "      <td>Nonprofit Organization</td>\n",
       "      <td>Health Care Services &amp; Hospitals</td>\n",
       "      <td>Health Care</td>\n",
       "      <td>$1 to $2 billion (USD)</td>\n",
       "      <td>-1</td>\n",
       "      <td>-1</td>\n",
       "    </tr>\n",
       "    <tr>\n",
       "      <th>3893</th>\n",
       "      <td>3893</td>\n",
       "      <td>4364</td>\n",
       "      <td>Biotransformation Scientist and DMPK Design Lead</td>\n",
       "      <td>$55K-$112K (Glassdoor est.)</td>\n",
       "      <td>Help us transform patients' lives.\\n\\nAt UCB, ...</td>\n",
       "      <td>3.7</td>\n",
       "      <td>UCB\\n3.7</td>\n",
       "      <td>Slough, OH</td>\n",
       "      <td>Brussel, Belgium</td>\n",
       "      <td>5001 to 10000 employees</td>\n",
       "      <td>-1</td>\n",
       "      <td>Company - Public</td>\n",
       "      <td>Biotech &amp; Pharmaceuticals</td>\n",
       "      <td>Biotech &amp; Pharmaceuticals</td>\n",
       "      <td>$2 to $5 billion (USD)</td>\n",
       "      <td>AbbVie</td>\n",
       "      <td>-1</td>\n",
       "    </tr>\n",
       "    <tr>\n",
       "      <th>3895</th>\n",
       "      <td>3895</td>\n",
       "      <td>4366</td>\n",
       "      <td>Senior/Principal Scientist - Display Technolog...</td>\n",
       "      <td>$55K-$112K (Glassdoor est.)</td>\n",
       "      <td>Help us transform patients' lives.\\n\\nAt UCB, ...</td>\n",
       "      <td>3.7</td>\n",
       "      <td>UCB\\n3.7</td>\n",
       "      <td>Slough, OH</td>\n",
       "      <td>Brussel, Belgium</td>\n",
       "      <td>5001 to 10000 employees</td>\n",
       "      <td>-1</td>\n",
       "      <td>Company - Public</td>\n",
       "      <td>Biotech &amp; Pharmaceuticals</td>\n",
       "      <td>Biotech &amp; Pharmaceuticals</td>\n",
       "      <td>$2 to $5 billion (USD)</td>\n",
       "      <td>AbbVie</td>\n",
       "      <td>-1</td>\n",
       "    </tr>\n",
       "    <tr>\n",
       "      <th>3908</th>\n",
       "      <td>3908</td>\n",
       "      <td>4379</td>\n",
       "      <td>Patient Safety Physician or Safety Scientist -...</td>\n",
       "      <td>$55K-$112K (Glassdoor est.)</td>\n",
       "      <td>Help us transform patients' lives.\\nAt UCB, we...</td>\n",
       "      <td>3.7</td>\n",
       "      <td>UCB\\n3.7</td>\n",
       "      <td>Slough, OH</td>\n",
       "      <td>Brussel, Belgium</td>\n",
       "      <td>5001 to 10000 employees</td>\n",
       "      <td>-1</td>\n",
       "      <td>Company - Public</td>\n",
       "      <td>Biotech &amp; Pharmaceuticals</td>\n",
       "      <td>Biotech &amp; Pharmaceuticals</td>\n",
       "      <td>$2 to $5 billion (USD)</td>\n",
       "      <td>AbbVie</td>\n",
       "      <td>-1</td>\n",
       "    </tr>\n",
       "    <tr>\n",
       "      <th>3911</th>\n",
       "      <td>3908</td>\n",
       "      <td>4379</td>\n",
       "      <td>Patient Safety Physician or Safety Scientist -...</td>\n",
       "      <td>$55K-$112K (Glassdoor est.)</td>\n",
       "      <td>Help us transform patients' lives.\\nAt UCB, we...</td>\n",
       "      <td>3.7</td>\n",
       "      <td>UCB\\n3.7</td>\n",
       "      <td>Slough, OH</td>\n",
       "      <td>Brussel, Belgium</td>\n",
       "      <td>5001 to 10000 employees</td>\n",
       "      <td>-1</td>\n",
       "      <td>Company - Public</td>\n",
       "      <td>Biotech &amp; Pharmaceuticals</td>\n",
       "      <td>Biotech &amp; Pharmaceuticals</td>\n",
       "      <td>$2 to $5 billion (USD)</td>\n",
       "      <td>AbbVie</td>\n",
       "      <td>-1</td>\n",
       "    </tr>\n",
       "  </tbody>\n",
       "</table>\n",
       "<p>1757 rows × 17 columns</p>\n",
       "</div>"
      ],
      "text/plain": [
       "      Unnamed: 0  index                                          Job Title  \\\n",
       "0              0      0                              Senior Data Scientist   \n",
       "1              1      1                  Data Scientist, Product Analytics   \n",
       "5              5      5                                     Data Scientist   \n",
       "8              8      8                                       AI Scientist   \n",
       "10            10     10                                     Data Scientist   \n",
       "...          ...    ...                                                ...   \n",
       "3884        3884   4355          Senior Research Scientist - RI IPP Cooper   \n",
       "3893        3893   4364   Biotransformation Scientist and DMPK Design Lead   \n",
       "3895        3895   4366  Senior/Principal Scientist - Display Technolog...   \n",
       "3908        3908   4379  Patient Safety Physician or Safety Scientist -...   \n",
       "3911        3908   4379  Patient Safety Physician or Safety Scientist -...   \n",
       "\n",
       "                   Salary Estimate  \\\n",
       "0     $111K-$181K (Glassdoor est.)   \n",
       "1     $111K-$181K (Glassdoor est.)   \n",
       "5     $111K-$181K (Glassdoor est.)   \n",
       "8     $111K-$181K (Glassdoor est.)   \n",
       "10    $111K-$181K (Glassdoor est.)   \n",
       "...                            ...   \n",
       "3884   $55K-$112K (Glassdoor est.)   \n",
       "3893   $55K-$112K (Glassdoor est.)   \n",
       "3895   $55K-$112K (Glassdoor est.)   \n",
       "3908   $55K-$112K (Glassdoor est.)   \n",
       "3911   $55K-$112K (Glassdoor est.)   \n",
       "\n",
       "                                        Job Description  Rating  \\\n",
       "0     ABOUT HOPPER\\n\\nAt Hopper, we’re on a mission ...     3.5   \n",
       "1     At Noom, we use scientifically proven methods ...     4.5   \n",
       "5     Job Brief\\n\\nThe ideal candidate will have pre...     2.9   \n",
       "8     Paige is a software company helping pathologis...     5.0   \n",
       "10    Company Description:\\n\\nQuartet is a pioneerin...     3.9   \n",
       "...                                                 ...     ...   \n",
       "3884  JOB POSTING – Senior Research Scientist – RI I...     3.7   \n",
       "3893  Help us transform patients' lives.\\n\\nAt UCB, ...     3.7   \n",
       "3895  Help us transform patients' lives.\\n\\nAt UCB, ...     3.7   \n",
       "3908  Help us transform patients' lives.\\nAt UCB, we...     3.7   \n",
       "3911  Help us transform patients' lives.\\nAt UCB, we...     3.7   \n",
       "\n",
       "                             Company Name      Location      Headquarters  \\\n",
       "0                             Hopper\\n3.5  New York, NY  Montreal, Canada   \n",
       "1                            Noom US\\n4.5  New York, NY      New York, NY   \n",
       "5                      IFG Companies\\n2.9  New York, NY      Hartford, CT   \n",
       "8                              Paige\\n5.0  New York, NY      New York, NY   \n",
       "10                    Quartet Health\\n3.9  New York, NY      New York, NY   \n",
       "...                                   ...           ...               ...   \n",
       "3884  Nationwide Children's Hospital\\n3.7  Columbus, OH      Columbus, OH   \n",
       "3893                             UCB\\n3.7    Slough, OH  Brussel, Belgium   \n",
       "3895                             UCB\\n3.7    Slough, OH  Brussel, Belgium   \n",
       "3908                             UCB\\n3.7    Slough, OH  Brussel, Belgium   \n",
       "3911                             UCB\\n3.7    Slough, OH  Brussel, Belgium   \n",
       "\n",
       "                         Size  Founded       Type of ownership  \\\n",
       "0       501 to 1000 employees     2007       Company - Private   \n",
       "1      1001 to 5000 employees     2008       Company - Private   \n",
       "5        201 to 500 employees     1985                     NaN   \n",
       "8           1 to 50 employees     2018       Company - Private   \n",
       "10       201 to 500 employees     2014       Company - Private   \n",
       "...                       ...      ...                     ...   \n",
       "3884         10000+ employees     1892  Nonprofit Organization   \n",
       "3893  5001 to 10000 employees       -1        Company - Public   \n",
       "3895  5001 to 10000 employees       -1        Company - Public   \n",
       "3908  5001 to 10000 employees       -1        Company - Public   \n",
       "3911  5001 to 10000 employees       -1        Company - Public   \n",
       "\n",
       "                                     Industry                     Sector  \\\n",
       "0                             Travel Agencies           Travel & Tourism   \n",
       "1                   Health, Beauty, & Fitness          Consumer Services   \n",
       "5                          Insurance Carriers                  Insurance   \n",
       "8     Enterprise Software & Network Solutions     Information Technology   \n",
       "10    Enterprise Software & Network Solutions     Information Technology   \n",
       "...                                       ...                        ...   \n",
       "3884         Health Care Services & Hospitals                Health Care   \n",
       "3893                Biotech & Pharmaceuticals  Biotech & Pharmaceuticals   \n",
       "3895                Biotech & Pharmaceuticals  Biotech & Pharmaceuticals   \n",
       "3908                Biotech & Pharmaceuticals  Biotech & Pharmaceuticals   \n",
       "3911                Biotech & Pharmaceuticals  Biotech & Pharmaceuticals   \n",
       "\n",
       "                       Revenue                    Competitors Easy Apply  \n",
       "0     Unknown / Non-Applicable                             -1         -1  \n",
       "1     Unknown / Non-Applicable                             -1         -1  \n",
       "5     Unknown / Non-Applicable  Colony Specialty, Markel, RLI         -1  \n",
       "8     Unknown / Non-Applicable                             -1       TRUE  \n",
       "10    Unknown / Non-Applicable                             -1       TRUE  \n",
       "...                        ...                            ...        ...  \n",
       "3884    $1 to $2 billion (USD)                             -1         -1  \n",
       "3893    $2 to $5 billion (USD)                         AbbVie         -1  \n",
       "3895    $2 to $5 billion (USD)                         AbbVie         -1  \n",
       "3908    $2 to $5 billion (USD)                         AbbVie         -1  \n",
       "3911    $2 to $5 billion (USD)                         AbbVie         -1  \n",
       "\n",
       "[1757 rows x 17 columns]"
      ]
     },
     "execution_count": 29,
     "metadata": {},
     "output_type": "execute_result"
    }
   ],
   "source": [
    "df_2_2[df_2_2[\"Job Title\"].str.contains('scientist', case=False)]"
   ]
  },
  {
   "cell_type": "code",
   "execution_count": null,
   "id": "b0e5a51c-d347-4ecf-a16c-1a359901d49f",
   "metadata": {},
   "outputs": [],
   "source": []
  },
  {
   "cell_type": "code",
   "execution_count": null,
   "id": "81d4f932-ba34-40dd-876a-831a62a3a9a4",
   "metadata": {},
   "outputs": [],
   "source": [
    "\n",
    "    "
   ]
  },
  {
   "cell_type": "code",
   "execution_count": null,
   "id": "8abe7202-df22-47cb-b0f6-c293eadc912a",
   "metadata": {},
   "outputs": [],
   "source": []
  },
  {
   "cell_type": "code",
   "execution_count": null,
   "id": "29fa6216-ac30-436f-9f36-335909cac715",
   "metadata": {},
   "outputs": [],
   "source": []
  },
  {
   "cell_type": "code",
   "execution_count": null,
   "id": "8644ae00-aaa7-4cc1-a85e-46fc7cdbd7b4",
   "metadata": {},
   "outputs": [],
   "source": []
  },
  {
   "cell_type": "code",
   "execution_count": null,
   "id": "24dc740d-c0ba-45b2-9896-a4fabf220dc0",
   "metadata": {},
   "outputs": [],
   "source": []
  },
  {
   "cell_type": "code",
   "execution_count": null,
   "id": "8e93bec3-309a-4a70-b239-839ec78af143",
   "metadata": {},
   "outputs": [],
   "source": []
  },
  {
   "cell_type": "code",
   "execution_count": null,
   "id": "a5f779aa-8e18-4c33-aed1-95fca364b8ce",
   "metadata": {},
   "outputs": [],
   "source": []
  },
  {
   "cell_type": "code",
   "execution_count": null,
   "id": "84ad6a6a-dd31-43c2-8994-9d91fd9d2117",
   "metadata": {},
   "outputs": [],
   "source": []
  },
  {
   "cell_type": "code",
   "execution_count": null,
   "id": "9de4aed1-9a0f-4926-9080-66c334f3d6bc",
   "metadata": {},
   "outputs": [],
   "source": []
  },
  {
   "cell_type": "code",
   "execution_count": null,
   "id": "38e89bbe-ab07-4af5-8c5c-3d7c43ec7b0a",
   "metadata": {},
   "outputs": [],
   "source": []
  },
  {
   "cell_type": "code",
   "execution_count": null,
   "id": "88ac18c6-f54d-4194-bf97-f4fab099f87b",
   "metadata": {},
   "outputs": [],
   "source": []
  },
  {
   "cell_type": "code",
   "execution_count": null,
   "id": "e4b01eff-6af9-4f07-8c08-2c4e691e8180",
   "metadata": {},
   "outputs": [],
   "source": []
  },
  {
   "cell_type": "code",
   "execution_count": null,
   "id": "b013c053-076d-4de7-a9f1-a8c16896539f",
   "metadata": {},
   "outputs": [],
   "source": []
  },
  {
   "cell_type": "code",
   "execution_count": null,
   "id": "2dcf0073-508d-45c6-b084-5ed1704f7406",
   "metadata": {},
   "outputs": [],
   "source": []
  },
  {
   "cell_type": "code",
   "execution_count": null,
   "id": "fe5349b1-1320-4536-a4a6-4c20b2fe58aa",
   "metadata": {},
   "outputs": [],
   "source": []
  },
  {
   "cell_type": "code",
   "execution_count": 6,
   "id": "577fce5a-d342-4488-9f22-c2a8f9781630",
   "metadata": {},
   "outputs": [],
   "source": [
    "\n",
    "\n",
    "# Copy of original data file\n",
    "# file_toBe_cleansed = df_2.copy()\n",
    "\n",
    "# df_2_2 = load_file(r'C:\\Users\\Cessn\\OneDrive\\Desktop\\sample_datasets\\city_of_baton_rouge\\cats\\Bus_Stop_COPY.xlsx')\n",
    "# print(\"FILE READY FOR CLEANSING\")\n",
    "# print(\"FILE LOADED: \\n\\n \", file_toBe_cleansed, \"\\n\")\n",
    "\n",
    "#df_2_2 = clean_column_names.clean_column_names(file_toBe_cleansed)\n",
    "# print(\"CLEANSED FILE: \\n\" ,df_2_2, \"\\n\")\n",
    "\n",
    "#df_2_2 = normalize_strings.normalize_strings(file_toBe_cleansed)\n",
    "# print(\"CLEANSED FILE w/ strings normalized: \\n\" ,df_2_2 ,\"\\n\")\n",
    "\n",
    "# #df_2_2 = fill_missing_values.fill_missing(file_toBe_cleansed)\n",
    "# print(\"CLEANSED FILE w/ missing values filled: \\n\" ,df_2_2 ,\"\\n\")\n",
    "\n",
    "# #df_2_2 = text_to_numeric.text_to_numeric(file_toBe_cleansed)\n",
    "# print(\"CLEANSED FILE w/ numbers converted to numeric values: \\n\" ,df_2_2 ,\"\\n\")\n",
    "\n",
    "# df_2_2 = drop_columns.drop_columns(file_toBe_cleansed)\n",
    "# print(\"CLEANSED FILE: COLUMNS DROPPED: \\n\" ,df_2_2 ,\"\\n\")\n",
    "\n",
    "# write_file_as_output.output_file(df_2_2)\n",
    "\n",
    "\n"
   ]
  },
  {
   "cell_type": "code",
   "execution_count": null,
   "id": "5224929c-484d-4de1-90ce-559427d0f966",
   "metadata": {},
   "outputs": [],
   "source": []
  },
  {
   "cell_type": "code",
   "execution_count": null,
   "id": "b01a0e0c-2c0f-4580-8aba-b60eab3d404d",
   "metadata": {},
   "outputs": [],
   "source": []
  },
  {
   "cell_type": "code",
   "execution_count": null,
   "id": "b73f4c8d-a142-4ff1-8fa1-c9f67d8f3169",
   "metadata": {},
   "outputs": [],
   "source": []
  },
  {
   "cell_type": "markdown",
   "id": "4fc4bd73-ecce-4f4d-b049-da28f61c8153",
   "metadata": {},
   "source": [
    "# 8 Most Common Data Cleansing Techniques:\n",
    "## 1. Dropping Columns:\n",
    "cols_to_drop = [\"column_names_to_be_dropped\"] > df_2_copy.drop(to_drop, axis = 1) NOTE: axis = 0 (rows) axis = 1 (columns)"
   ]
  },
  {
   "cell_type": "code",
   "execution_count": null,
   "id": "dcc19905-597f-4265-90f8-f9294965119b",
   "metadata": {},
   "outputs": [],
   "source": []
  },
  {
   "cell_type": "code",
   "execution_count": 7,
   "id": "81bd54ba-68ad-49ed-8b49-cbda15395af8",
   "metadata": {},
   "outputs": [],
   "source": [
    "# # Drop irrelevant/ unnecessary columns THIS BECOMES AN EXAMPLE!\n",
    "# cols_to_drop = [\"ROUTE NO. 1\",\n",
    "#                'ROUTE NO. 2','ROUTE NO. 3',\n",
    "#                'ROUTE NO. 4','ROUTE NO. 5','ROUTE NO. 6',\n",
    "#                 'ROUTE NO. 7','ROUTE NO. 8','ROUTE NO. 9','ROUTE NO. 10',\n",
    "#                \"GEOMETRY\",]\n",
    "\n",
    "# df_2_2 = df_2_2.drop(cols_to_drop, axis = 1)\n",
    "# output_file(df_2_2)"
   ]
  },
  {
   "cell_type": "code",
   "execution_count": null,
   "id": "1e4e57ce-7e6d-4c8d-99c7-3ea9b7ac9c79",
   "metadata": {},
   "outputs": [],
   "source": []
  },
  {
   "cell_type": "code",
   "execution_count": 8,
   "id": "7f4984ce-b459-4dde-916b-d39989afdccb",
   "metadata": {},
   "outputs": [],
   "source": [
    "# FUNCTION\n",
    "def drop_columns(df_2_2):\n",
    "    cols_to_drop = [\"ROUTE NO. 1\",\n",
    "               'ROUTE NO. 2','ROUTE NO. 3',\n",
    "               'ROUTE NO. 4','ROUTE NO. 5','ROUTE NO. 6',\n",
    "                'ROUTE NO. 7','ROUTE NO. 8','ROUTE NO. 9','ROUTE NO. 10',\n",
    "               \"GEOMETRY\",]\n",
    "    df_2_2 = df_2_2.drop(cols_to_drop, axis = 1)\n",
    "    return df_2_2"
   ]
  },
  {
   "cell_type": "code",
   "execution_count": 9,
   "id": "59ac4901-1e58-4f36-a9eb-66548bcaf17d",
   "metadata": {},
   "outputs": [],
   "source": [
    "# CALL DROP COLUMNS FUNCTION\n",
    "df_2_2 = drop_columns(df_2_2)"
   ]
  },
  {
   "cell_type": "code",
   "execution_count": null,
   "id": "3729dd6c-2afd-4618-8e24-228f1ce9b2f1",
   "metadata": {},
   "outputs": [],
   "source": []
  },
  {
   "cell_type": "code",
   "execution_count": null,
   "id": "5d296600-3bbd-48cf-a844-676545a73922",
   "metadata": {},
   "outputs": [],
   "source": []
  },
  {
   "cell_type": "code",
   "execution_count": null,
   "id": "e59123d2-68a3-4d91-8528-759b92084aff",
   "metadata": {},
   "outputs": [],
   "source": []
  },
  {
   "cell_type": "markdown",
   "id": "ab3a3858-502b-47f0-900e-686529f7eccb",
   "metadata": {},
   "source": [
    "# 2. Removing Duplicates\n",
    "## Info - https://www.w3schools.com/python/pandas/ref_df_2_duplicated.asp\n",
    "\n",
    "Syntax: <br>\n",
    "get duplicates returned in DataFrame Format: df_2_copy[df_2_copy.duplicated()] <br>\n",
    "get duplicates returned in Text Format: df_2_copy.duplicated()"
   ]
  },
  {
   "cell_type": "markdown",
   "id": "bc08cbc0-11be-417f-ab53-bab30e3e8fa1",
   "metadata": {},
   "source": [
    "# Sum total number of duplicate rows in DataFrame BEFORE dropping dupes\n",
    "# Write this to report for client later (When getting ready to add reporting capabilities) <br>\n",
    "\n",
    "\n",
    "## SYNTAX EXAMPLES: <br>\n",
    "#  Sum total number of duplicate rows in DataFrame BEFORE Dropping dupes (Reporting purposes): df_2_2.duplicated().sum()\n",
    "\n",
    "# Drop duplicates - NOTE use of inplace parameter will perform action on existing DataFrame. If inplace parameter is omitted drop_duplicates() function will return a new DataFrame object that then needs to be assigned: <br>\n",
    "df_2_2.drop_duplicates(inplace=True) - drops duplicates on original DataFrame \"inplace\"\n",
    "\n",
    "# Note use of assignment operator (=) - dropping duplicates in pandas returns a new DataFrame object cleansed of duplicate values UNLESS the inplace=True parameter is set. Notice abscence of inplace parameter in example below: <br>\n",
    "df_2_2 = df_2_2.drop_duplicates()\n"
   ]
  },
  {
   "cell_type": "code",
   "execution_count": 10,
   "id": "3e4a5a56-975d-4bdb-b1f2-de2489aced9b",
   "metadata": {},
   "outputs": [],
   "source": [
    "def drop_duplicates(df_2_2):\n",
    "    df_2_2 = df_2_2.drop_duplicates()\n",
    "\n",
    "    # Write cleansed file to output\n",
    "    output_file(df_2_2)\n",
    "    \n",
    "    return df_2_2"
   ]
  },
  {
   "cell_type": "code",
   "execution_count": 11,
   "id": "bbad8f1d-e180-4c8e-acec-cb4da866efd9",
   "metadata": {},
   "outputs": [
    {
     "name": "stdout",
     "output_type": "stream",
     "text": [
      "Cleaned data saved!\n"
     ]
    },
    {
     "data": {
      "text/html": [
       "<div>\n",
       "<style scoped>\n",
       "    .dataframe tbody tr th:only-of-type {\n",
       "        vertical-align: middle;\n",
       "    }\n",
       "\n",
       "    .dataframe tbody tr th {\n",
       "        vertical-align: top;\n",
       "    }\n",
       "\n",
       "    .dataframe thead th {\n",
       "        text-align: right;\n",
       "    }\n",
       "</style>\n",
       "<table border=\"1\" class=\"dataframe\">\n",
       "  <thead>\n",
       "    <tr style=\"text-align: right;\">\n",
       "      <th></th>\n",
       "      <th>STOP ID</th>\n",
       "      <th>NAME</th>\n",
       "      <th>BENCH</th>\n",
       "      <th>SHELTER</th>\n",
       "      <th>SHELTER TYPE</th>\n",
       "      <th>RIDERSHIP ON</th>\n",
       "      <th>RIDERSHIP OFF</th>\n",
       "      <th>RIDERSHIP TOTAL</th>\n",
       "      <th>STOP DIRECTION</th>\n",
       "      <th>ROUTE NO.</th>\n",
       "    </tr>\n",
       "  </thead>\n",
       "  <tbody>\n",
       "    <tr>\n",
       "      <th>0</th>\n",
       "      <td>1193.0</td>\n",
       "      <td>Mills @ Scenic Hwy</td>\n",
       "      <td>NB</td>\n",
       "      <td>NO</td>\n",
       "      <td>NaN</td>\n",
       "      <td>511.0</td>\n",
       "      <td>463.0</td>\n",
       "      <td>974.0</td>\n",
       "      <td>S</td>\n",
       "      <td>11.0</td>\n",
       "    </tr>\n",
       "    <tr>\n",
       "      <th>1</th>\n",
       "      <td>2824.0</td>\n",
       "      <td>Cedarcrest Ave @ Seracedar St</td>\n",
       "      <td>NaN</td>\n",
       "      <td>NO</td>\n",
       "      <td>NaN</td>\n",
       "      <td>NaN</td>\n",
       "      <td>NaN</td>\n",
       "      <td>NaN</td>\n",
       "      <td>S</td>\n",
       "      <td>58.0</td>\n",
       "    </tr>\n",
       "    <tr>\n",
       "      <th>2</th>\n",
       "      <td>1191.0</td>\n",
       "      <td>Woodpecker @ Merganzer</td>\n",
       "      <td>NaN</td>\n",
       "      <td>NO</td>\n",
       "      <td>NaN</td>\n",
       "      <td>479.0</td>\n",
       "      <td>153.0</td>\n",
       "      <td>632.0</td>\n",
       "      <td>S</td>\n",
       "      <td>11.0</td>\n",
       "    </tr>\n",
       "    <tr>\n",
       "      <th>3</th>\n",
       "      <td>1177.0</td>\n",
       "      <td>Blount @ Tallow</td>\n",
       "      <td>NaN</td>\n",
       "      <td>NO</td>\n",
       "      <td>NaN</td>\n",
       "      <td>319.0</td>\n",
       "      <td>460.0</td>\n",
       "      <td>779.0</td>\n",
       "      <td>W</td>\n",
       "      <td>11.0</td>\n",
       "    </tr>\n",
       "    <tr>\n",
       "      <th>4</th>\n",
       "      <td>1593.0</td>\n",
       "      <td>Acadian @ Oswego</td>\n",
       "      <td>NaN</td>\n",
       "      <td>NO</td>\n",
       "      <td>NaN</td>\n",
       "      <td>166.0</td>\n",
       "      <td>440.0</td>\n",
       "      <td>606.0</td>\n",
       "      <td>N</td>\n",
       "      <td>20.0</td>\n",
       "    </tr>\n",
       "    <tr>\n",
       "      <th>...</th>\n",
       "      <td>...</td>\n",
       "      <td>...</td>\n",
       "      <td>...</td>\n",
       "      <td>...</td>\n",
       "      <td>...</td>\n",
       "      <td>...</td>\n",
       "      <td>...</td>\n",
       "      <td>...</td>\n",
       "      <td>...</td>\n",
       "      <td>...</td>\n",
       "    </tr>\n",
       "    <tr>\n",
       "      <th>1694</th>\n",
       "      <td>1105.0</td>\n",
       "      <td>Scenic @ Scotlandville Library</td>\n",
       "      <td>NaN</td>\n",
       "      <td>YES</td>\n",
       "      <td>REFURBISHED</td>\n",
       "      <td>1814.0</td>\n",
       "      <td>790.0</td>\n",
       "      <td>2604.0</td>\n",
       "      <td>S</td>\n",
       "      <td>10.0</td>\n",
       "    </tr>\n",
       "    <tr>\n",
       "      <th>1695</th>\n",
       "      <td>1996.0</td>\n",
       "      <td>Florida @ Eugene</td>\n",
       "      <td>NaN</td>\n",
       "      <td>NO</td>\n",
       "      <td>NaN</td>\n",
       "      <td>824.0</td>\n",
       "      <td>3722.0</td>\n",
       "      <td>4546.0</td>\n",
       "      <td>W</td>\n",
       "      <td>44.0</td>\n",
       "    </tr>\n",
       "    <tr>\n",
       "      <th>1696</th>\n",
       "      <td>1514.0</td>\n",
       "      <td>East Airport @ Goodwood</td>\n",
       "      <td>NB</td>\n",
       "      <td>NO</td>\n",
       "      <td>NaN</td>\n",
       "      <td>123.0</td>\n",
       "      <td>117.0</td>\n",
       "      <td>240.0</td>\n",
       "      <td>W</td>\n",
       "      <td>18.0</td>\n",
       "    </tr>\n",
       "    <tr>\n",
       "      <th>1697</th>\n",
       "      <td>1386.0</td>\n",
       "      <td>Thomas H Delpit @ Taft</td>\n",
       "      <td>NaN</td>\n",
       "      <td>NO</td>\n",
       "      <td>NaN</td>\n",
       "      <td>163.0</td>\n",
       "      <td>41.0</td>\n",
       "      <td>204.0</td>\n",
       "      <td>S</td>\n",
       "      <td>14.0</td>\n",
       "    </tr>\n",
       "    <tr>\n",
       "      <th>1698</th>\n",
       "      <td>1720.0</td>\n",
       "      <td>Airway @ Leo Skating</td>\n",
       "      <td>NaN</td>\n",
       "      <td>NO</td>\n",
       "      <td>NaN</td>\n",
       "      <td>257.0</td>\n",
       "      <td>189.0</td>\n",
       "      <td>446.0</td>\n",
       "      <td>S</td>\n",
       "      <td>21.0</td>\n",
       "    </tr>\n",
       "  </tbody>\n",
       "</table>\n",
       "<p>1675 rows × 10 columns</p>\n",
       "</div>"
      ],
      "text/plain": [
       "      STOP ID                            NAME BENCH SHELTER SHELTER TYPE  \\\n",
       "0      1193.0              Mills @ Scenic Hwy    NB      NO          NaN   \n",
       "1      2824.0   Cedarcrest Ave @ Seracedar St   NaN      NO          NaN   \n",
       "2      1191.0          Woodpecker @ Merganzer   NaN      NO          NaN   \n",
       "3      1177.0                 Blount @ Tallow   NaN      NO          NaN   \n",
       "4      1593.0                Acadian @ Oswego   NaN      NO          NaN   \n",
       "...       ...                             ...   ...     ...          ...   \n",
       "1694   1105.0  Scenic @ Scotlandville Library   NaN     YES  REFURBISHED   \n",
       "1695   1996.0                Florida @ Eugene   NaN      NO          NaN   \n",
       "1696   1514.0         East Airport @ Goodwood    NB      NO          NaN   \n",
       "1697   1386.0          Thomas H Delpit @ Taft   NaN      NO          NaN   \n",
       "1698   1720.0            Airway @ Leo Skating   NaN      NO          NaN   \n",
       "\n",
       "      RIDERSHIP ON  RIDERSHIP OFF  RIDERSHIP TOTAL STOP DIRECTION  ROUTE NO.  \n",
       "0            511.0          463.0            974.0              S       11.0  \n",
       "1              NaN            NaN              NaN              S       58.0  \n",
       "2            479.0          153.0            632.0              S       11.0  \n",
       "3            319.0          460.0            779.0              W       11.0  \n",
       "4            166.0          440.0            606.0              N       20.0  \n",
       "...            ...            ...              ...            ...        ...  \n",
       "1694        1814.0          790.0           2604.0              S       10.0  \n",
       "1695         824.0         3722.0           4546.0              W       44.0  \n",
       "1696         123.0          117.0            240.0              W       18.0  \n",
       "1697         163.0           41.0            204.0              S       14.0  \n",
       "1698         257.0          189.0            446.0              S       21.0  \n",
       "\n",
       "[1675 rows x 10 columns]"
      ]
     },
     "execution_count": 11,
     "metadata": {},
     "output_type": "execute_result"
    }
   ],
   "source": [
    "# CALL DROP DUPLICATES FUNCTION\n",
    "df_2_2 = drop_duplicates(df_2_2)\n",
    "df_2_2"
   ]
  },
  {
   "cell_type": "markdown",
   "id": "391f3a6c-14e5-4007-915c-9098b3878d1c",
   "metadata": {},
   "source": [
    "# 3. Removing/ Dropping Irrelevant/ Unnecessary Rows\n",
    "Syntax Ex: <br>\n",
    "Check for Jobs located in State of Ohio in DataFrame: <br>\n",
    "df_2_copy['Location'].str.contains(\"Oh\", case=False) <br> <br>\n",
    "df_2_copy['solumn_Name'].str.contains(\"specified_String\", case=False) <br>\n"
   ]
  },
  {
   "cell_type": "code",
   "execution_count": null,
   "id": "7fd0aaa0-4fa2-4fc8-a66f-7aba07bdbc25",
   "metadata": {},
   "outputs": [],
   "source": []
  },
  {
   "cell_type": "markdown",
   "id": "fd352dc5-be3e-4716-80b2-53f50520b760",
   "metadata": {
    "jp-MarkdownHeadingCollapsed": true
   },
   "source": [
    "# 4. Removing Nulls and Blanks\n",
    "\n",
    "## https://www.w3schools.com/python/pandas/ref_df_2_dropna.asp <br>\n",
    "NOTE: df_2_dropna() method offers more flexibility in what is dropped. <br>\n",
    "## https://www.w3schools.com/python/pandas/ref_df_2_drop.asp <br>\n",
    "\n",
    "\n",
    "## Get count of na (Not a Number values) - df_2_copy.isna().sum <br>\n",
    "\n",
    "## Get count of null (null values) - df_2_copy.isnull().sum<br>\n",
    "## Get count of null / na values fpr specific column - df_2[\"column name\"].isna() / df_2['column name'].isnull()<br>\n",
    "## For multiple columns pass a list of column names in - df_2.[[\"list_of_column_names\"]].isna()\n"
   ]
  },
  {
   "cell_type": "code",
   "execution_count": 11,
   "id": "53918c25-b5bb-4249-b9fa-e4383d6fe145",
   "metadata": {},
   "outputs": [],
   "source": [
    "# Example: Drop rows where all values are null/blank\n",
    "df_2_2.dropna(axis=0, how='all', inplace=True)"
   ]
  },
  {
   "cell_type": "code",
   "execution_count": 12,
   "id": "0abcac82-fdeb-4a3e-a553-bad74ce345ee",
   "metadata": {},
   "outputs": [
    {
     "name": "stdout",
     "output_type": "stream",
     "text": [
      "Cleaned data saved!\n"
     ]
    }
   ],
   "source": [
    "output_file(df_2_2)"
   ]
  },
  {
   "cell_type": "code",
   "execution_count": null,
   "id": "af53cb41-97de-4d13-b108-e9ee4df60d5c",
   "metadata": {},
   "outputs": [],
   "source": []
  },
  {
   "cell_type": "code",
   "execution_count": null,
   "id": "fbcc2a01-9a28-46a2-bf60-caaea0174402",
   "metadata": {},
   "outputs": [],
   "source": []
  },
  {
   "cell_type": "code",
   "execution_count": null,
   "id": "e7455fe8-5b25-4168-8f64-8544d512b704",
   "metadata": {},
   "outputs": [],
   "source": []
  },
  {
   "cell_type": "code",
   "execution_count": null,
   "id": "50787e70-1995-4334-aa0b-40a47d9ed0ed",
   "metadata": {},
   "outputs": [],
   "source": []
  },
  {
   "cell_type": "markdown",
   "id": "f55de5be-9e72-498b-96e3-d4a6ff839a09",
   "metadata": {},
   "source": [
    "# 4B - Filling Nulls / Blanks\n",
    "## https://www.w3schools.com/python/pandas/ref_df_2_fillna.asp"
   ]
  },
  {
   "cell_type": "code",
   "execution_count": 13,
   "id": "ed14993b-bf4a-4d4d-9e97-91c0eb863a5e",
   "metadata": {},
   "outputs": [
    {
     "name": "stderr",
     "output_type": "stream",
     "text": [
      "C:\\Users\\Cessn\\AppData\\Local\\Temp\\ipykernel_16712\\130094186.py:7: FutureWarning: A value is trying to be set on a copy of a DataFrame or Series through chained assignment using an inplace method.\n",
      "The behavior will change in pandas 3.0. This inplace method will never work because the intermediate object on which we are setting values always behaves as a copy.\n",
      "\n",
      "For example, when doing 'df[col].method(value, inplace=True)', try using 'df.method({col: value}, inplace=True)' or df[col] = df[col].method(value) instead, to perform the operation inplace on the original object.\n",
      "\n",
      "\n",
      "  cleansed_file[column].fillna(0, inplace=True)\n",
      "C:\\Users\\Cessn\\AppData\\Local\\Temp\\ipykernel_16712\\130094186.py:6: FutureWarning: A value is trying to be set on a copy of a DataFrame or Series through chained assignment using an inplace method.\n",
      "The behavior will change in pandas 3.0. This inplace method will never work because the intermediate object on which we are setting values always behaves as a copy.\n",
      "\n",
      "For example, when doing 'df[col].method(value, inplace=True)', try using 'df.method({col: value}, inplace=True)' or df[col] = df[col].method(value) instead, to perform the operation inplace on the original object.\n",
      "\n",
      "\n",
      "  cleansed_file[column].fillna(\"N/A\", inplace=True)\n"
     ]
    }
   ],
   "source": [
    "# Cast value as appropriate data type before assignment\n",
    "# df_2_2.loc[0, ['RIDERSHIP ON', 'RIDERSHIP OFF', 'RIDERSHIP TOTAL']] = float(0)\n",
    "\n",
    "for column in df_2_2:\n",
    "    if df_2_2[column].dtype == 'object':\n",
    "        df_2_2[column].fillna(\"N/A\", inplace=True)\n",
    "    df_2_2[column].fillna(0, inplace=True)"
   ]
  },
  {
   "cell_type": "code",
   "execution_count": null,
   "id": "56ee49e8-2cdb-44c5-b4d5-aa062d508ddf",
   "metadata": {},
   "outputs": [],
   "source": []
  },
  {
   "cell_type": "code",
   "execution_count": null,
   "id": "84fd0f3f-3aef-404d-ab82-d91c85efee31",
   "metadata": {},
   "outputs": [],
   "source": []
  },
  {
   "cell_type": "code",
   "execution_count": 14,
   "id": "2ecf9db6-39b1-43bc-964f-74ac29b7a5fb",
   "metadata": {},
   "outputs": [
    {
     "name": "stdout",
     "output_type": "stream",
     "text": [
      "Cleaned data saved!\n"
     ]
    }
   ],
   "source": [
    "output_file(df_2_2)"
   ]
  },
  {
   "cell_type": "code",
   "execution_count": null,
   "id": "60aef386-f7b6-4e97-b1d8-fe9bf1818b50",
   "metadata": {},
   "outputs": [],
   "source": []
  },
  {
   "cell_type": "markdown",
   "id": "05a1e790-b6e2-4c42-9678-ae9ac518c706",
   "metadata": {},
   "source": [
    "# 5 - Standardizing Values (6:26)\n",
    "\n",
    "# SYNTAX Examples: <br>\n",
    "# NOTE use df_2.loc as shown below to get specific column info: <br>\n",
    "df_2_copy.loc[row_indexer, [\"column_name\"]] <br>\n",
    "df_2_copy.loc[0:, [\"column_name\"]]"
   ]
  },
  {
   "cell_type": "code",
   "execution_count": null,
   "id": "0ca9ae89-c501-4bee-9d54-56ef8f88fb4f",
   "metadata": {},
   "outputs": [],
   "source": []
  },
  {
   "cell_type": "code",
   "execution_count": null,
   "id": "bd7340b1-1867-43fa-8048-17211fbbd969",
   "metadata": {},
   "outputs": [],
   "source": []
  },
  {
   "cell_type": "code",
   "execution_count": 15,
   "id": "c890b3eb-e8a4-4c0d-8fd4-d39e7fb06490",
   "metadata": {},
   "outputs": [],
   "source": [
    "# NOTE use df_2.loc as shown below to get specific column info\n",
    "# df_2_copy.loc[0:, [\"Job Title\"]]"
   ]
  },
  {
   "cell_type": "code",
   "execution_count": 16,
   "id": "30af21e8-f098-423d-8543-b6b73852bfdb",
   "metadata": {},
   "outputs": [],
   "source": [
    "# Return all elements in Job Title column where Job Title string contains a specific word\n",
    "# df_2_copy[df_2_copy[\"Job Title\"].str.contains('scientist', case=False)]\n"
   ]
  },
  {
   "cell_type": "code",
   "execution_count": 17,
   "id": "6ae8fd55-1b4a-4b78-87b6-c7411e312e1e",
   "metadata": {},
   "outputs": [],
   "source": [
    "# Standardize all strings containing word scientist to read \"Data Scientist\"\n",
    "# df_2_copy.loc[df_2_copy[\"Job Title\"].str.contains(\"scientist\", case=False), \"Job Title\"] = \"Data Scientist\""
   ]
  },
  {
   "cell_type": "code",
   "execution_count": 18,
   "id": "445b9ffb-ce7a-4422-933d-73b738f89745",
   "metadata": {},
   "outputs": [],
   "source": [
    "# Check to ensure fields in Job Title Column have been updated\n",
    "# df_2_copy.loc[:, \"Job Title\"]"
   ]
  },
  {
   "cell_type": "code",
   "execution_count": 19,
   "id": "9d4efe05-d01e-4825-b416-f63bef8a589e",
   "metadata": {},
   "outputs": [],
   "source": [
    "# Capture /show all strings containing the letter k or K in column Salary Estimate \n",
    "# df_2_copy.loc[df_2_copy[\"Salary Estimate\"].str.contains(\"k\", case=False), \"Salary Estimate\"]"
   ]
  },
  {
   "cell_type": "code",
   "execution_count": 20,
   "id": "7a5aa093-1376-428a-ad03-08119661f659",
   "metadata": {},
   "outputs": [],
   "source": [
    "# Replace letter \"k\" Salary Estimate column with 000 \n",
    "# Final value: 181K - 182K > 181000 - 182000\n",
    "\n",
    "# Use dictionay object as per below syntax examples:\n",
    "\n",
    "# replace_dict ={\"\\$\": \"\", \n",
    "#                \"K\": \"000\",\n",
    "#               }\n",
    "# df_2_copy[\"Salary Estimate\"] = df_2_copy['Salary Estimate'].replace(replace_dict, regex=True)"
   ]
  },
  {
   "cell_type": "code",
   "execution_count": 21,
   "id": "0cf78f8e-c331-4f19-8c69-da24f28bee2a",
   "metadata": {},
   "outputs": [],
   "source": [
    "# df_2_copy[\"Salary Estimate\"]"
   ]
  },
  {
   "cell_type": "markdown",
   "id": "a0f3b286-e232-471e-a6b8-51cb34c11797",
   "metadata": {},
   "source": []
  },
  {
   "cell_type": "markdown",
   "id": "37db6c23-b30b-4f5a-af84-6c8192c9ea40",
   "metadata": {},
   "source": [
    "# 6 - Splitting Columns 8:16\n",
    "## Documentation: https://pandas.pydata.org/docs/reference/api/pandas.Series.str.split.html <br>\n",
    "## Youtube: https://youtu.be/FbFQH_RNMu0?t=496\n",
    "\n",
    "## Example Code: https://docs.google.com/document/d/15Ajf-MKtOWItDITu-kukbEeshtCyMC86htXgTiMZJOA/edit?tab=t.0\n",
    "\n",
    "## SYNTAX EXAMPLES:\n"
   ]
  },
  {
   "cell_type": "code",
   "execution_count": null,
   "id": "de839c6d-b340-4087-a26b-7b76f47cb3a5",
   "metadata": {},
   "outputs": [],
   "source": []
  },
  {
   "cell_type": "markdown",
   "id": "79fa06c6-44df-43bb-8fea-b4128395004c",
   "metadata": {},
   "source": [
    "# 7 - Convert Datatypes <br>\n",
    "## Youtube: https://youtu.be/FbFQH_RNMu0?t=613 <br>\n",
    "## Code Examples: https://docs.google.com/document/d/1HiZYEBH_5RaNjvvVtOodOFB0z-ji_4kx-kF9pv1IE-U/edit?tab=t.0 <br>\n",
    "\n",
    "## Convert datatype: multiple columns to datatype int: <br>\n",
    "convert_dtypes ={'colName_1': 'int',\n",
    "                'colName_2': 'int',} <br>\n",
    "df_2 = df_2.astype(convert_dtypes) <br>\n",
    "\n",
    "# CONVERT datatype of single column <br>\n",
    "df_2['colName_1'] = df_2['colName_1'].astype(\"specify_datatype\")"
   ]
  },
  {
   "cell_type": "code",
   "execution_count": null,
   "id": "9dcd08a3-4021-48fd-a17c-cc64c7b108a3",
   "metadata": {},
   "outputs": [],
   "source": []
  },
  {
   "cell_type": "code",
   "execution_count": null,
   "id": "465b1582-ac4c-4e7f-9e99-de68a240111e",
   "metadata": {},
   "outputs": [],
   "source": []
  },
  {
   "cell_type": "code",
   "execution_count": 24,
   "id": "2b1ca15d-f013-462d-a08d-4e0e1a4199a7",
   "metadata": {},
   "outputs": [],
   "source": [
    "# CONVERT RIDERSHIP columns to data type INT from datatype FLOAT:\n",
    "convert_dtypes ={'RIDERSHIP ON': 'int',\n",
    "                'RIDERSHIP OFF': 'int',\n",
    "                'RIDERSHIP TOTAL': 'int',}\n",
    "df_2_2 = df_2_2.astype(convert_dtypes)"
   ]
  },
  {
   "cell_type": "code",
   "execution_count": null,
   "id": "6adedd8c-5ba8-48bf-baa2-2614b0bd65f7",
   "metadata": {},
   "outputs": [],
   "source": []
  },
  {
   "cell_type": "code",
   "execution_count": 25,
   "id": "7093e74d-51a9-416b-8424-d7b4ebf87b2c",
   "metadata": {},
   "outputs": [
    {
     "name": "stdout",
     "output_type": "stream",
     "text": [
      "Cleaned data saved!\n"
     ]
    }
   ],
   "source": [
    "output_file(df_2_2)"
   ]
  },
  {
   "cell_type": "code",
   "execution_count": null,
   "id": "c527fd35-b0a7-4f62-9490-e87e13380ae1",
   "metadata": {},
   "outputs": [],
   "source": []
  },
  {
   "cell_type": "code",
   "execution_count": null,
   "id": "487abd88-242a-46bc-95c4-da1112e81e94",
   "metadata": {},
   "outputs": [],
   "source": []
  },
  {
   "cell_type": "markdown",
   "id": "6d51c852-07bc-41bd-851b-32bcf43927b2",
   "metadata": {},
   "source": [
    "# 8 - Stripping Strings <br>\n",
    "## Youtube - https://youtu.be/FbFQH_RNMu0?t=648 <br>\n",
    "\n",
    "## SYNTAX EXAMPLES\n",
    "## Cleaning special / non-word characters from end of string: <br>\n",
    "df_2 = df_2loc[:, 'column_Name'].str[:-4] - NOTE this cleans up to the last 4 characters of the string"
   ]
  },
  {
   "cell_type": "code",
   "execution_count": null,
   "id": "213fdd43-4f08-4991-a044-cce69b6f70ac",
   "metadata": {},
   "outputs": [],
   "source": []
  },
  {
   "cell_type": "code",
   "execution_count": null,
   "id": "d52840eb-ad72-4196-9c6a-0c714f91972e",
   "metadata": {},
   "outputs": [],
   "source": []
  },
  {
   "cell_type": "code",
   "execution_count": 9,
   "id": "09d9b4cd-9eec-41da-a6ec-166d5a66f448",
   "metadata": {},
   "outputs": [
    {
     "name": "stdout",
     "output_type": "stream",
     "text": [
      "<class 'pandas.core.frame.DataFrame'>\n",
      "RangeIndex: 3912 entries, 0 to 3911\n",
      "Data columns (total 17 columns):\n",
      " #   Column             Non-Null Count  Dtype  \n",
      "---  ------             --------------  -----  \n",
      " 0   Unnamed: 0         3912 non-null   int64  \n",
      " 1   index              3912 non-null   int64  \n",
      " 2   Job Title          3911 non-null   object \n",
      " 3   Salary Estimate    3912 non-null   object \n",
      " 4   Job Description    3911 non-null   object \n",
      " 5   Rating             3912 non-null   float64\n",
      " 6   Company Name       3912 non-null   object \n",
      " 7   Location           3912 non-null   object \n",
      " 8   Headquarters       3911 non-null   object \n",
      " 9   Size               3912 non-null   object \n",
      " 10  Founded            3912 non-null   int64  \n",
      " 11  Type of ownership  3911 non-null   object \n",
      " 12  Industry           3910 non-null   object \n",
      " 13  Sector             3912 non-null   object \n",
      " 14  Revenue            3912 non-null   object \n",
      " 15  Competitors        3909 non-null   object \n",
      " 16  Easy Apply         3912 non-null   object \n",
      "dtypes: float64(1), int64(3), object(13)\n",
      "memory usage: 519.7+ KB\n"
     ]
    }
   ],
   "source": [
    "test_df_2 = pd.read_csv(r'C:\\Users\\Cessn\\OneDrive\\Desktop\\sample_datasets\\data_scientist\\csv_files\\DataScientist2.csv')\n",
    "test_df_2.info()"
   ]
  },
  {
   "cell_type": "code",
   "execution_count": null,
   "id": "c600cc63-a511-466d-8de5-49baaa40fe10",
   "metadata": {},
   "outputs": [],
   "source": []
  },
  {
   "cell_type": "code",
   "execution_count": 16,
   "id": "7fc35a4b-4359-414b-8dd8-6be869832771",
   "metadata": {},
   "outputs": [
    {
     "name": "stdout",
     "output_type": "stream",
     "text": [
      "False\n",
      "False\n",
      "False\n",
      "False\n",
      "False\n",
      "False\n",
      "True\n",
      "False\n",
      "False\n",
      "False\n",
      "False\n",
      "False\n",
      "False\n",
      "False\n",
      "False\n",
      "False\n",
      "False\n"
     ]
    }
   ],
   "source": [
    "for colName in test_df_2.columns:\n",
    "    if colName == \"Company Name\":\n",
    "        print(True)\n",
    "    else:\n",
    "        print(not True)"
   ]
  },
  {
   "cell_type": "code",
   "execution_count": null,
   "id": "aec9a3e0-09f1-43d3-b9b6-51d1f17ce9b1",
   "metadata": {},
   "outputs": [],
   "source": []
  },
  {
   "cell_type": "code",
   "execution_count": null,
   "id": "1bf82c1f-ccad-4b23-8623-387b378d604a",
   "metadata": {},
   "outputs": [],
   "source": []
  },
  {
   "cell_type": "code",
   "execution_count": null,
   "id": "ded2ad03-f71c-4555-a4a6-e32e17191aca",
   "metadata": {},
   "outputs": [],
   "source": []
  },
  {
   "cell_type": "code",
   "execution_count": null,
   "id": "c3ad31d6-7f6f-4068-80ee-78c18a45ebee",
   "metadata": {},
   "outputs": [],
   "source": []
  },
  {
   "cell_type": "code",
   "execution_count": null,
   "id": "d324256d-4bdf-4a99-b98f-fb1f74ef03f7",
   "metadata": {},
   "outputs": [],
   "source": []
  },
  {
   "cell_type": "code",
   "execution_count": null,
   "id": "b4c0a0c4-de2f-4446-bd5f-a0f72dbd464b",
   "metadata": {},
   "outputs": [],
   "source": []
  },
  {
   "cell_type": "code",
   "execution_count": null,
   "id": "de9e37d7-a0b8-4e24-b154-e71ccc3fd14e",
   "metadata": {},
   "outputs": [],
   "source": []
  },
  {
   "cell_type": "code",
   "execution_count": null,
   "id": "a4410c84-273b-4980-b559-2c73fc265791",
   "metadata": {},
   "outputs": [],
   "source": []
  },
  {
   "cell_type": "code",
   "execution_count": null,
   "id": "d0353f31-1143-44a0-a2a4-a497f1b2ce31",
   "metadata": {},
   "outputs": [],
   "source": []
  },
  {
   "cell_type": "code",
   "execution_count": null,
   "id": "ceed427e-7f7b-46f6-8012-88dbc458bee6",
   "metadata": {},
   "outputs": [],
   "source": []
  },
  {
   "cell_type": "code",
   "execution_count": null,
   "id": "cf563fbb-5426-4d6e-9ca7-9a632823bb1b",
   "metadata": {},
   "outputs": [],
   "source": []
  }
 ],
 "metadata": {
  "kernelspec": {
   "display_name": "Python 3 (ipykernel)",
   "language": "python",
   "name": "python3"
  },
  "language_info": {
   "codemirror_mode": {
    "name": "ipython",
    "version": 3
   },
   "file_extension": ".py",
   "mimetype": "text/x-python",
   "name": "python",
   "nbconvert_exporter": "python",
   "pygments_lexer": "ipython3",
   "version": "3.13.2"
  }
 },
 "nbformat": 4,
 "nbformat_minor": 5
}
