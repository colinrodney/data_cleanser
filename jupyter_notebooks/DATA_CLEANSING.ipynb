{
 "cells": [
  {
   "cell_type": "code",
   "execution_count": 1,
   "id": "577fce5a-d342-4488-9f22-c2a8f9781630",
   "metadata": {},
   "outputs": [
    {
     "name": "stdout",
     "output_type": "stream",
     "text": [
      "Requirement already satisfied: import-ipynb in c:\\users\\cessn\\miniconda3\\lib\\site-packages (0.2)\n",
      "Requirement already satisfied: IPython in c:\\users\\cessn\\miniconda3\\lib\\site-packages (from import-ipynb) (9.2.0)\n",
      "Requirement already satisfied: nbformat in c:\\users\\cessn\\miniconda3\\lib\\site-packages (from import-ipynb) (5.10.4)\n",
      "Requirement already satisfied: colorama in c:\\users\\cessn\\miniconda3\\lib\\site-packages (from IPython->import-ipynb) (0.4.6)\n",
      "Requirement already satisfied: decorator in c:\\users\\cessn\\miniconda3\\lib\\site-packages (from IPython->import-ipynb) (5.2.1)\n",
      "Requirement already satisfied: ipython-pygments-lexers in c:\\users\\cessn\\miniconda3\\lib\\site-packages (from IPython->import-ipynb) (1.1.1)\n",
      "Requirement already satisfied: jedi>=0.16 in c:\\users\\cessn\\miniconda3\\lib\\site-packages (from IPython->import-ipynb) (0.19.2)\n",
      "Requirement already satisfied: matplotlib-inline in c:\\users\\cessn\\miniconda3\\lib\\site-packages (from IPython->import-ipynb) (0.1.7)\n",
      "Requirement already satisfied: prompt_toolkit<3.1.0,>=3.0.41 in c:\\users\\cessn\\miniconda3\\lib\\site-packages (from IPython->import-ipynb) (3.0.51)\n",
      "Requirement already satisfied: pygments>=2.4.0 in c:\\users\\cessn\\miniconda3\\lib\\site-packages (from IPython->import-ipynb) (2.19.1)\n",
      "Requirement already satisfied: stack_data in c:\\users\\cessn\\miniconda3\\lib\\site-packages (from IPython->import-ipynb) (0.6.3)\n",
      "Requirement already satisfied: traitlets>=5.13.0 in c:\\users\\cessn\\miniconda3\\lib\\site-packages (from IPython->import-ipynb) (5.14.3)\n",
      "Requirement already satisfied: fastjsonschema>=2.15 in c:\\users\\cessn\\miniconda3\\lib\\site-packages (from nbformat->import-ipynb) (2.21.1)\n",
      "Requirement already satisfied: jsonschema>=2.6 in c:\\users\\cessn\\miniconda3\\lib\\site-packages (from nbformat->import-ipynb) (4.23.0)\n",
      "Requirement already satisfied: jupyter-core!=5.0.*,>=4.12 in c:\\users\\cessn\\miniconda3\\lib\\site-packages (from nbformat->import-ipynb) (5.7.2)\n",
      "Requirement already satisfied: parso<0.9.0,>=0.8.4 in c:\\users\\cessn\\miniconda3\\lib\\site-packages (from jedi>=0.16->IPython->import-ipynb) (0.8.4)\n",
      "Requirement already satisfied: attrs>=22.2.0 in c:\\users\\cessn\\miniconda3\\lib\\site-packages (from jsonschema>=2.6->nbformat->import-ipynb) (25.3.0)\n",
      "Requirement already satisfied: jsonschema-specifications>=2023.03.6 in c:\\users\\cessn\\miniconda3\\lib\\site-packages (from jsonschema>=2.6->nbformat->import-ipynb) (2025.4.1)\n",
      "Requirement already satisfied: referencing>=0.28.4 in c:\\users\\cessn\\miniconda3\\lib\\site-packages (from jsonschema>=2.6->nbformat->import-ipynb) (0.36.2)\n",
      "Requirement already satisfied: rpds-py>=0.7.1 in c:\\users\\cessn\\miniconda3\\lib\\site-packages (from jsonschema>=2.6->nbformat->import-ipynb) (0.25.0)\n",
      "Requirement already satisfied: platformdirs>=2.5 in c:\\users\\cessn\\miniconda3\\lib\\site-packages (from jupyter-core!=5.0.*,>=4.12->nbformat->import-ipynb) (4.3.7)\n",
      "Requirement already satisfied: pywin32>=300 in c:\\users\\cessn\\miniconda3\\lib\\site-packages (from jupyter-core!=5.0.*,>=4.12->nbformat->import-ipynb) (310)\n",
      "Requirement already satisfied: wcwidth in c:\\users\\cessn\\miniconda3\\lib\\site-packages (from prompt_toolkit<3.1.0,>=3.0.41->IPython->import-ipynb) (0.2.13)\n",
      "Requirement already satisfied: executing>=1.2.0 in c:\\users\\cessn\\miniconda3\\lib\\site-packages (from stack_data->IPython->import-ipynb) (2.2.0)\n",
      "Requirement already satisfied: asttokens>=2.1.0 in c:\\users\\cessn\\miniconda3\\lib\\site-packages (from stack_data->IPython->import-ipynb) (3.0.0)\n",
      "Requirement already satisfied: pure-eval in c:\\users\\cessn\\miniconda3\\lib\\site-packages (from stack_data->IPython->import-ipynb) (0.2.3)\n",
      "Note: you may need to restart the kernel to use updated packages.\n",
      "FILE LOADED: \n",
      "\n",
      "  \n",
      "\n"
     ]
    }
   ],
   "source": [
    "%pip install import-ipynb\n",
    "import import_ipynb\n",
    "import load_data\n",
    "import clean_column_names\n",
    "# import write_file_as_output\n",
    "# import normalize_strings\n",
    "# import fill_missing_values\n",
    "# import text_to_numeric\n",
    "# import drop_columns\n",
    "import pandas as pd\n",
    "\n",
    "\n",
    "df = load_data.load_file(r'C:\\Users\\Cessn\\OneDrive\\Desktop\\sample_datasets\\city_of_baton_rouge\\cats\\Bus_Stop_COPY.xlsx')\n",
    "print(\"FILE LOADED: \\n\\n \", \"\\n\")\n",
    "\n",
    "# Copy of original data file\n",
    "file_toBe_cleansed = df.copy()\n",
    "\n",
    "# file_toBe_cleansed = load_data.load_file(r'C:\\Users\\Cessn\\OneDrive\\Desktop\\sample_datasets\\concert_tours_by_women\\concert_tours_by_women_ORIGINAL.csv')\n",
    "# print(\"FILE LOADED: \\n\\n \", file_toBe_cleansed, \"\\n\")\n",
    "\n",
    "#cleansed_file = clean_column_names.clean_column_names(file_toBe_cleansed)\n",
    "# print(\"CLEANSED FILE: \\n\" ,cleansed_file, \"\\n\")\n",
    "\n",
    "#cleansed_file = normalize_strings.normalize_strings(file_toBe_cleansed)\n",
    "# print(\"CLEANSED FILE w/ strings normalized: \\n\" ,cleansed_file ,\"\\n\")\n",
    "\n",
    "# #cleansed_file = fill_missing_values.fill_missing(file_toBe_cleansed)\n",
    "# print(\"CLEANSED FILE w/ missing values filled: \\n\" ,cleansed_file ,\"\\n\")\n",
    "\n",
    "# #cleansed_file = text_to_numeric.text_to_numeric(file_toBe_cleansed)\n",
    "# print(\"CLEANSED FILE w/ numbers converted to numeric values: \\n\" ,cleansed_file ,\"\\n\")\n",
    "\n",
    "# cleansed_file = drop_columns.drop_columns(file_toBe_cleansed)\n",
    "# print(\"CLEANSED FILE: COLUMNS DROPPED: \\n\" ,cleansed_file ,\"\\n\")\n",
    "\n",
    "# write_file_as_output.output_file(cleansed_file)\n",
    "\n",
    "\n"
   ]
  },
  {
   "cell_type": "code",
   "execution_count": 2,
   "id": "8560ba11-1fa5-473b-8dad-f88ef3567b3c",
   "metadata": {},
   "outputs": [],
   "source": [
    "# WRITE CLEANSED FILE AS OUTPUT\n",
    "def output_file(df):\n",
    "    # MAKE SURE TO LIST FULL PATH TO OUTPUT FILE OTHERWISE FILL WILL BE WRITTEIN IN DIRECTORY IN WHICH THIS FILE RESIDES!\n",
    "    df.to_csv(r'C:\\Users\\Cessn\\OneDrive\\Desktop\\sample_datasets\\city_of_baton_rouge\\cats\\Bus_Stop_COPY.xlsx')\n",
    "    print(f\"Cleaned data saved!\")"
   ]
  },
  {
   "cell_type": "markdown",
   "id": "4fc4bd73-ecce-4f4d-b049-da28f61c8153",
   "metadata": {},
   "source": [
    "# 8 Most Common Data Cleansing Techniques:\n",
    "## 1. Dropping Columns:\n",
    "cols_to_drop = [\"column_names_to_be_dropped\"] > df_copy.drop(to_drop, axis = 1) NOTE: axis = 0 (rows) axis = 1 (columns)"
   ]
  },
  {
   "cell_type": "code",
   "execution_count": null,
   "id": "dcc19905-597f-4265-90f8-f9294965119b",
   "metadata": {},
   "outputs": [],
   "source": []
  },
  {
   "cell_type": "code",
   "execution_count": 3,
   "id": "81bd54ba-68ad-49ed-8b49-cbda15395af8",
   "metadata": {},
   "outputs": [
    {
     "name": "stdout",
     "output_type": "stream",
     "text": [
      "Cleaned data saved!\n"
     ]
    }
   ],
   "source": [
    "# Drop irrelevant/ unnecessary columns\n",
    "cols_to_drop = [\"ROUTE NO. 1\",\n",
    "               'ROUTE NO. 2','ROUTE NO. 3',\n",
    "               'ROUTE NO. 4','ROUTE NO. 5','ROUTE NO. 6',\n",
    "                'ROUTE NO. 7','ROUTE NO. 8','ROUTE NO. 9','ROUTE NO. 10',]\n",
    "\n",
    "file_toBe_cleansed = file_toBe_cleansed.drop(cols_to_drop, axis = 1)\n",
    "output_file(file_toBe_cleansed)"
   ]
  },
  {
   "cell_type": "code",
   "execution_count": null,
   "id": "3729dd6c-2afd-4618-8e24-228f1ce9b2f1",
   "metadata": {},
   "outputs": [],
   "source": []
  },
  {
   "cell_type": "markdown",
   "id": "ab3a3858-502b-47f0-900e-686529f7eccb",
   "metadata": {},
   "source": [
    "# 2. Removing Duplicates\n",
    "## Info - https://www.w3schools.com/python/pandas/ref_df_duplicated.asp\n",
    "\n",
    "Syntax: <br>\n",
    "get duplicates returned in DataFrame Format: df_copy[df_copy.duplicated()] <br>\n",
    "get duplicates returned in Text Format: df_copy.duplicated()"
   ]
  },
  {
   "cell_type": "raw",
   "id": "30b66161-b5ed-41b5-92e6-746651767a0c",
   "metadata": {},
   "source": []
  },
  {
   "cell_type": "markdown",
   "id": "391f3a6c-14e5-4007-915c-9098b3878d1c",
   "metadata": {},
   "source": [
    "# 3. Removing/ Dropping Irrelevant/ Unnecessary Rows\n",
    "Syntax Ex: <br>\n",
    "Check for Jobs located in State of Ohio in DataFrame: <br>\n",
    "df_copy['Location'].str.contains(\"Oh\", case=False) <br> <br>\n",
    "df_copy['solumn_Name'].str.contains(\"specified_String\", case=False) <br>\n"
   ]
  },
  {
   "cell_type": "code",
   "execution_count": null,
   "id": "7fd0aaa0-4fa2-4fc8-a66f-7aba07bdbc25",
   "metadata": {},
   "outputs": [],
   "source": []
  },
  {
   "cell_type": "markdown",
   "id": "fd352dc5-be3e-4716-80b2-53f50520b760",
   "metadata": {},
   "source": [
    "## 4. Removing Nulls and Blanks\n",
    "# Get count of na (Not a Number values) - df_copy.isna().sum\n",
    "\n",
    "# Get count of null (null values) - df_copy.isnull().sum\n",
    "# Get count of null / na values fpr specific column - df[\"column name\"].isna() / df['column name'].isnull()\n",
    "# For multiple columns pass a list of column names in - df.[[\"list_of_column_names\"]].isna()\n"
   ]
  },
  {
   "cell_type": "code",
   "execution_count": null,
   "id": "60aef386-f7b6-4e97-b1d8-fe9bf1818b50",
   "metadata": {},
   "outputs": [],
   "source": []
  },
  {
   "cell_type": "markdown",
   "id": "05a1e790-b6e2-4c42-9678-ae9ac518c706",
   "metadata": {},
   "source": [
    "# 5 - Standardizing Values (6:26)\n",
    "\n",
    "# SYNTAX Examples: <br>\n",
    "# NOTE use df.loc as shown below to get specific column info: <br>\n",
    "df_copy.loc[row_indexer, [\"column_name\"]] <br>\n",
    "df_copy.loc[0:, [\"column_name\"]]"
   ]
  },
  {
   "cell_type": "code",
   "execution_count": null,
   "id": "0ca9ae89-c501-4bee-9d54-56ef8f88fb4f",
   "metadata": {},
   "outputs": [],
   "source": []
  },
  {
   "cell_type": "code",
   "execution_count": null,
   "id": "bd7340b1-1867-43fa-8048-17211fbbd969",
   "metadata": {},
   "outputs": [],
   "source": []
  },
  {
   "cell_type": "code",
   "execution_count": null,
   "id": "c890b3eb-e8a4-4c0d-8fd4-d39e7fb06490",
   "metadata": {},
   "outputs": [],
   "source": [
    "# NOTE use df.loc as shown below to get specific column info\n",
    "# df_copy.loc[0:, [\"Job Title\"]]"
   ]
  },
  {
   "cell_type": "code",
   "execution_count": null,
   "id": "30af21e8-f098-423d-8543-b6b73852bfdb",
   "metadata": {},
   "outputs": [],
   "source": [
    "# Return all elements in Job Title column where Job Title string contains a specific word\n",
    "# df_copy[df_copy[\"Job Title\"].str.contains('scientist', case=False)]\n"
   ]
  },
  {
   "cell_type": "code",
   "execution_count": null,
   "id": "6ae8fd55-1b4a-4b78-87b6-c7411e312e1e",
   "metadata": {},
   "outputs": [],
   "source": [
    "# Standardize all strings containing word scientist to read \"Data Scientist\"\n",
    "# df_copy.loc[df_copy[\"Job Title\"].str.contains(\"scientist\", case=False), \"Job Title\"] = \"Data Scientist\""
   ]
  },
  {
   "cell_type": "code",
   "execution_count": null,
   "id": "445b9ffb-ce7a-4422-933d-73b738f89745",
   "metadata": {},
   "outputs": [],
   "source": [
    "# Check to ensure fields in Job Title Column have been updated\n",
    "# df_copy.loc[:, \"Job Title\"]"
   ]
  },
  {
   "cell_type": "code",
   "execution_count": null,
   "id": "9d4efe05-d01e-4825-b416-f63bef8a589e",
   "metadata": {},
   "outputs": [],
   "source": [
    "# Capture /show all strings containing the letter k or K in column Salary Estimate \n",
    "# df_copy.loc[df_copy[\"Salary Estimate\"].str.contains(\"k\", case=False), \"Salary Estimate\"]"
   ]
  },
  {
   "cell_type": "code",
   "execution_count": null,
   "id": "7a5aa093-1376-428a-ad03-08119661f659",
   "metadata": {},
   "outputs": [],
   "source": [
    "# Replace letter \"k\" Salary Estimate column with 000 \n",
    "# Final value: 181K - 182K > 181000 - 182000\n",
    "\n",
    "# Use dictionay object as per below syntax examples:\n",
    "\n",
    "# replace_dict ={\"\\$\": \"\", \n",
    "#                \"K\": \"000\",\n",
    "#               }\n",
    "# df_copy[\"Salary Estimate\"] = df_copy['Salary Estimate'].replace(replace_dict, regex=True)"
   ]
  },
  {
   "cell_type": "code",
   "execution_count": null,
   "id": "0cf78f8e-c331-4f19-8c69-da24f28bee2a",
   "metadata": {},
   "outputs": [],
   "source": [
    "# df_copy[\"Salary Estimate\"]"
   ]
  },
  {
   "cell_type": "markdown",
   "id": "a0f3b286-e232-471e-a6b8-51cb34c11797",
   "metadata": {},
   "source": []
  },
  {
   "cell_type": "markdown",
   "id": "37db6c23-b30b-4f5a-af84-6c8192c9ea40",
   "metadata": {},
   "source": [
    "# 6 - Splitting Columns 8:16\n",
    "## Documentation: https://pandas.pydata.org/docs/reference/api/pandas.Series.str.split.html\n",
    "\n",
    "![image.png](attachment:912d4e05-947c-4236-8694-750cb88270eb.png) <br>\n",
    "![image.png](attachment:1ee4e5d9-66fa-4945-96a8-08d4825b0bfc.png) <br>\n",
    "![image.png](attachment:8d0ad171-dbdd-4a2d-a3be-5807155377ab.png) <br>\n",
    "![image.png](attachment:ecd63efd-eaf3-4dc9-8515-21feaba93a14.png) <br>"
   ]
  },
  {
   "cell_type": "code",
   "execution_count": null,
   "id": "9f4c542a-6bcf-4956-be6b-5d464005daf2",
   "metadata": {},
   "outputs": [],
   "source": []
  },
  {
   "cell_type": "code",
   "execution_count": null,
   "id": "7895d537-5643-47e7-afd7-7a13a28ca8c4",
   "metadata": {},
   "outputs": [],
   "source": []
  },
  {
   "cell_type": "code",
   "execution_count": null,
   "id": "1a4eaf8d-4d67-4b9f-a4e6-4557f026fcbf",
   "metadata": {},
   "outputs": [],
   "source": []
  }
 ],
 "metadata": {
  "kernelspec": {
   "display_name": "Python 3 (ipykernel)",
   "language": "python",
   "name": "python3"
  },
  "language_info": {
   "codemirror_mode": {
    "name": "ipython",
    "version": 3
   },
   "file_extension": ".py",
   "mimetype": "text/x-python",
   "name": "python",
   "nbconvert_exporter": "python",
   "pygments_lexer": "ipython3",
   "version": "3.13.2"
  }
 },
 "nbformat": 4,
 "nbformat_minor": 5
}
