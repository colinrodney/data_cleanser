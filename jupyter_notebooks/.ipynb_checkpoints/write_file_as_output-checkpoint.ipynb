{
 "cells": [
  {
   "cell_type": "code",
   "execution_count": null,
   "id": "819817c1-2889-4de5-bc8f-e2d671706160",
   "metadata": {},
   "outputs": [],
   "source": [
    "# %pip install import-ipynb\n",
    "# import import_ipynb\n",
    "# import data_cleaner_production"
   ]
  },
  {
   "cell_type": "code",
   "execution_count": null,
   "id": "b58ff207-e74d-4129-89bd-bfcb16021e92",
   "metadata": {},
   "outputs": [],
   "source": [
    "# WRITE CLEANSED FILE AS OUTPUT\n",
    "def output_file(df):\n",
    "    # MAKE SURE TO LIST FULL PATH TO OUTPUT FILE OTHERWISE FILL WILL BE WRITTEIN IN DIRECTORY IN WHICH THIS FILE RESIDES!\n",
    "    df.to_csv(r\"C:\\Users\\Cessn\\OneDrive\\Desktop\\sample_datasets\\data_scientist\\csv_files\\output.csv\")\n",
    "    print(f\"Cleaned data saved!\")\n"
   ]
  }
 ],
 "metadata": {
  "kernelspec": {
   "display_name": "Python 3 (ipykernel)",
   "language": "python",
   "name": "python3"
  },
  "language_info": {
   "codemirror_mode": {
    "name": "ipython",
    "version": 3
   },
   "file_extension": ".py",
   "mimetype": "text/x-python",
   "name": "python",
   "nbconvert_exporter": "python",
   "pygments_lexer": "ipython3",
   "version": "3.13.2"
  }
 },
 "nbformat": 4,
 "nbformat_minor": 5
}
