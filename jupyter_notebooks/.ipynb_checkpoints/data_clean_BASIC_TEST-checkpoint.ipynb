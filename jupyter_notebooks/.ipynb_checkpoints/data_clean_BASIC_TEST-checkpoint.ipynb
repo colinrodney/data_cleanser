{
 "cells": [
  {
   "cell_type": "code",
   "execution_count": 1,
   "id": "37cdf478-15a3-43fa-baf9-e310e9ee974d",
   "metadata": {},
   "outputs": [
    {
     "name": "stdout",
     "output_type": "stream",
     "text": [
      "Requirement already satisfied: import-ipynb in c:\\users\\cessn\\miniconda3\\lib\\site-packages (0.2)\n",
      "Requirement already satisfied: IPython in c:\\users\\cessn\\miniconda3\\lib\\site-packages (from import-ipynb) (9.2.0)\n",
      "Requirement already satisfied: nbformat in c:\\users\\cessn\\miniconda3\\lib\\site-packages (from import-ipynb) (5.10.4)\n",
      "Requirement already satisfied: colorama in c:\\users\\cessn\\miniconda3\\lib\\site-packages (from IPython->import-ipynb) (0.4.6)\n",
      "Requirement already satisfied: decorator in c:\\users\\cessn\\miniconda3\\lib\\site-packages (from IPython->import-ipynb) (5.2.1)\n",
      "Requirement already satisfied: ipython-pygments-lexers in c:\\users\\cessn\\miniconda3\\lib\\site-packages (from IPython->import-ipynb) (1.1.1)\n",
      "Requirement already satisfied: jedi>=0.16 in c:\\users\\cessn\\miniconda3\\lib\\site-packages (from IPython->import-ipynb) (0.19.2)\n",
      "Requirement already satisfied: matplotlib-inline in c:\\users\\cessn\\miniconda3\\lib\\site-packages (from IPython->import-ipynb) (0.1.7)\n",
      "Requirement already satisfied: prompt_toolkit<3.1.0,>=3.0.41 in c:\\users\\cessn\\miniconda3\\lib\\site-packages (from IPython->import-ipynb) (3.0.51)\n",
      "Requirement already satisfied: pygments>=2.4.0 in c:\\users\\cessn\\miniconda3\\lib\\site-packages (from IPython->import-ipynb) (2.19.1)\n",
      "Requirement already satisfied: stack_data in c:\\users\\cessn\\miniconda3\\lib\\site-packages (from IPython->import-ipynb) (0.6.3)\n",
      "Requirement already satisfied: traitlets>=5.13.0 in c:\\users\\cessn\\miniconda3\\lib\\site-packages (from IPython->import-ipynb) (5.14.3)\n",
      "Requirement already satisfied: fastjsonschema>=2.15 in c:\\users\\cessn\\miniconda3\\lib\\site-packages (from nbformat->import-ipynb) (2.21.1)\n",
      "Requirement already satisfied: jsonschema>=2.6 in c:\\users\\cessn\\miniconda3\\lib\\site-packages (from nbformat->import-ipynb) (4.23.0)\n",
      "Requirement already satisfied: jupyter-core!=5.0.*,>=4.12 in c:\\users\\cessn\\miniconda3\\lib\\site-packages (from nbformat->import-ipynb) (5.7.2)\n",
      "Requirement already satisfied: parso<0.9.0,>=0.8.4 in c:\\users\\cessn\\miniconda3\\lib\\site-packages (from jedi>=0.16->IPython->import-ipynb) (0.8.4)\n",
      "Requirement already satisfied: attrs>=22.2.0 in c:\\users\\cessn\\miniconda3\\lib\\site-packages (from jsonschema>=2.6->nbformat->import-ipynb) (25.3.0)\n",
      "Requirement already satisfied: jsonschema-specifications>=2023.03.6 in c:\\users\\cessn\\miniconda3\\lib\\site-packages (from jsonschema>=2.6->nbformat->import-ipynb) (2025.4.1)\n",
      "Requirement already satisfied: referencing>=0.28.4 in c:\\users\\cessn\\miniconda3\\lib\\site-packages (from jsonschema>=2.6->nbformat->import-ipynb) (0.36.2)\n",
      "Requirement already satisfied: rpds-py>=0.7.1 in c:\\users\\cessn\\miniconda3\\lib\\site-packages (from jsonschema>=2.6->nbformat->import-ipynb) (0.25.0)\n",
      "Requirement already satisfied: platformdirs>=2.5 in c:\\users\\cessn\\miniconda3\\lib\\site-packages (from jupyter-core!=5.0.*,>=4.12->nbformat->import-ipynb) (4.3.7)\n",
      "Requirement already satisfied: pywin32>=300 in c:\\users\\cessn\\miniconda3\\lib\\site-packages (from jupyter-core!=5.0.*,>=4.12->nbformat->import-ipynb) (310)\n",
      "Requirement already satisfied: wcwidth in c:\\users\\cessn\\miniconda3\\lib\\site-packages (from prompt_toolkit<3.1.0,>=3.0.41->IPython->import-ipynb) (0.2.13)\n",
      "Requirement already satisfied: executing>=1.2.0 in c:\\users\\cessn\\miniconda3\\lib\\site-packages (from stack_data->IPython->import-ipynb) (2.2.0)\n",
      "Requirement already satisfied: asttokens>=2.1.0 in c:\\users\\cessn\\miniconda3\\lib\\site-packages (from stack_data->IPython->import-ipynb) (3.0.0)\n",
      "Requirement already satisfied: pure-eval in c:\\users\\cessn\\miniconda3\\lib\\site-packages (from stack_data->IPython->import-ipynb) (0.2.3)\n",
      "Note: you may need to restart the kernel to use updated packages.\n"
     ]
    }
   ],
   "source": [
    "# %pip install -r requirements_data_clean_basic.txt\n",
    "\n",
    "%pip install import-ipynb\n",
    "import import_ipynb\n",
    "import pandas as pd\n",
    "import load_data\n",
    "import clean_column_names\n",
    "import fill_missing_values\n",
    "import normalize_strings\n",
    "import write_file_as_output\n",
    "\n",
    "\n",
    "# Define input and output directories\n",
    "# input_folder = \"raw_data\"\n",
    "# output_folder = \"cleaned_data\"\n",
    "\n",
    "# # Create output folder if it doesn't exist\n",
    "# os.makedirs(output_folder, exist_ok=True)\n"
   ]
  },
  {
   "cell_type": "code",
   "execution_count": 2,
   "id": "0af2180f-ed9d-47e4-8fca-427b0285a91c",
   "metadata": {},
   "outputs": [
    {
     "name": "stdout",
     "output_type": "stream",
     "text": [
      "FILE LOADED: \n",
      "FILE INFO: \n",
      "<class 'pandas.core.frame.DataFrame'>\n",
      "RangeIndex: 500 entries, 0 to 499\n",
      "Data columns (total 10 columns):\n",
      " #   Column                     Non-Null Count  Dtype  \n",
      "---  ------                     --------------  -----  \n",
      " 0   customer_id                500 non-null    object \n",
      " 1   name                       500 non-null    object \n",
      " 2   name_cleaned               0 non-null      float64\n",
      " 3   email                      475 non-null    object \n",
      " 4   email_cleaned              0 non-null      float64\n",
      " 5   phone_number               482 non-null    object \n",
      " 6   phone_number_cleaned       0 non-null      float64\n",
      " 7   city                       500 non-null    object \n",
      " 8   registration_date          487 non-null    object \n",
      " 9   registration_date_cleaned  0 non-null      float64\n",
      "dtypes: float64(4), object(6)\n",
      "memory usage: 39.2+ KB\n",
      "(500, 10) \n",
      "\n",
      " None\n"
     ]
    }
   ],
   "source": [
    "# CALL load_file function from load_data module:\n",
    "# SYNTAX - df = load_data.load_file(r\"full_Filepath\")\n",
    "\n",
    "df = load_data.load_file(r'C:\\Users\\Cessn\\OneDrive\\Desktop\\sample_datasets\\data_scientist\\csv_files\\messy_crm_dataset_cleaned.csv')\n",
    "print(\"FILE LOADED: \")\n",
    "\n",
    "\n",
    "cleansed_file = load_data.load_file(r'C:\\Users\\Cessn\\OneDrive\\Desktop\\sample_datasets\\data_scientist\\csv_files\\messy_crm_dataset_cleaned.csv')\n",
    "print(\"FILE INFO: \")\n",
    "print(cleansed_file.shape, \"\\n\\n\", cleansed_file.info())"
   ]
  },
  {
   "cell_type": "code",
   "execution_count": 5,
   "id": "a13a77fa-b2e3-4cb3-b87b-c342c11bcb29",
   "metadata": {},
   "outputs": [
    {
     "ename": "AttributeError",
     "evalue": "'str' object has no attribute 'contains'",
     "output_type": "error",
     "traceback": [
      "\u001b[31m---------------------------------------------------------------------------\u001b[39m",
      "\u001b[31mAttributeError\u001b[39m                            Traceback (most recent call last)",
      "\u001b[36mCell\u001b[39m\u001b[36m \u001b[39m\u001b[32mIn[5]\u001b[39m\u001b[32m, line 2\u001b[39m\n\u001b[32m      1\u001b[39m cleansed_file = clean_column_names.clean_column_names(cleansed_file)\n\u001b[32m----> \u001b[39m\u001b[32m2\u001b[39m cleansed_file = \u001b[43mfill_missing_values\u001b[49m\u001b[43m.\u001b[49m\u001b[43mfill_missing\u001b[49m\u001b[43m(\u001b[49m\u001b[43mcleansed_file\u001b[49m\u001b[43m)\u001b[49m\n\u001b[32m      3\u001b[39m cleansed_file = normalize_strings.normalize_strings(cleansed_file)\n\u001b[32m      4\u001b[39m write_file_as_output.output_file(cleansed_file)\n",
      "\u001b[36mFile \u001b[39m\u001b[32m<string>:10\u001b[39m, in \u001b[36mfill_missing\u001b[39m\u001b[34m(df)\u001b[39m\n",
      "\u001b[31mAttributeError\u001b[39m: 'str' object has no attribute 'contains'"
     ]
    }
   ],
   "source": [
    "cleansed_file = clean_column_names.clean_column_names(cleansed_file)\n",
    "cleansed_file = fill_missing_values.fill_missing(cleansed_file)\n",
    "cleansed_file = normalize_strings.normalize_strings(cleansed_file)\n",
    "write_file_as_output.output_file(cleansed_file)"
   ]
  },
  {
   "cell_type": "code",
   "execution_count": null,
   "id": "05259741-26ba-4dab-a82c-b355e0f43b73",
   "metadata": {},
   "outputs": [],
   "source": []
  },
  {
   "cell_type": "code",
   "execution_count": null,
   "id": "e6d6a930-8f62-4723-943a-1770e0289e45",
   "metadata": {},
   "outputs": [],
   "source": []
  },
  {
   "cell_type": "code",
   "execution_count": null,
   "id": "d2be91d8-34c3-44e0-bf98-db364344f15b",
   "metadata": {},
   "outputs": [],
   "source": []
  },
  {
   "cell_type": "code",
   "execution_count": null,
   "id": "d3d10c02-0c12-4951-9fdd-568460c4a52f",
   "metadata": {},
   "outputs": [],
   "source": []
  },
  {
   "cell_type": "code",
   "execution_count": null,
   "id": "5605547c-5856-4057-af3e-f16dd1bfdef6",
   "metadata": {},
   "outputs": [],
   "source": []
  },
  {
   "cell_type": "code",
   "execution_count": null,
   "id": "7a552cf1-e68b-4d06-a6e0-2dbbec8d7f3c",
   "metadata": {},
   "outputs": [],
   "source": []
  },
  {
   "cell_type": "code",
   "execution_count": null,
   "id": "d7b630e0-8298-4857-ba7b-b8faad4a7576",
   "metadata": {},
   "outputs": [],
   "source": [
    "# # DYNAMIC CAPTURE OF COLUMN NAMES IN DATAFRAME\n",
    "# # Useful when working w/ DataFrames where column names are unknown or may change\n",
    "\n",
    "# data = {'col_A': [1, 2], 'col_B': [3, 4], 'col_C': [5, 6]}\n",
    "# df = pd.DataFrame(data)\n",
    "# df\n",
    "column_data_types = cleansed_file.dtypes\n",
    "print(f\"column_data_type: {column_data_types} \\n\")\n",
    "\n",
    "\n",
    "column_names_list = cleansed_file.columns.tolist()\n",
    "print(f\"column_names_list: {column_names_list}\")"
   ]
  },
  {
   "cell_type": "code",
   "execution_count": null,
   "id": "c615986d-3aa3-4a9e-be73-147d5389a0a9",
   "metadata": {},
   "outputs": [],
   "source": []
  },
  {
   "cell_type": "code",
   "execution_count": null,
   "id": "93b4ff7c-961b-40eb-952e-9afc6bfc15f3",
   "metadata": {},
   "outputs": [],
   "source": [
    "data_clean_BASIC_TEST.ipynb"
   ]
  },
  {
   "cell_type": "code",
   "execution_count": null,
   "id": "e160b2f9-6c93-4825-8e29-02f598acd916",
   "metadata": {},
   "outputs": [],
   "source": []
  },
  {
   "cell_type": "code",
   "execution_count": null,
   "id": "0b03f707-ffc7-4d70-9aa8-92a121a5f1b9",
   "metadata": {},
   "outputs": [],
   "source": [
    "# # # Function to clean individual DataFrame DO NOT DELETE\n",
    "# def clean_dataframe(df):\n",
    "#     df = df.drop_duplicates()\n",
    "    \n",
    "#     # Fill missing values\n",
    "#     # EMAIL Addresses\n",
    "#     df['email'] = df['email'].fillna('none@none.com')\n",
    "\n",
    "#     # Phone Numbers\n",
    "#     # df['phone_number'] = df['phone_number'].fillna('N/A')\n",
    "#     df['phone_number'] = df['phone_number'].fillna('9999999999')\n",
    "\n",
    "    \n",
    "#     # Normalize text\n",
    "#     df['name'] = df['name'].str.strip().str.title()\n",
    "#     df['city'] = df['city'].str.strip().str.title()\n",
    "#     df['email'] = df['email'].str.strip()\n",
    "#     df['phone_number'] = df['phone_number'].str.strip()\n",
    "\n",
    "#     # Format dates\n",
    "#     df['registration_date'] = pd.to_datetime(df['registration_date'], errors='coerce')\n",
    "#     df['registration_date'] = df['registration_date'].dt.strftime('%Y-%m-%d')\n",
    "\n",
    "#     # Drop rows with missing customer_id - THIS MAY BE A NON-BASIC OFFERING\n",
    "#     #df = df.dropna(subset=['customer_id'])\n",
    "\n",
    "#     return df"
   ]
  },
  {
   "cell_type": "code",
   "execution_count": null,
   "id": "1951762e-d1ba-4739-a2b5-4795232ff892",
   "metadata": {},
   "outputs": [],
   "source": [
    "def clean_dataframe(df):\n",
    "    for column_name in df.select_dtypes(include=\"object\"):\n",
    "\n",
    "        # STANDARDIZE DATE / TIME FORMATS (CONVERT TO DATE/ TIME OBJECT AS NEEDED)\n",
    "        if f\"{column_name}\".contains(\"date\") in df.columns:\n",
    "            print(True)\n",
    "        else:\n",
    "            print(False)\n",
    "\n",
    "        # STRIP WHITEPSACE - ALL OBJECT/ TEXT CONTENT\n",
    "        df[column_name] = df[column_name].astype(str).str.strip()\n",
    "\n",
    "        # HANDLE BLANK/ MISSING VALUES BASED ON DATA TYPE OF COLUMN\n",
    "\n",
    "        # STANDARDIZE NAMES\n",
    "\n",
    "        # STANDARDIZE PHONE NUMBERS\n",
    "            # USE REGEX EXPRESSION TO REMOVE ALL NON-NUMERIC CHARACTERS FROM FORMATTED PHONE NUMBER\n",
    "\n",
    "\n",
    "clean_dataframe(cleansed_file)"
   ]
  },
  {
   "cell_type": "code",
   "execution_count": null,
   "id": "1c06522a-f840-4e09-87f2-b784743b9dcf",
   "metadata": {},
   "outputs": [],
   "source": []
  },
  {
   "cell_type": "code",
   "execution_count": null,
   "id": "e296b8b4-6220-4bcb-8f58-ccaf31286206",
   "metadata": {},
   "outputs": [],
   "source": [
    "# add stuff"
   ]
  },
  {
   "cell_type": "code",
   "execution_count": null,
   "id": "b27136a6-051c-460f-9c5e-2ff3d72708df",
   "metadata": {},
   "outputs": [],
   "source": [
    "# # WRITE CLEANSED FILE AS OUTPUT\n",
    "# def output_file(df):\n",
    "#     # MAKE SURE TO LIST FULL PATH TO OUTPUT FILE OTHERWISE FILL WILL BE WRITTEIN IN DIRECTORY IN WHICH THIS FILE RESIDES!\n",
    "#     # df.to_csv(\"concert_tours_by_women_TEST.csv\")\n",
    "#     df.to_csv(r\"C:\\Users\\Cessn\\OneDrive\\Desktop\\sample_datasets\\data_scientist\\csv_files\\CLEANED_FILE.csv\")\n",
    "#     print(f\"Cleaned data saved!\")\n"
   ]
  },
  {
   "cell_type": "code",
   "execution_count": null,
   "id": "143d637c-4ba8-40d9-a80b-3a965f71211a",
   "metadata": {},
   "outputs": [],
   "source": [
    "# # FULL SAMPLE PIPELINE\n",
    "\n",
    "\n",
    "# cleaned_file = clean_dataframe(cleansed_file)\n",
    "# final_output = output_file(cleaned_file)"
   ]
  },
  {
   "cell_type": "code",
   "execution_count": null,
   "id": "761908be-a25d-45e1-bd6e-b5fc6d634154",
   "metadata": {},
   "outputs": [],
   "source": [
    "# # Process each CSV in the folder\n",
    "# for filename in os.listdir(input_folder):\n",
    "#     if filename.endswith(\".csv\"):\n",
    "#         file_path = os.path.join(input_folder, filename)\n",
    "#         try:\n",
    "#             df = pd.read_csv(file_path)\n",
    "#             cleaned_df = clean_dataframe(df)\n",
    "            \n",
    "#             output_path = os.path.join(output_folder, f\"cleaned_{filename}\")\n",
    "#             cleaned_df.to_csv(output_path, index=False)\n",
    "            \n",
    "#             print(f\"✅ Cleaned: {filename} → {output_path}\")\n",
    "#         except Exception as e:\n",
    "#             print(f\"❌ Failed to process {filename}: {e}\")"
   ]
  }
 ],
 "metadata": {
  "kernelspec": {
   "display_name": "Python 3 (ipykernel)",
   "language": "python",
   "name": "python3"
  },
  "language_info": {
   "codemirror_mode": {
    "name": "ipython",
    "version": 3
   },
   "file_extension": ".py",
   "mimetype": "text/x-python",
   "name": "python",
   "nbconvert_exporter": "python",
   "pygments_lexer": "ipython3",
   "version": "3.13.2"
  }
 },
 "nbformat": 4,
 "nbformat_minor": 5
}
