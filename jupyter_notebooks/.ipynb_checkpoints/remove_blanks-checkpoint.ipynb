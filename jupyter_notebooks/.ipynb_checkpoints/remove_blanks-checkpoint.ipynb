{
 "cells": [
  {
   "cell_type": "code",
   "execution_count": null,
   "id": "e9590ea7-7c5c-4720-aad7-5d8c1ad26b70",
   "metadata": {},
   "outputs": [],
   "source": [
    "# Resources:\n",
    "# https://www.w3schools.com/python/pandas/ref_df_dropna.asp\n",
    "# https://www.w3schools.com/python/pandas/pandas_ref_dataframe.asp"
   ]
  },
  {
   "cell_type": "code",
   "execution_count": null,
   "id": "ea2d8a29-971b-4829-b386-b0cade4a2f8e",
   "metadata": {},
   "outputs": [],
   "source": [
    "# Remove blank rows & duplicate rows\n",
    "def remove_blanks(df):\n",
    "    df.dropna(how='all', inplace=True) \n",
    "    # df.drop_duplicates(inplace=True)\n",
    "    return df"
   ]
  }
 ],
 "metadata": {
  "kernelspec": {
   "display_name": "Python 3 (ipykernel)",
   "language": "python",
   "name": "python3"
  },
  "language_info": {
   "codemirror_mode": {
    "name": "ipython",
    "version": 3
   },
   "file_extension": ".py",
   "mimetype": "text/x-python",
   "name": "python",
   "nbconvert_exporter": "python",
   "pygments_lexer": "ipython3",
   "version": "3.13.2"
  }
 },
 "nbformat": 4,
 "nbformat_minor": 5
}
