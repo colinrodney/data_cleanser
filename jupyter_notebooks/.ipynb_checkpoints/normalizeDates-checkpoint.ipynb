{
 "cells": [
  {
   "cell_type": "code",
   "execution_count": 1,
   "id": "2fc34b12",
   "metadata": {
    "lines_to_next_cell": 1
   },
   "outputs": [],
   "source": [
    "# Import required packages/ libraries/ frameworks from requirements.txt\n",
    "import pandas as pd\n",
    "import os\n",
    "import re"
   ]
  },
  {
   "cell_type": "code",
   "execution_count": 2,
   "id": "10ec0287",
   "metadata": {
    "lines_to_next_cell": 1
   },
   "outputs": [
    {
     "ename": "NameError",
     "evalue": "name 'df' is not defined",
     "output_type": "error",
     "traceback": [
      "\u001b[31m---------------------------------------------------------------------------\u001b[39m",
      "\u001b[31mNameError\u001b[39m                                 Traceback (most recent call last)",
      "\u001b[36mCell\u001b[39m\u001b[36m \u001b[39m\u001b[32mIn[2]\u001b[39m\u001b[32m, line 28\u001b[39m\n\u001b[32m     26\u001b[39m         df[col] = df[col].str.replace(unformattedDate, normalizedYearx + normalizedYeary, regex=\u001b[38;5;28;01mTrue\u001b[39;00m)\n\u001b[32m     27\u001b[39m         \u001b[38;5;28;01mreturn\u001b[39;00m df\n\u001b[32m---> \u001b[39m\u001b[32m28\u001b[39m cleansed_file = normalizeDates(\u001b[43mdf\u001b[49m)\n",
      "\u001b[31mNameError\u001b[39m: name 'df' is not defined"
     ]
    }
   ],
   "source": [
    "# # Normalize Dates - Work ONLY w/ any year/date/month or date/ time columns in dataset\n",
    "# def normalizeDates(df):\n",
    "#      for col in df.select_dtypes(include=\"object\"): # loop\n",
    "#         #Regex pattern to be searched in string\n",
    "#         unformattedDate = \"20232024\"\n",
    "        \n",
    "#         # Compiles regular expression PATTERN to be tested/matched into regex object\n",
    "#         # this optimizes pattern for repeated use/ reusability\n",
    "#         years_Regex = re.compile(r'((\\d{4})(\\d{4}))')\n",
    "\n",
    "#         # mo = matching object\n",
    "#         mo = years_Regex.search(unformattedDate)\n",
    "\n",
    "#         #capture matching objects groups\n",
    "#         x = mo.group(1)\n",
    "#         y = mo.group(2)\n",
    "\n",
    "#         normalizedYearx = f\"{x}\"\n",
    "#         normalizedYeary = f\"{y}\"\n",
    "        \n",
    "\n",
    "#         #df[col] = df[col].str.replace(r'\\W', '', regex=True) # remove all non-digit chars\n",
    "\n",
    "#         # regex pattern removes any characters that are not letters and/or numbers\n",
    "#         # works to remove replacement character (black diamond w/ white question mark in excel)\n",
    "#         df[col] = df[col].str.replace(unformattedDate, normalizedYearx + normalizedYeary, regex=True)\n",
    "#         return df\n",
    "# cleansed_file = normalizeDates(df)"
   ]
  },
  {
   "cell_type": "code",
   "execution_count": null,
   "id": "9c742ef7-5b78-4190-8a4c-034db1062ca5",
   "metadata": {},
   "outputs": [],
   "source": [
    "# # Standardize Dates - Work ONLY w/ any year/date/month or date/ time columns in dataset\n",
    "# def normalizeDates(df):\n",
    "#     for col in df.select_dtypes(include='number'):\n",
    "#         print(\"Column names: \", df.columns)\n",
    "#         print(\"Data types: \", df.dtypes)\n",
    "\n",
    "#         if \"years\" in df.columns:\n",
    "#         # Match specific type of pattern in text columns\n",
    "     \n",
    "            \n",
    "   \n",
    "\n",
    "#                     # Check if value matches regex pattern\n",
    "#             # yearRegexPattern = re.compile(r'((\\d{4})(\\d{4}))')\n",
    "#             # date_Pattern = re.compile(r'((\\d{4})(\\d{4}))')\n",
    "#             date_pattern = re.compile(r'(\\d{4})(\\d{4})|(\\d{2}).(\\d{2}).(\\d{4})') #20002001 OR 08/14/2025\n",
    "#             searchText = '20232024'\n",
    "\n",
    "#             # mo = matching object\n",
    "#             # mo = yearRegexPattern.search(searchText)\n",
    "    \n",
    "#             #capture matching objects groups\n",
    "#             match1 = date_pattern.search(searchText)\n",
    "#             if match1:\n",
    "#                 print(\"match1 is: \", match1.group(0), match1.group(1), match1.group(2))\n",
    "            \n",
    "#         # y = mo.group(2)\n",
    "#         # print(\"Y is: \", type(y))\n",
    "#         # z = mo.group(3)\n",
    "#         # print(\"Z s: \", type(z))\n",
    "\n",
    "#         # normalizedYearx = f\"{x}\"\n",
    "#         # normalizedYeary = f\"{y}\"\n",
    "#         # normalizedYearz= f\"{z}\"\n",
    "        \n",
    "\n",
    "#             df[col] = [col.str.replace('20232024', 'TEST', regex=True) # remove all non-digit chars\n",
    "\n",
    "#     # # #     # # regex pattern removes any characters that are not letters and/or numbers\n",
    "#     # # #     # # works to remove replacement character (black diamond w/ white question mark in excel)\n",
    "#     # #         df[col] = df[col].str.replace(yearRegexPattern, normalizedYearx + normalizedYeary, regex=True)\n",
    "#             # return df\n",
    "\n",
    "#     #     #Regex pattern to be searched in string\n",
    "#     # unformattedDate = (r'((\\d{4})(\\d{4}))')\n",
    "        \n",
    "#     # Compiles regular expression PATTERN to be tested/matched into regex object\n",
    "#     # this optimizes pattern for repeated use/ reusability\n",
    "#     #     yearRegexPattern = re.compile(r'((\\d{4})(\\d{4}))')\n",
    "\n",
    "#     #     # mo = matching object\n",
    "#     #     mo = yearRegexPattern.search('20232024')\n",
    "\n",
    "#     #     #capture matching objects groups\n",
    "#     #     x = mo.group(1)\n",
    "#     #     y = mo.group(2)\n",
    "\n",
    "#     #     normalizedYearx = f\"{x}\"\n",
    "#     #     normalizedYeary = f\"{y}\"\n",
    "        \n",
    "\n",
    "#     # #     # #df[col] = df[col].str.replace(r'\\W', '', regex=True) # remove all non-digit chars\n",
    "\n",
    "#     # #     # # regex pattern removes any characters that are not letters and/or numbers\n",
    "#     # #     # # works to remove replacement character (black diamond w/ white question mark in excel)\n",
    "#         # df['years'] = df['years'].str.replace(yearRegexPattern, normalizedYeary+ normalizedYearz, regex=True)\n",
    "\n",
    "\n",
    "#         return df\n",
    "# cleansed_file = normalizeDates(df)\n",
    "# # print(cleansed_file)"
   ]
  },
  {
   "cell_type": "code",
   "execution_count": null,
   "id": "044a6bc6",
   "metadata": {},
   "outputs": [],
   "source": [
    "\n",
    "# DO NOT DELETE!\n",
    "# df[\"years\"] = pd.to_datetime(df[\"years\"]) #DO NOT DELETE\n",
    "        #df[\"years\"] = df[\"years\"].dt.strftime('%Y'+'-'+'%Y') #DO NOT DELETE\n",
    "        \n",
    "\n",
    "    \n",
    "# # print(df['years'].str.replace(r'((\\d{4})(\\d{4}))', \"testMe\", regex=True)) - DO NOT DELETE\n",
    "# df['years'] = df['years'].str.replace(r'((\\d{4})(\\d{4}))', \"someString\", regex=True) #- DO NOT DELETE\n",
    "# # df['years'] = df['years'].re.sub(r'((\\d{4})(\\d{4}))', r'((\\d{4}) (\\d{4}))') #- DO NOT DELETE"
   ]
  },
  {
   "cell_type": "code",
   "execution_count": null,
   "id": "8a0f0c3a",
   "metadata": {},
   "outputs": [],
   "source": []
  },
  {
   "cell_type": "code",
   "execution_count": null,
   "id": "c3c88f3c",
   "metadata": {},
   "outputs": [],
   "source": []
  },
  {
   "cell_type": "code",
   "execution_count": null,
   "id": "42a8d05a",
   "metadata": {},
   "outputs": [],
   "source": []
  },
  {
   "cell_type": "code",
   "execution_count": null,
   "id": "77e03c3b",
   "metadata": {},
   "outputs": [],
   "source": []
  },
  {
   "cell_type": "code",
   "execution_count": null,
   "id": "fa41fa54",
   "metadata": {},
   "outputs": [],
   "source": []
  },
  {
   "cell_type": "code",
   "execution_count": null,
   "id": "eb841607",
   "metadata": {},
   "outputs": [],
   "source": []
  },
  {
   "cell_type": "code",
   "execution_count": null,
   "id": "2179df85",
   "metadata": {
    "lines_to_next_cell": 1
   },
   "outputs": [],
   "source": []
  },
  {
   "cell_type": "code",
   "execution_count": null,
   "id": "c91b0423",
   "metadata": {},
   "outputs": [],
   "source": []
  },
  {
   "cell_type": "code",
   "execution_count": null,
   "id": "b76f1605",
   "metadata": {},
   "outputs": [],
   "source": [
    "# df[\"years\"] = pd.to_datetime(df[\"years\"]) #DO NOT DELETE\n",
    "        #df[\"years\"] = df[\"years\"].dt.strftime('%Y'+'-'+'%Y') #DO NOT DELETE\n",
    "        \n",
    "\n",
    "    \n",
    "# # print(df['years'].str.replace(r'((\\d{4})(\\d{4}))', \"testMe\", regex=True)) - DO NOT DELETE\n",
    "# df['years'] = df['years'].str.replace(r'((\\d{4})(\\d{4}))', \"someString\", regex=True) #- DO NOT DELETE\n",
    "# # df['years'] = df['years'].re.sub(r'((\\d{4})(\\d{4}))', r'((\\d{4}) (\\d{4}))') #- DO NOT DELETE"
   ]
  },
  {
   "cell_type": "code",
   "execution_count": null,
   "id": "b5452d1c",
   "metadata": {
    "lines_to_next_cell": 2
   },
   "outputs": [],
   "source": [
    "   \"\"\"\n",
    "   Working regex patterns:\n",
    "   (\\d{4})|(\\d{2}.\\d{2}.\\d{4}) - #20002001 OR 08/14/2025 08-14-2025 etc\n",
    "   (\\d{4})(\\d{4})|(\\d{2}).(\\d{2}).(\\d{4}) - Individual matching groups - research how match groups work\n",
    "   \"\"\""
   ]
  },
  {
   "cell_type": "code",
   "execution_count": null,
   "id": "6b382f7c",
   "metadata": {},
   "outputs": [],
   "source": []
  },
  {
   "cell_type": "markdown",
   "id": "ac8cfda6",
   "metadata": {},
   "source": [
    "# Run full cleaning pipeline\n",
    "def clean_data(file_path, output_path):\n",
    "    df = load_file(file_path)\n",
    "    print(f\"Loaded {len(df)} rows and {len(df.columns)} columns.\")"
   ]
  },
  {
   "cell_type": "markdown",
   "id": "2138baeb",
   "metadata": {},
   "source": [
    "    df = clean_column_names(df)\n",
    "    df = remove_blanks_and_duplicates(df)\n",
    "    df = normalize_strings(df)\n",
    "    df = fill_missing(df)"
   ]
  },
  {
   "cell_type": "markdown",
   "id": "aeaedb15",
   "metadata": {
    "lines_to_next_cell": 2
   },
   "source": [
    "    df.to_csv(output_path, index=False)\n",
    "    print(f\"Cleaned data saved to: {output_path}\")"
   ]
  },
  {
   "cell_type": "markdown",
   "id": "395f885c",
   "metadata": {},
   "source": [
    "# Example usage\n",
    "if __name__ == \"__main__\":\n",
    "    input_file = \"example_input.csv\"\n",
    "    output_file = \"cleaned_output.csv\"\n",
    "    clean_data(input_file, output_file)"
   ]
  }
 ],
 "metadata": {
  "jupytext": {
   "cell_metadata_filter": "-all",
   "main_language": "python",
   "notebook_metadata_filter": "-all"
  },
  "kernelspec": {
   "display_name": "Python 3 (ipykernel)",
   "language": "python",
   "name": "python3"
  },
  "language_info": {
   "codemirror_mode": {
    "name": "ipython",
    "version": 3
   },
   "file_extension": ".py",
   "mimetype": "text/x-python",
   "name": "python",
   "nbconvert_exporter": "python",
   "pygments_lexer": "ipython3",
   "version": "3.13.2"
  }
 },
 "nbformat": 4,
 "nbformat_minor": 5
}
