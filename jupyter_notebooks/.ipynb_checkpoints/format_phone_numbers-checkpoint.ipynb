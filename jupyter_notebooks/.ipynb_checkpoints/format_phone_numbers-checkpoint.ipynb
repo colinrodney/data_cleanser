{
 "cells": [
  {
   "cell_type": "code",
   "execution_count": 1,
   "id": "c93b2012-a4ef-43de-b42a-4a9e74055ff7",
   "metadata": {},
   "outputs": [],
   "source": [
    "import pandas as pd"
   ]
  },
  {
   "cell_type": "code",
   "execution_count": 2,
   "id": "a19e1cfb-f645-4b3a-84dc-e459fd51b213",
   "metadata": {},
   "outputs": [
    {
     "name": "stdout",
     "output_type": "stream",
     "text": [
      "<class 'pandas.core.frame.DataFrame'>\n",
      "RangeIndex: 10 entries, 0 to 9\n",
      "Data columns (total 6 columns):\n",
      " #   Column             Non-Null Count  Dtype \n",
      "---  ------             --------------  ----- \n",
      " 0   customer_id        10 non-null     object\n",
      " 1   name               10 non-null     object\n",
      " 2   email              10 non-null     object\n",
      " 3   phone_number       10 non-null     object\n",
      " 4   city               10 non-null     object\n",
      " 5   registration_date  10 non-null     object\n",
      "dtypes: object(6)\n",
      "memory usage: 612.0+ bytes\n",
      "None\n"
     ]
    },
    {
     "data": {
      "text/plain": [
       "Index(['customer_id', 'name', 'email', 'phone_number', 'city',\n",
       "       'registration_date'],\n",
       "      dtype='object')"
      ]
     },
     "execution_count": 2,
     "metadata": {},
     "output_type": "execute_result"
    }
   ],
   "source": [
    "# ORIGINAL DATAFRAME \n",
    "# df = pd.read_csv(r'C:\\Users\\Cessn\\OneDrive\\Desktop\\sample_datasets\\data_scientist\\csv_files\\messy_crm_dataset.csv', nrows = 10)\n",
    "\n",
    "df= pd.read_csv(r'C:\\Users\\Cessn\\OneDrive\\Desktop\\sample_datasets\\data_scientist\\csv_files\\DataScientist2.csv')\n",
    "df_copy = df.copy()\n",
    "print(df.info())\n",
    "\n",
    "df_copy.columns.str.lower()\n",
    "df_copy.columns.str.replace(r'[^a-z0-9]+', '_', regex=True)\n",
    "df_copy.columns.str.strip()\n",
    "\n",
    "#Create FILE TO BE CLEANSED\n",
    "# Call load_file function \n",
    "# file_toBe_cleansed = (r'C:\\Users\\Cessn\\OneDrive\\Desktop\\sample_datasets\\data_scientist\\csv_files\\messy_crm_dataset.csv', nrows = 10)\n",
    "# print(file_toBe_cleansed.shape, \"\\n\", file_toBe_cleansed.info())"
   ]
  },
  {
   "cell_type": "code",
   "execution_count": 3,
   "id": "3fe72f75-ffd1-4719-a83e-0bfde36e9b12",
   "metadata": {},
   "outputs": [
    {
     "data": {
      "text/html": [
       "<div>\n",
       "<style scoped>\n",
       "    .dataframe tbody tr th:only-of-type {\n",
       "        vertical-align: middle;\n",
       "    }\n",
       "\n",
       "    .dataframe tbody tr th {\n",
       "        vertical-align: top;\n",
       "    }\n",
       "\n",
       "    .dataframe thead th {\n",
       "        text-align: right;\n",
       "    }\n",
       "</style>\n",
       "<table border=\"1\" class=\"dataframe\">\n",
       "  <thead>\n",
       "    <tr style=\"text-align: right;\">\n",
       "      <th></th>\n",
       "      <th>customer_id</th>\n",
       "      <th>name</th>\n",
       "      <th>email</th>\n",
       "      <th>phone_number</th>\n",
       "      <th>city</th>\n",
       "      <th>registration_date</th>\n",
       "    </tr>\n",
       "  </thead>\n",
       "  <tbody>\n",
       "    <tr>\n",
       "      <th>0</th>\n",
       "      <td>V9NI97D1</td>\n",
       "      <td>Caitlin Braun</td>\n",
       "      <td>caitlinbraun941@yahoo.com</td>\n",
       "      <td>528-661-4506</td>\n",
       "      <td>Robertsview</td>\n",
       "      <td>2021-06-13</td>\n",
       "    </tr>\n",
       "    <tr>\n",
       "      <th>1</th>\n",
       "      <td>NNV7CWF1</td>\n",
       "      <td>John Brown</td>\n",
       "      <td>johnbrown577@yahoo.co</td>\n",
       "      <td>485-2036208</td>\n",
       "      <td>Combston</td>\n",
       "      <td>2023-11-23</td>\n",
       "    </tr>\n",
       "    <tr>\n",
       "      <th>2</th>\n",
       "      <td>EOKPZD9O</td>\n",
       "      <td>Barbara Walls</td>\n",
       "      <td>barbarawalls@gmail.org</td>\n",
       "      <td>541 570 3780</td>\n",
       "      <td>New Mary</td>\n",
       "      <td>2025-06-17</td>\n",
       "    </tr>\n",
       "    <tr>\n",
       "      <th>3</th>\n",
       "      <td>6WHZXW6T</td>\n",
       "      <td>Lynn Coleman</td>\n",
       "      <td>lynncoleman@yahoo.org</td>\n",
       "      <td>(801) 750-9883</td>\n",
       "      <td>Donnaburgh</td>\n",
       "      <td>2024-01-30</td>\n",
       "    </tr>\n",
       "    <tr>\n",
       "      <th>4</th>\n",
       "      <td>RCES5GL5</td>\n",
       "      <td>James Stevenson</td>\n",
       "      <td>jamesstevenson@gmail.co</td>\n",
       "      <td>(211)8584312</td>\n",
       "      <td>North Morgan</td>\n",
       "      <td>2022-12-07</td>\n",
       "    </tr>\n",
       "    <tr>\n",
       "      <th>5</th>\n",
       "      <td>SBHTZX40</td>\n",
       "      <td>Christina Woods</td>\n",
       "      <td>christinawoods821@outlook.net</td>\n",
       "      <td>(875) 599-8733</td>\n",
       "      <td>New Richard</td>\n",
       "      <td>2022-03-07</td>\n",
       "    </tr>\n",
       "    <tr>\n",
       "      <th>6</th>\n",
       "      <td>7HVNEL8O</td>\n",
       "      <td>Mark Crawford</td>\n",
       "      <td>markcrawford@hotmail6.co</td>\n",
       "      <td>122-973-7273</td>\n",
       "      <td>Sherryland</td>\n",
       "      <td>2024-02-02</td>\n",
       "    </tr>\n",
       "    <tr>\n",
       "      <th>7</th>\n",
       "      <td>X53CDDJX</td>\n",
       "      <td>Steven Fox</td>\n",
       "      <td>stevenfox@outlook.us</td>\n",
       "      <td>925 798 4507</td>\n",
       "      <td>Carpenterville</td>\n",
       "      <td>2023-10-22</td>\n",
       "    </tr>\n",
       "    <tr>\n",
       "      <th>8</th>\n",
       "      <td>7QBSLAS9</td>\n",
       "      <td>Melissa Garcia</td>\n",
       "      <td>melissagarcia@gmail.com</td>\n",
       "      <td>(398)6085436</td>\n",
       "      <td>south jacobview</td>\n",
       "      <td>2025-04-24</td>\n",
       "    </tr>\n",
       "    <tr>\n",
       "      <th>9</th>\n",
       "      <td>RVCTGZXG</td>\n",
       "      <td>Robert Johnson</td>\n",
       "      <td>robertjohnson@yahoo.us</td>\n",
       "      <td>+1 246 529 8356</td>\n",
       "      <td>Samuelmouth</td>\n",
       "      <td>2023-01-12</td>\n",
       "    </tr>\n",
       "  </tbody>\n",
       "</table>\n",
       "</div>"
      ],
      "text/plain": [
       "  customer_id             name                          email  \\\n",
       "0    V9NI97D1    Caitlin Braun      caitlinbraun941@yahoo.com   \n",
       "1    NNV7CWF1       John Brown          johnbrown577@yahoo.co   \n",
       "2    EOKPZD9O    Barbara Walls         barbarawalls@gmail.org   \n",
       "3    6WHZXW6T     Lynn Coleman          lynncoleman@yahoo.org   \n",
       "4    RCES5GL5  James Stevenson        jamesstevenson@gmail.co   \n",
       "5    SBHTZX40  Christina Woods  christinawoods821@outlook.net   \n",
       "6    7HVNEL8O    Mark Crawford       markcrawford@hotmail6.co   \n",
       "7    X53CDDJX       Steven Fox           stevenfox@outlook.us   \n",
       "8    7QBSLAS9   Melissa Garcia        melissagarcia@gmail.com   \n",
       "9    RVCTGZXG   Robert Johnson         robertjohnson@yahoo.us   \n",
       "\n",
       "      phone_number             city registration_date  \n",
       "0     528-661-4506      Robertsview        2021-06-13  \n",
       "1      485-2036208         Combston        2023-11-23  \n",
       "2     541 570 3780         New Mary        2025-06-17  \n",
       "3   (801) 750-9883       Donnaburgh        2024-01-30  \n",
       "4     (211)8584312     North Morgan        2022-12-07  \n",
       "5   (875) 599-8733      New Richard        2022-03-07  \n",
       "6     122-973-7273       Sherryland        2024-02-02  \n",
       "7     925 798 4507   Carpenterville        2023-10-22  \n",
       "8     (398)6085436  south jacobview        2025-04-24  \n",
       "9  +1 246 529 8356      Samuelmouth        2023-01-12  "
      ]
     },
     "execution_count": 3,
     "metadata": {},
     "output_type": "execute_result"
    }
   ],
   "source": [
    "df_copy\n"
   ]
  },
  {
   "cell_type": "code",
   "execution_count": null,
   "id": "4c668c45-9350-42d3-8f00-60a0571fd669",
   "metadata": {},
   "outputs": [],
   "source": []
  },
  {
   "cell_type": "code",
   "execution_count": 17,
   "id": "f53b9c06-efb6-4c62-9af0-88dd77455aaa",
   "metadata": {},
   "outputs": [],
   "source": [
    "# THIS WORKS - DO NOT DELETE!\n",
    "\n",
    "def format_phone_numbers(df_copy):\n",
    "    df_copy['phone_number'] = df.loc[0:, 'phone_number'].replace(r'([\\+\\s\\(\\)-])|(^[1])', '', regex = True)\n",
    "    return df_copy\n",
    "\n",
    "x = df_copy.apply(format_phone_numbers)"
   ]
  },
  {
   "cell_type": "code",
   "execution_count": null,
   "id": "77c76817-2ee8-434f-8710-f3bb6d0d2fd5",
   "metadata": {},
   "outputs": [],
   "source": []
  },
  {
   "cell_type": "code",
   "execution_count": null,
   "id": "335f92cb-9a84-43b9-b24f-fb3f9101b07b",
   "metadata": {},
   "outputs": [],
   "source": []
  },
  {
   "cell_type": "code",
   "execution_count": null,
   "id": "a29ae9a9-a146-46c2-829f-9236f07b4f9a",
   "metadata": {},
   "outputs": [],
   "source": []
  },
  {
   "cell_type": "code",
   "execution_count": 13,
   "id": "a31d5d20-726d-4a65-aa6a-d3d89bdb18dc",
   "metadata": {},
   "outputs": [],
   "source": [
    "df_copy.to_csv(\"output.csv\")"
   ]
  },
  {
   "cell_type": "code",
   "execution_count": null,
   "id": "f0d52d47-11ab-4ec3-9fc0-9e5879e33a8b",
   "metadata": {},
   "outputs": [],
   "source": []
  },
  {
   "cell_type": "code",
   "execution_count": null,
   "id": "3af35cfa-9d0d-4b6d-a277-5663205394cf",
   "metadata": {},
   "outputs": [],
   "source": []
  },
  {
   "cell_type": "code",
   "execution_count": null,
   "id": "c435f910-4740-487f-b059-ce7ac25d91c7",
   "metadata": {},
   "outputs": [],
   "source": []
  },
  {
   "cell_type": "code",
   "execution_count": null,
   "id": "83b73f7f-d929-4a2f-af00-6932af4a535f",
   "metadata": {},
   "outputs": [],
   "source": []
  },
  {
   "cell_type": "code",
   "execution_count": null,
   "id": "bf6d65a7-5894-4f90-b1c6-bce78cf0a668",
   "metadata": {},
   "outputs": [],
   "source": []
  },
  {
   "cell_type": "code",
   "execution_count": 8,
   "id": "e4609b88-9323-4a63-9558-b496f6f18e22",
   "metadata": {},
   "outputs": [],
   "source": []
  },
  {
   "cell_type": "code",
   "execution_count": null,
   "id": "ca876aaf-41b3-4174-bde3-f8ea9b2e1c6b",
   "metadata": {},
   "outputs": [],
   "source": []
  },
  {
   "cell_type": "code",
   "execution_count": null,
   "id": "2b526dae-b4be-4ae9-ac14-eae5374cb686",
   "metadata": {},
   "outputs": [],
   "source": []
  },
  {
   "cell_type": "code",
   "execution_count": null,
   "id": "2abc43bc-a61b-4c26-a6c6-f860b34e77da",
   "metadata": {},
   "outputs": [],
   "source": []
  },
  {
   "cell_type": "code",
   "execution_count": null,
   "id": "818f8c56-4a0c-45f9-9baa-be25a2af29f1",
   "metadata": {},
   "outputs": [],
   "source": []
  },
  {
   "cell_type": "code",
   "execution_count": 9,
   "id": "42b4183a-08e8-4c19-96ec-82e1b90da93a",
   "metadata": {},
   "outputs": [],
   "source": []
  },
  {
   "cell_type": "code",
   "execution_count": null,
   "id": "70e2a2a2-4e55-4948-9566-b99d51001fc4",
   "metadata": {},
   "outputs": [],
   "source": []
  },
  {
   "cell_type": "code",
   "execution_count": null,
   "id": "25771c2e-22f1-457b-98d3-f56f96ce859a",
   "metadata": {},
   "outputs": [],
   "source": []
  },
  {
   "cell_type": "code",
   "execution_count": null,
   "id": "79702e9d-d204-4211-b180-3a725ddfabcf",
   "metadata": {},
   "outputs": [],
   "source": []
  },
  {
   "cell_type": "code",
   "execution_count": null,
   "id": "d92bea72-95e8-4839-bd98-0600c284f02e",
   "metadata": {},
   "outputs": [],
   "source": []
  },
  {
   "cell_type": "code",
   "execution_count": null,
   "id": "df74cb6d-b9b7-4f1c-b2ff-bd0713434bff",
   "metadata": {},
   "outputs": [],
   "source": []
  },
  {
   "cell_type": "code",
   "execution_count": null,
   "id": "ebd30e27-a41b-48a3-892b-b724083459c4",
   "metadata": {},
   "outputs": [],
   "source": []
  },
  {
   "cell_type": "code",
   "execution_count": null,
   "id": "aff34a6f-14df-4fd6-9d39-88784fb724d2",
   "metadata": {},
   "outputs": [],
   "source": []
  },
  {
   "cell_type": "code",
   "execution_count": null,
   "id": "dbc8f0eb-d778-46b5-9802-f0706d93af2a",
   "metadata": {},
   "outputs": [],
   "source": []
  },
  {
   "cell_type": "code",
   "execution_count": null,
   "id": "92c3ebd2-da16-4d6a-9e5d-648c0e35fd50",
   "metadata": {},
   "outputs": [],
   "source": []
  },
  {
   "cell_type": "code",
   "execution_count": null,
   "id": "5fc97aa7-acd6-473f-974b-00435b08313f",
   "metadata": {},
   "outputs": [],
   "source": []
  },
  {
   "cell_type": "code",
   "execution_count": null,
   "id": "ceab4e29-dfc2-416e-b07c-a7e1bc35fc34",
   "metadata": {},
   "outputs": [],
   "source": []
  },
  {
   "cell_type": "code",
   "execution_count": null,
   "id": "b11d27aa-3c0b-4ad9-8b56-205ddb6b08e2",
   "metadata": {},
   "outputs": [],
   "source": []
  },
  {
   "cell_type": "code",
   "execution_count": null,
   "id": "aa0ac590-4436-4e2b-b637-797d85355b68",
   "metadata": {},
   "outputs": [],
   "source": []
  },
  {
   "cell_type": "code",
   "execution_count": null,
   "id": "e8b6deeb-49de-40ae-9c2c-179710e98965",
   "metadata": {},
   "outputs": [],
   "source": []
  },
  {
   "cell_type": "code",
   "execution_count": null,
   "id": "c140a2f5-e93c-4cdf-b9e0-86d968639cff",
   "metadata": {},
   "outputs": [],
   "source": []
  },
  {
   "cell_type": "code",
   "execution_count": null,
   "id": "756d691c-0e59-4db1-af01-0fe2e750515c",
   "metadata": {},
   "outputs": [],
   "source": []
  },
  {
   "cell_type": "code",
   "execution_count": null,
   "id": "192ad11d-78ca-4235-8466-175446a6ad6a",
   "metadata": {},
   "outputs": [],
   "source": []
  },
  {
   "cell_type": "code",
   "execution_count": null,
   "id": "46d10014-208d-49d7-956c-f3a100df5d88",
   "metadata": {},
   "outputs": [],
   "source": []
  },
  {
   "cell_type": "code",
   "execution_count": null,
   "id": "79a22ec4-2c07-463f-82c8-67cb9c12cce2",
   "metadata": {},
   "outputs": [],
   "source": []
  },
  {
   "cell_type": "code",
   "execution_count": null,
   "id": "09eba177-526c-4292-a4ee-f1682de42d50",
   "metadata": {},
   "outputs": [],
   "source": []
  },
  {
   "cell_type": "code",
   "execution_count": null,
   "id": "afca2f20-521f-48b8-8d7c-2913bdb0aa94",
   "metadata": {},
   "outputs": [],
   "source": []
  },
  {
   "cell_type": "code",
   "execution_count": null,
   "id": "98c61838-47b8-4e2e-849a-0bd3eb06850f",
   "metadata": {},
   "outputs": [],
   "source": []
  },
  {
   "cell_type": "code",
   "execution_count": null,
   "id": "1962dbaf-d024-46c2-999a-60d7f07b78c9",
   "metadata": {},
   "outputs": [],
   "source": []
  },
  {
   "cell_type": "code",
   "execution_count": null,
   "id": "f060fcf1-cd7a-4445-b558-742c770bc80f",
   "metadata": {},
   "outputs": [],
   "source": []
  },
  {
   "cell_type": "code",
   "execution_count": null,
   "id": "0e7178eb-8163-4939-b55b-4aba0c15057d",
   "metadata": {},
   "outputs": [],
   "source": []
  },
  {
   "cell_type": "code",
   "execution_count": null,
   "id": "93cc18c0-0a4b-469a-9ba2-604efd817729",
   "metadata": {},
   "outputs": [],
   "source": []
  },
  {
   "cell_type": "code",
   "execution_count": null,
   "id": "55377322-2452-415a-9f9c-a2de484d15a8",
   "metadata": {},
   "outputs": [],
   "source": []
  },
  {
   "cell_type": "code",
   "execution_count": null,
   "id": "5169b96d-aab4-49f0-8a30-dd169b835809",
   "metadata": {},
   "outputs": [],
   "source": []
  },
  {
   "cell_type": "code",
   "execution_count": null,
   "id": "328af883-1886-422d-9531-f098e325954d",
   "metadata": {},
   "outputs": [],
   "source": []
  },
  {
   "cell_type": "code",
   "execution_count": null,
   "id": "702e1419-6eb1-444d-aec3-0e7f9d9f8fdd",
   "metadata": {},
   "outputs": [],
   "source": []
  },
  {
   "cell_type": "code",
   "execution_count": null,
   "id": "b349ee80-2061-4745-91cf-8aeecf11d1e6",
   "metadata": {},
   "outputs": [],
   "source": []
  },
  {
   "cell_type": "code",
   "execution_count": null,
   "id": "d89d0f08-b095-483f-842e-2d04325d688b",
   "metadata": {},
   "outputs": [],
   "source": []
  },
  {
   "cell_type": "code",
   "execution_count": null,
   "id": "2c6d90e9-7ca8-49d5-afa6-d4fa785e3c4e",
   "metadata": {},
   "outputs": [],
   "source": []
  },
  {
   "cell_type": "code",
   "execution_count": null,
   "id": "fc92c3ff-3975-43bf-86d9-fa8eae85f937",
   "metadata": {},
   "outputs": [],
   "source": []
  },
  {
   "cell_type": "code",
   "execution_count": null,
   "id": "b62c26d3-5a4a-401c-a167-c2a870db6a16",
   "metadata": {},
   "outputs": [],
   "source": []
  },
  {
   "cell_type": "code",
   "execution_count": null,
   "id": "4cfcdb78-a52d-41ae-bf9d-d19e9bbe0e0a",
   "metadata": {},
   "outputs": [],
   "source": []
  },
  {
   "cell_type": "code",
   "execution_count": null,
   "id": "d8c13203-1e6b-485c-a8e3-1f82f3c593cd",
   "metadata": {},
   "outputs": [],
   "source": []
  },
  {
   "cell_type": "code",
   "execution_count": null,
   "id": "c2846acd-b8dd-4d92-b0b4-a537f8b14a53",
   "metadata": {},
   "outputs": [],
   "source": []
  },
  {
   "cell_type": "code",
   "execution_count": null,
   "id": "7f973cd9-f4b1-4db8-9300-6e36c54e4f73",
   "metadata": {},
   "outputs": [],
   "source": []
  },
  {
   "cell_type": "code",
   "execution_count": null,
   "id": "f4d9e482-3bb7-4560-bbfb-b77803129f38",
   "metadata": {},
   "outputs": [],
   "source": []
  },
  {
   "cell_type": "code",
   "execution_count": null,
   "id": "6b5e3c73-4c59-4b97-9c11-54640e598dcd",
   "metadata": {},
   "outputs": [],
   "source": []
  },
  {
   "cell_type": "code",
   "execution_count": null,
   "id": "d43e2f31-4ed0-43f8-b9e1-faae84acb8ab",
   "metadata": {},
   "outputs": [],
   "source": []
  },
  {
   "cell_type": "code",
   "execution_count": null,
   "id": "9b876e55-d813-4415-9401-419375916ef6",
   "metadata": {},
   "outputs": [],
   "source": []
  },
  {
   "cell_type": "code",
   "execution_count": null,
   "id": "501b4539-5219-4010-a8a3-964f9f43e8e3",
   "metadata": {},
   "outputs": [],
   "source": []
  },
  {
   "cell_type": "code",
   "execution_count": null,
   "id": "79707934-553e-44dc-9729-1bd09ded0240",
   "metadata": {},
   "outputs": [],
   "source": []
  },
  {
   "cell_type": "code",
   "execution_count": null,
   "id": "210888df-1172-4f1a-87cb-22c166f162be",
   "metadata": {},
   "outputs": [],
   "source": []
  },
  {
   "cell_type": "code",
   "execution_count": null,
   "id": "1657b22a-17f9-46b8-a8f5-9825dadf0a7e",
   "metadata": {},
   "outputs": [],
   "source": []
  },
  {
   "cell_type": "code",
   "execution_count": null,
   "id": "4cac5f16-bf1e-4e0c-9610-29b202b6db04",
   "metadata": {},
   "outputs": [],
   "source": []
  },
  {
   "cell_type": "code",
   "execution_count": null,
   "id": "3cd6517c-b9cb-433c-a9f6-2de4bd3da394",
   "metadata": {},
   "outputs": [],
   "source": []
  },
  {
   "cell_type": "code",
   "execution_count": null,
   "id": "906bf312-ef9d-4d4b-b225-25e6d3989ab8",
   "metadata": {},
   "outputs": [],
   "source": []
  },
  {
   "cell_type": "code",
   "execution_count": null,
   "id": "81d11ade-b92b-4b93-987d-15a9257033e6",
   "metadata": {},
   "outputs": [],
   "source": []
  },
  {
   "cell_type": "code",
   "execution_count": null,
   "id": "f365bd97-8b33-449c-9529-b6fd49d4766c",
   "metadata": {},
   "outputs": [],
   "source": []
  },
  {
   "cell_type": "code",
   "execution_count": null,
   "id": "eea2f2c6-ae30-4917-bcff-3ab3758b4a34",
   "metadata": {},
   "outputs": [],
   "source": []
  },
  {
   "cell_type": "code",
   "execution_count": null,
   "id": "f15fe8c4-099d-40fa-b79d-267d73ade80a",
   "metadata": {},
   "outputs": [],
   "source": []
  },
  {
   "cell_type": "code",
   "execution_count": null,
   "id": "dff18663-0cc9-46d2-a754-bef2d1627706",
   "metadata": {},
   "outputs": [],
   "source": []
  },
  {
   "cell_type": "code",
   "execution_count": null,
   "id": "2ca3f31f-749f-4139-88cc-b809a97888d3",
   "metadata": {},
   "outputs": [],
   "source": []
  },
  {
   "cell_type": "code",
   "execution_count": null,
   "id": "35587be1-f1c0-4898-bafa-55ecbd3fefb8",
   "metadata": {},
   "outputs": [],
   "source": []
  },
  {
   "cell_type": "code",
   "execution_count": null,
   "id": "5e4743f4-6cbe-47b9-8ee5-812a9c664695",
   "metadata": {},
   "outputs": [],
   "source": []
  },
  {
   "cell_type": "code",
   "execution_count": null,
   "id": "08f26585-090d-4654-85e6-8ec10648971b",
   "metadata": {},
   "outputs": [],
   "source": []
  },
  {
   "cell_type": "code",
   "execution_count": null,
   "id": "a0d1adf9-8668-4fdf-8cd0-e8b8f0700b74",
   "metadata": {},
   "outputs": [],
   "source": []
  },
  {
   "cell_type": "code",
   "execution_count": null,
   "id": "79a972d0-9bbb-4788-967b-8094e13b8472",
   "metadata": {},
   "outputs": [],
   "source": []
  },
  {
   "cell_type": "code",
   "execution_count": null,
   "id": "0104092e-da50-4632-977f-f12f2a56c62e",
   "metadata": {},
   "outputs": [],
   "source": []
  },
  {
   "cell_type": "code",
   "execution_count": null,
   "id": "37c9da59-dc59-4c6e-be63-c1b72be708f3",
   "metadata": {},
   "outputs": [],
   "source": []
  },
  {
   "cell_type": "code",
   "execution_count": null,
   "id": "3b5d137d-933e-4af1-8e24-b748f48b0897",
   "metadata": {},
   "outputs": [],
   "source": []
  },
  {
   "cell_type": "code",
   "execution_count": null,
   "id": "9b80df2e-6f7a-4361-8e01-95ba135b4e9d",
   "metadata": {},
   "outputs": [],
   "source": []
  },
  {
   "cell_type": "code",
   "execution_count": null,
   "id": "3b497d09-64b7-41fb-97ff-b4100386c9f9",
   "metadata": {},
   "outputs": [],
   "source": []
  },
  {
   "cell_type": "code",
   "execution_count": null,
   "id": "dc0c90eb-4949-4a02-b8d1-dd5d4d5a58f2",
   "metadata": {},
   "outputs": [],
   "source": []
  },
  {
   "cell_type": "code",
   "execution_count": null,
   "id": "db99672c-8cd6-4dac-8586-d05afe9d0103",
   "metadata": {},
   "outputs": [],
   "source": []
  },
  {
   "cell_type": "code",
   "execution_count": null,
   "id": "aaaca2f2-17bc-4c3b-b2ed-3dbcbb49f27a",
   "metadata": {},
   "outputs": [],
   "source": []
  },
  {
   "cell_type": "code",
   "execution_count": null,
   "id": "8b50b327-8057-47d2-ba32-258c53ed23bf",
   "metadata": {},
   "outputs": [],
   "source": []
  },
  {
   "cell_type": "code",
   "execution_count": null,
   "id": "97cc6d7b-2079-4870-b4c5-da2114254a47",
   "metadata": {},
   "outputs": [],
   "source": []
  },
  {
   "cell_type": "code",
   "execution_count": null,
   "id": "38f8c2d6-046f-4ed9-a20a-8858f5295f12",
   "metadata": {},
   "outputs": [],
   "source": [
    "\n"
   ]
  },
  {
   "cell_type": "code",
   "execution_count": null,
   "id": "54ae53e0-ef45-48bb-9ece-9feb53c873e3",
   "metadata": {},
   "outputs": [],
   "source": []
  },
  {
   "cell_type": "code",
   "execution_count": null,
   "id": "18696221-ec87-4385-a198-1e6a852d2d37",
   "metadata": {},
   "outputs": [],
   "source": []
  },
  {
   "cell_type": "code",
   "execution_count": null,
   "id": "ec7d5068-f920-4817-8136-03d7070b7d84",
   "metadata": {},
   "outputs": [],
   "source": []
  },
  {
   "cell_type": "code",
   "execution_count": null,
   "id": "22666697-a77a-4e00-9827-6a8241cbedb4",
   "metadata": {},
   "outputs": [],
   "source": []
  },
  {
   "cell_type": "code",
   "execution_count": 7,
   "id": "af6215b6-c4b1-4c61-8426-403af940146d",
   "metadata": {},
   "outputs": [
    {
     "data": {
      "text/html": [
       "<div>\n",
       "<style scoped>\n",
       "    .dataframe tbody tr th:only-of-type {\n",
       "        vertical-align: middle;\n",
       "    }\n",
       "\n",
       "    .dataframe tbody tr th {\n",
       "        vertical-align: top;\n",
       "    }\n",
       "\n",
       "    .dataframe thead th {\n",
       "        text-align: right;\n",
       "    }\n",
       "</style>\n",
       "<table border=\"1\" class=\"dataframe\">\n",
       "  <thead>\n",
       "    <tr style=\"text-align: right;\">\n",
       "      <th></th>\n",
       "      <th>customer_id</th>\n",
       "      <th>name</th>\n",
       "      <th>email</th>\n",
       "      <th>phone_number</th>\n",
       "      <th>city</th>\n",
       "      <th>registration_date</th>\n",
       "    </tr>\n",
       "  </thead>\n",
       "  <tbody>\n",
       "    <tr>\n",
       "      <th>0</th>\n",
       "      <td>V9NI97D1</td>\n",
       "      <td>Caitlin Braun</td>\n",
       "      <td>caitlinbraun941@yahoo.com</td>\n",
       "      <td>528-661-4506</td>\n",
       "      <td>Robertsview</td>\n",
       "      <td>2021-06-13</td>\n",
       "    </tr>\n",
       "    <tr>\n",
       "      <th>1</th>\n",
       "      <td>NNV7CWF1</td>\n",
       "      <td>John Brown</td>\n",
       "      <td>johnbrown577@yahoo.co</td>\n",
       "      <td>485-2036208</td>\n",
       "      <td>Combston</td>\n",
       "      <td>2023-11-23</td>\n",
       "    </tr>\n",
       "    <tr>\n",
       "      <th>2</th>\n",
       "      <td>EOKPZD9O</td>\n",
       "      <td>Barbara Walls</td>\n",
       "      <td>barbarawalls@gmail.org</td>\n",
       "      <td>541 570 3780</td>\n",
       "      <td>New Mary</td>\n",
       "      <td>2025-06-17</td>\n",
       "    </tr>\n",
       "    <tr>\n",
       "      <th>3</th>\n",
       "      <td>6WHZXW6T</td>\n",
       "      <td>Lynn Coleman</td>\n",
       "      <td>lynncoleman@yahoo.org</td>\n",
       "      <td>(801) 750-9883</td>\n",
       "      <td>Donnaburgh</td>\n",
       "      <td>2024-01-30</td>\n",
       "    </tr>\n",
       "    <tr>\n",
       "      <th>4</th>\n",
       "      <td>RCES5GL5</td>\n",
       "      <td>James Stevenson</td>\n",
       "      <td>jamesstevenson@gmail.co</td>\n",
       "      <td>(211)8584312</td>\n",
       "      <td>North Morgan</td>\n",
       "      <td>2022-12-07</td>\n",
       "    </tr>\n",
       "    <tr>\n",
       "      <th>5</th>\n",
       "      <td>SBHTZX40</td>\n",
       "      <td>Christina Woods</td>\n",
       "      <td>christinawoods821@outlook.net</td>\n",
       "      <td>(875) 599-8733</td>\n",
       "      <td>New Richard</td>\n",
       "      <td>2022-03-07</td>\n",
       "    </tr>\n",
       "    <tr>\n",
       "      <th>6</th>\n",
       "      <td>7HVNEL8O</td>\n",
       "      <td>Mark Crawford</td>\n",
       "      <td>markcrawford@hotmail6.co</td>\n",
       "      <td>122-973-7273</td>\n",
       "      <td>Sherryland</td>\n",
       "      <td>2024-02-02</td>\n",
       "    </tr>\n",
       "    <tr>\n",
       "      <th>7</th>\n",
       "      <td>X53CDDJX</td>\n",
       "      <td>Steven Fox</td>\n",
       "      <td>stevenfox@outlook.us</td>\n",
       "      <td>925 798 4507</td>\n",
       "      <td>Carpenterville</td>\n",
       "      <td>2023-10-22</td>\n",
       "    </tr>\n",
       "    <tr>\n",
       "      <th>8</th>\n",
       "      <td>7QBSLAS9</td>\n",
       "      <td>Melissa Garcia</td>\n",
       "      <td>melissagarcia@gmail.com</td>\n",
       "      <td>(398)6085436</td>\n",
       "      <td>south jacobview</td>\n",
       "      <td>2025-04-24</td>\n",
       "    </tr>\n",
       "    <tr>\n",
       "      <th>9</th>\n",
       "      <td>RVCTGZXG</td>\n",
       "      <td>Robert Johnson</td>\n",
       "      <td>robertjohnson@yahoo.us</td>\n",
       "      <td>+1 246 529 8356</td>\n",
       "      <td>Samuelmouth</td>\n",
       "      <td>2023-01-12</td>\n",
       "    </tr>\n",
       "  </tbody>\n",
       "</table>\n",
       "</div>"
      ],
      "text/plain": [
       "  customer_id             name                          email  \\\n",
       "0    V9NI97D1    Caitlin Braun      caitlinbraun941@yahoo.com   \n",
       "1    NNV7CWF1       John Brown          johnbrown577@yahoo.co   \n",
       "2    EOKPZD9O    Barbara Walls         barbarawalls@gmail.org   \n",
       "3    6WHZXW6T     Lynn Coleman          lynncoleman@yahoo.org   \n",
       "4    RCES5GL5  James Stevenson        jamesstevenson@gmail.co   \n",
       "5    SBHTZX40  Christina Woods  christinawoods821@outlook.net   \n",
       "6    7HVNEL8O    Mark Crawford       markcrawford@hotmail6.co   \n",
       "7    X53CDDJX       Steven Fox           stevenfox@outlook.us   \n",
       "8    7QBSLAS9   Melissa Garcia        melissagarcia@gmail.com   \n",
       "9    RVCTGZXG   Robert Johnson         robertjohnson@yahoo.us   \n",
       "\n",
       "      phone_number             city registration_date  \n",
       "0     528-661-4506      Robertsview        2021-06-13  \n",
       "1      485-2036208         Combston        2023-11-23  \n",
       "2     541 570 3780         New Mary        2025-06-17  \n",
       "3   (801) 750-9883       Donnaburgh        2024-01-30  \n",
       "4     (211)8584312     North Morgan        2022-12-07  \n",
       "5   (875) 599-8733      New Richard        2022-03-07  \n",
       "6     122-973-7273       Sherryland        2024-02-02  \n",
       "7     925 798 4507   Carpenterville        2023-10-22  \n",
       "8     (398)6085436  south jacobview        2025-04-24  \n",
       "9  +1 246 529 8356      Samuelmouth        2023-01-12  "
      ]
     },
     "execution_count": 7,
     "metadata": {},
     "output_type": "execute_result"
    }
   ],
   "source": [
    "df"
   ]
  },
  {
   "cell_type": "code",
   "execution_count": null,
   "id": "5e1fdaa6-bdd4-4655-bd35-a384f911942b",
   "metadata": {},
   "outputs": [],
   "source": []
  },
  {
   "cell_type": "code",
   "execution_count": null,
   "id": "dfa6b7ed-8c32-4b64-993f-697902020d64",
   "metadata": {},
   "outputs": [],
   "source": []
  },
  {
   "cell_type": "code",
   "execution_count": null,
   "id": "40750ba7-871c-42fe-a670-cabe7725b202",
   "metadata": {},
   "outputs": [],
   "source": []
  },
  {
   "cell_type": "code",
   "execution_count": null,
   "id": "c74b1979-df5b-475b-ad44-2378ce6d19df",
   "metadata": {},
   "outputs": [],
   "source": []
  },
  {
   "cell_type": "code",
   "execution_count": null,
   "id": "98d92f13-dfa9-4b3d-8667-331e51b1bf58",
   "metadata": {},
   "outputs": [],
   "source": []
  },
  {
   "cell_type": "code",
   "execution_count": null,
   "id": "dbc0c7f5-8e23-4998-a541-697cd1ecf20f",
   "metadata": {},
   "outputs": [],
   "source": []
  },
  {
   "cell_type": "code",
   "execution_count": null,
   "id": "8c310c8f-f47d-4fcc-8d00-e3845caba163",
   "metadata": {},
   "outputs": [],
   "source": []
  },
  {
   "cell_type": "code",
   "execution_count": null,
   "id": "d779b0da-62a8-4fa3-a15d-e2134a258a07",
   "metadata": {},
   "outputs": [],
   "source": []
  },
  {
   "cell_type": "code",
   "execution_count": null,
   "id": "f48b9c21-00c1-4c9e-a782-43aaae14cd1a",
   "metadata": {},
   "outputs": [],
   "source": []
  },
  {
   "cell_type": "code",
   "execution_count": null,
   "id": "cc5140f2-ccc5-42db-a9ef-e34638f48c8d",
   "metadata": {},
   "outputs": [],
   "source": []
  },
  {
   "cell_type": "code",
   "execution_count": null,
   "id": "4b0c3b55-7003-4485-9a85-23ec29844cff",
   "metadata": {},
   "outputs": [],
   "source": []
  },
  {
   "cell_type": "code",
   "execution_count": null,
   "id": "9289d1b7-69d8-433e-89c8-cc1dc142e455",
   "metadata": {},
   "outputs": [],
   "source": []
  },
  {
   "cell_type": "code",
   "execution_count": 8,
   "id": "8ad31bca-c592-4c3e-afed-6cea5acbf7de",
   "metadata": {},
   "outputs": [],
   "source": [
    "# if number_length >= 10 and phone_number.startswith(\"1\"):\n",
    "#     eleventh_digit = phone_number[0:1] # 1\n",
    "#     phone_number = phone_number.replace(eleventh_digit, \"\").strip()\n",
    "#     print(f\"Formatted Phone Number: {phone_number}\")\n",
    "\n",
    "# elif number_length < 10 or number_length > 10 and not phone_number.startswith(\"1\"):\n",
    "#     print(f\"Phone Number {phone_number} is not a valid phone number\")\n",
    "#     invalid_phone_number_count = invalid_phone_number_count + 1\n",
    "\n",
    "# print(f\"Invalid/ malformed phone numbers: {invalid_phone_number_count}\") # expect 2"
   ]
  }
 ],
 "metadata": {
  "kernelspec": {
   "display_name": "Python 3 (ipykernel)",
   "language": "python",
   "name": "python3"
  },
  "language_info": {
   "codemirror_mode": {
    "name": "ipython",
    "version": 3
   },
   "file_extension": ".py",
   "mimetype": "text/x-python",
   "name": "python",
   "nbconvert_exporter": "python",
   "pygments_lexer": "ipython3",
   "version": "3.13.2"
  }
 },
 "nbformat": 4,
 "nbformat_minor": 5
}
