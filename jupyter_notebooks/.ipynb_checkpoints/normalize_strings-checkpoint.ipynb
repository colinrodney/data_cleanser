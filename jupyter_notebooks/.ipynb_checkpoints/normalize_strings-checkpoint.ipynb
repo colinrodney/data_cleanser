{
 "cells": [
  {
   "cell_type": "code",
   "execution_count": null,
   "id": "7b4e1918-9028-495e-8f39-b96c2c7a87c6",
   "metadata": {},
   "outputs": [],
   "source": [
    "# remove all non-digit chars > df[col] = df[col].str.replace(r'\\W', '', regex=True)"
   ]
  },
  {
   "cell_type": "code",
   "execution_count": null,
   "id": "ddfcf988-cdb3-425b-b584-2227b67bf247",
   "metadata": {},
   "outputs": [],
   "source": [
    "# # Strip leading/trailing whitespace and fix casing\n",
    "def normalize_strings(df):\n",
    "\n",
    "    '''Note: df.select_dtypes returns a subset of columns\n",
    "    in DataFrame based on column data type (dtype)\n",
    "    SOURCE: https://pandas.pydata.org/docs/reference/api/pandas.DataFrame.select_dtypes.html'''\n",
    "\n",
    "    for col in df.select_dtypes(include='object'):\n",
    "        df[col] = df[col].astype(str).str.strip()\n",
    "\n",
    "        # regex pattern removes ANY characters that are not letters and/or numbers\n",
    "        # works to remove replacement character (black diamond w/ white question mark in excel)\n",
    "        df[col] = df[col].str.replace(r'[^a-zA-Z0-9]', '', regex=True)\n",
    "    return df"
   ]
  }
 ],
 "metadata": {
  "kernelspec": {
   "display_name": "Python 3 (ipykernel)",
   "language": "python",
   "name": "python3"
  },
  "language_info": {
   "codemirror_mode": {
    "name": "ipython",
    "version": 3
   },
   "file_extension": ".py",
   "mimetype": "text/x-python",
   "name": "python",
   "nbconvert_exporter": "python",
   "pygments_lexer": "ipython3",
   "version": "3.13.2"
  }
 },
 "nbformat": 4,
 "nbformat_minor": 5
}
