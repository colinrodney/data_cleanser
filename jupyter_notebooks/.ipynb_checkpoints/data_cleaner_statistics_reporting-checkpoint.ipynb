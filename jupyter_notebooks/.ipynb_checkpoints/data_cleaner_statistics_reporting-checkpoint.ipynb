{
 "cells": [
  {
   "cell_type": "code",
   "execution_count": 1,
   "id": "fe94b6ae-1353-4641-a200-0bf96c056303",
   "metadata": {},
   "outputs": [],
   "source": [
    "import pandas as pd"
   ]
  },
  {
   "cell_type": "code",
   "execution_count": 16,
   "id": "e4b53b2f-1887-4c42-9915-6b97099d7788",
   "metadata": {},
   "outputs": [
    {
     "name": "stdout",
     "output_type": "stream",
     "text": [
      "Boolean Series indicating duplicates:'0    False\n",
      "1    False\n",
      "2    False\n",
      "3     True\n",
      "4    False\n",
      "5     True\n",
      "dtype: bool\n",
      "\n",
      "Pre-cleansing statistics: \n",
      "Number of duplicate rows: 2\n",
      "Total number of rows : 6\n",
      "Percentage of duplicate rows: 33.33%\n",
      "\n"
     ]
    }
   ],
   "source": [
    "# Create a sample DataFrame\n",
    "data = {'col1': [1, 2, 3, 1, 4, 2],\n",
    "        'col2': ['A', 'B', 'C', 'A', 'D', 'B']}\n",
    "df = pd.DataFrame(data)\n",
    "\n",
    "# Identify duplicate rows (marking subsequent duplicates as True)\n",
    "duplicates = df.duplicated()\n",
    "\n",
    "# Count the number of duplicate rows\n",
    "num_duplicates = duplicates.sum()\n",
    "\n",
    "# Get the total number of rows\n",
    "total_rows = len(df)\n",
    "\n",
    "# Calculate the percentage of duplicate rows\n",
    "percentage_duplicates = (num_duplicates / total_rows) * 100\n",
    "\n",
    "with open(\"report_file.txt\", \"a\") as report_file:\n",
    "  report_file.write(\n",
    "      # f\"Original DataFrame:\\n{df}\\n\"\n",
    "    f\"Boolean Series indicating duplicates:'{duplicates}\" + \"\\n\\n\"\n",
    "\n",
    "    f\"Pre-cleansing statistics: \" + \"\\n\"\n",
    "    f\"Number of duplicate rows: {num_duplicates}\" + \"\\n\"\n",
    "    f\"Total number of rows : {total_rows}\" + \"\\n\"\n",
    "    f\"Percentage of duplicate rows: {percentage_duplicates:.2f}%\" + \"\\n\"\n",
    "  )\n",
    "\n",
    "#open and read the file after the appending:\n",
    "with open(\"report_file.txt\") as report_file:\n",
    "  print(report_file.read())\n",
    "\n",
    "# print(f\"Original DataFrame:\\n{df}\\n\")\n",
    "# print(f\"Boolean Series indicating duplicates:\\n{duplicates}\\n\")\n",
    "# print(f\"Number of duplicate rows: {num_duplicates}\")\n",
    "# print(f\"Total number of rows: {total_rows}\")\n",
    "# print(f\"Percentage of duplicate rows: {percentage_duplicates:.2f}%\")\n"
   ]
  },
  {
   "cell_type": "code",
   "execution_count": null,
   "id": "8783532f-0d4d-45a1-b0a3-a9a24a389352",
   "metadata": {},
   "outputs": [],
   "source": []
  }
 ],
 "metadata": {
  "kernelspec": {
   "display_name": "Python 3 (ipykernel)",
   "language": "python",
   "name": "python3"
  },
  "language_info": {
   "codemirror_mode": {
    "name": "ipython",
    "version": 3
   },
   "file_extension": ".py",
   "mimetype": "text/x-python",
   "name": "python",
   "nbconvert_exporter": "python",
   "pygments_lexer": "ipython3",
   "version": "3.13.2"
  }
 },
 "nbformat": 4,
 "nbformat_minor": 5
}
